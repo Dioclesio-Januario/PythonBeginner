{
 "cells": [
  {
   "cell_type": "markdown",
   "id": "3ed686a5",
   "metadata": {},
   "source": [
    "# Repetições\n",
    "- Utilizadas para executar a mesma parte de um programa várias vezes, normalmente dependendo de uma condição."
   ]
  },
  {
   "cell_type": "markdown",
   "id": "27c6bc79",
   "metadata": {},
   "source": [
    "## while\n",
    "- Repete um bloco enquanto a condição for verdadeira."
   ]
  },
  {
   "cell_type": "code",
   "execution_count": 1,
   "id": "d87ef5b2",
   "metadata": {},
   "outputs": [
    {
     "name": "stdout",
     "output_type": "stream",
     "text": [
      "1\n",
      "2\n",
      "3\n",
      "4\n",
      "5\n",
      "6\n",
      "7\n",
      "8\n",
      "9\n",
      "10\n"
     ]
    }
   ],
   "source": [
    "# Incrementar o valor de x após cada print até 10 (Contar até 10).\n",
    "x = 1\n",
    "print (x)\n",
    "\n",
    "x = x + 1\n",
    "print (x)\n",
    "\n",
    "x = x + 1\n",
    "print (x)\n",
    "\n",
    "x = x + 1\n",
    "print (x)\n",
    "\n",
    "x = x + 1\n",
    "print (x)\n",
    "\n",
    "x = x + 1\n",
    "print (x)\n",
    "\n",
    "x = x + 1\n",
    "print (x)\n",
    "\n",
    "x = x + 1\n",
    "print (x)\n",
    "\n",
    "x = x + 1\n",
    "print (x)\n",
    "\n",
    "x = x + 1\n",
    "print (x)"
   ]
  },
  {
   "cell_type": "code",
   "execution_count": 2,
   "id": "3ae4166e",
   "metadata": {},
   "outputs": [
    {
     "name": "stdout",
     "output_type": "stream",
     "text": [
      "1\n",
      "2\n",
      "3\n",
      "4\n",
      "5\n",
      "6\n",
      "7\n",
      "8\n",
      "9\n",
      "10\n"
     ]
    }
   ],
   "source": [
    "# Incrementar o valor de x após cada print até 10 (Contar até 10).\n",
    "x = 1\n",
    "\n",
    "while x <= 10:\n",
    "    print (x)\n",
    "    x = x + 1"
   ]
  },
  {
   "cell_type": "code",
   "execution_count": 9,
   "id": "13bd429e",
   "metadata": {},
   "outputs": [
    {
     "name": "stdout",
     "output_type": "stream",
     "text": [
      "10\n",
      "9\n",
      "8\n",
      "7\n",
      "6\n",
      "5\n",
      "4\n",
      "3\n",
      "2\n",
      "1\n",
      "0\n",
      "Fogo!\n"
     ]
    }
   ],
   "source": [
    "# Escreve a contagem regressiva do lançamento de um foguete.\n",
    "x = 10\n",
    "\n",
    "while x >= 0:\n",
    "    print (x)\n",
    "    x = x - 1\n",
    "print (\"Fogo!\")"
   ]
  },
  {
   "cell_type": "markdown",
   "id": "452eb872",
   "metadata": {},
   "source": [
    "## Contadores"
   ]
  },
  {
   "cell_type": "code",
   "execution_count": 16,
   "id": "21cfc2fd",
   "metadata": {},
   "outputs": [
    {
     "name": "stdout",
     "output_type": "stream",
     "text": [
      "Digite o último número a imprimir: 5\n",
      "1\n",
      "2\n",
      "3\n",
      "4\n",
      "5\n"
     ]
    }
   ],
   "source": [
    "# Pergunta o último número a imprimir, e faz a contagem.\n",
    "fim = int(input(\"Digite o último número a imprimir: \"))\n",
    "x = 1\n",
    "\n",
    "while x <= fim:\n",
    "    print (x)\n",
    "    x = x + 1"
   ]
  },
  {
   "cell_type": "code",
   "execution_count": 20,
   "id": "1a4ca3f4",
   "metadata": {},
   "outputs": [
    {
     "name": "stdout",
     "output_type": "stream",
     "text": [
      "Digite o número contagem: 3\n",
      "3\n",
      "2\n",
      "1\n",
      "0\n",
      "Fogo!\n"
     ]
    }
   ],
   "source": [
    "# Pergunta o número do início da contagem.\n",
    "inicio = int(input(\"Digite o número contagem: \"))\n",
    "x = inicio\n",
    "\n",
    "while x >= 0:\n",
    "    print(x)\n",
    "    x = x - 1\n",
    "print (\"Fogo!\")"
   ]
  },
  {
   "cell_type": "code",
   "execution_count": 1,
   "id": "5270a781",
   "metadata": {},
   "outputs": [
    {
     "name": "stdout",
     "output_type": "stream",
     "text": [
      "Digite o último número a imprimir: 10\n",
      "0\n",
      "2\n",
      "4\n",
      "6\n",
      "8\n",
      "10\n"
     ]
    }
   ],
   "source": [
    "# Pergunta o último número a imprimir, e imprime apenas os pares.\n",
    "fim = int(input(\"Digite o último número a imprimir: \"))\n",
    "x = 0\n",
    "\n",
    "while x <= fim:\n",
    "    if x % 2 == 0:\n",
    "        print (x)\n",
    "    x = x + 1"
   ]
  },
  {
   "cell_type": "code",
   "execution_count": null,
   "id": "25d208ca",
   "metadata": {},
   "outputs": [
    {
     "name": "stdout",
     "output_type": "stream",
     "text": [
      "Digite o último número a imprimir: 10\n",
      "0\n",
      "2\n",
      "4\n",
      "6\n",
      "8\n",
      "10\n"
     ]
    }
   ],
   "source": [
    "# Pergunta o último número a imprimir, e imprime apenas os pares.\n",
    "fim = int(input(\"Digite o último número a imprimir: \"))\n",
    "x = 0\n",
    "\n",
    "while x <= fim:\n",
    "    print (x)\n",
    "    x = x + 2"
   ]
  },
  {
   "cell_type": "code",
   "execution_count": 1,
   "id": "e55063c5",
   "metadata": {},
   "outputs": [
    {
     "name": "stdout",
     "output_type": "stream",
     "text": [
      "Tabuada de: 3\n",
      "Digite o início da tabuada: 1\n",
      "Digite o fim da tabuada: 5\n",
      "3 vezes 1 = 3\n",
      "3 vezes 2 = 6\n",
      "3 vezes 3 = 9\n",
      "3 vezes 4 = 12\n",
      "3 vezes 5 = 15\n"
     ]
    }
   ],
   "source": [
    "# Constrói a tabuada de multiplicação de um número inserido (Define o início e fim da tabuada).\n",
    "n = int(input(\"Tabuada de: \"))\n",
    "x = int(input(\"Digite o início da tabuada: \"))\n",
    "fim = int(input(\"Digite o fim da tabuada: \"))\n",
    "\n",
    "while x <= fim:\n",
    "    print (\"%d vezes %d = %d\" %(n, x, (n * x)))\n",
    "    x = x + 1"
   ]
  },
  {
   "cell_type": "code",
   "execution_count": 2,
   "id": "0b44629f",
   "metadata": {},
   "outputs": [
    {
     "name": "stdout",
     "output_type": "stream",
     "text": [
      "Resposta da questão 1: b\n",
      "Resposta da questão 2: a\n",
      "Resposta da questão 3: d\n",
      "O aluno fez 3 ponto(s)\n"
     ]
    }
   ],
   "source": [
    "# Corrige teste de múltipla escolha com três questões (um ponto a cada resposta correta).\n",
    "# A resposta da primeira é “b”; da segunda, “a”; e da terceira, “d”.\n",
    "\n",
    "pontos = 0\n",
    "questão = 1\n",
    "\n",
    "while questão <= 3:\n",
    "    resposta = input(\"Resposta da questão %d: \" % questão)\n",
    "    if questão == 1 and resposta == \"b\" or resposta == \"B\":\n",
    "        pontos = pontos + 1\n",
    "    if questão == 2 and resposta == \"a\" or resposta == \"A\":\n",
    "        pontos = pontos + 1\n",
    "    if questão == 3 and resposta == \"d\" or resposta == \"D\":\n",
    "        pontos = pontos + 1\n",
    "    questão +=1\n",
    "\n",
    "print(\"O aluno fez %d ponto(s)\" % pontos)"
   ]
  },
  {
   "cell_type": "markdown",
   "id": "0bc59973",
   "metadata": {},
   "source": [
    "## Acumuladores\n",
    "- Nem só de contadores precisamos. Em programas para calcular o total de uma soma, por exemplo, precisaremos de acumuladores.\n",
    "- A diferença com o contador é que nos contadores o valor adicionado é constante e, nos acumuladores, variável."
   ]
  },
  {
   "cell_type": "code",
   "execution_count": 4,
   "id": "b840a43a",
   "metadata": {},
   "outputs": [
    {
     "name": "stdout",
     "output_type": "stream",
     "text": [
      "Digite o número 1:1\n",
      "Digite o número 2:1\n",
      "Digite o número 3:1\n",
      "Digite o número 4:1\n",
      "Digite o número 5:1\n",
      "Digite o número 6:1\n",
      "Digite o número 7:1\n",
      "Digite o número 8:1\n",
      "Digite o número 9:1\n",
      "Digite o número 10:1\n",
      "Soma: 10\n"
     ]
    }
   ],
   "source": [
    "# Calcula a soma de 10 números. \n",
    "n = 1                                             # Quantidade de nrs a somar (começa em 1).\n",
    "soma = 0\n",
    "\n",
    "while n <= 10:                                    # Enquanto quantidade de números somados <= 10, executa o bloco.\n",
    "    x = int(input(\"Digite o número %d:\"%n))\n",
    "    soma = soma + x                               # Soma os nrs inseridos em x.\n",
    "    n = n + 1                                     # Soma a qtde de nrs inseridos.\n",
    "    \n",
    "print(\"Soma: %d\"%soma)"
   ]
  },
  {
   "cell_type": "code",
   "execution_count": 3,
   "id": "c61621f1",
   "metadata": {},
   "outputs": [
    {
     "name": "stdout",
     "output_type": "stream",
     "text": [
      "Digite o quantidade de testes: 2\n",
      "Digite a nota do teste 1: 14\n",
      "Digite a nota do teste 2: 12\n",
      "Média: 13.0\n"
     ]
    }
   ],
   "source": [
    "# Calcula a média de testes digitados pelo usuário.\n",
    "n = 1\n",
    "soma = 0\n",
    "testes = int(input(\"Digite o quantidade de testes: \"))\n",
    "\n",
    "while n <= testes:\n",
    "    x = float(input(\"Digite a nota do teste %d: \"%n))\n",
    "    soma = soma + x\n",
    "    n = n + 1\n",
    "\n",
    "print (\"Média: %0.1f\"%(soma/testes))"
   ]
  },
  {
   "cell_type": "code",
   "execution_count": 44,
   "id": "91261e79",
   "metadata": {},
   "outputs": [
    {
     "name": "stdout",
     "output_type": "stream",
     "text": [
      "Digite o depósito inicial (MZN): 10000\n",
      "Digite o juros da poupança (%): 10\n",
      "Digite o depósito mensal: 1000\n",
      "Jurus de 10\n",
      "Mês 1 acumulou: 12000.00 MZN\n",
      "Mês 2 acumulou: 14200.00 MZN\n",
      "Mês 3 acumulou: 16620.00 MZN\n",
      "Mês 4 acumulou: 19282.00 MZN\n",
      "Mês 5 acumulou: 22210.20 MZN\n",
      "Mês 6 acumulou: 25431.22 MZN\n",
      "Mês 7 acumulou: 28974.34 MZN\n",
      "Mês 8 acumulou: 32871.78 MZN\n",
      "Mês 9 acumulou: 37158.95 MZN\n",
      "Mês 10 acumulou: 41874.85 MZN\n",
      "Mês 11 acumulou: 47062.33 MZN\n",
      "Mês 12 acumulou: 52768.57 MZN\n",
      "Mês 13 acumulou: 59045.42 MZN\n",
      "Mês 14 acumulou: 65949.97 MZN\n",
      "Mês 15 acumulou: 73544.96 MZN\n",
      "Mês 16 acumulou: 81899.46 MZN\n",
      "Mês 17 acumulou: 91089.41 MZN\n",
      "Mês 18 acumulou: 101198.35 MZN\n",
      "Mês 19 acumulou: 112318.18 MZN\n",
      "Mês 20 acumulou: 124550.00 MZN\n",
      "Mês 21 acumulou: 138005.00 MZN\n",
      "Mês 22 acumulou: 152805.50 MZN\n",
      "Mês 23 acumulou: 169086.05 MZN\n",
      "Mês 24 acumulou: 186994.65 MZN\n",
      "Valor final: 186994.7 MZN\n"
     ]
    }
   ],
   "source": [
    "# Escreva um programa que pergunte o depósito inicial, depósito mensal e a taxa de juros de uma poupança.\n",
    "# Exiba os valores mês a mês para os 24 primeiros meses. Escreva o total ganho com juros no período.\n",
    "\n",
    "x = float(input(\"Digite o depósito inicial (MZN): \"))\n",
    "jurus = float(input(\"Digite o juros da poupança (%): \"))\n",
    "deposito = float(input(\"Digite o depósito mensal: \"))\n",
    "mes = 0\n",
    "\n",
    "while mes <= 23:\n",
    "    x = x + x*(jurus/100) + deposito\n",
    "    mes = mes + 1\n",
    "    print (\"Mês %d acumulou: %0.2f MZN\"%(mes, x))\n",
    "\n",
    "print (\"Valor final: %0.1f MZN\"%x)"
   ]
  },
  {
   "cell_type": "markdown",
   "id": "a547c665",
   "metadata": {},
   "source": [
    "##  Interrompendo a repetição\n",
    "- Embora muito útil, a estrutura while só verifica sua condição de parada no início de cada repetição.\n",
    "- Dependendo do problema, a habilidade de terminar while dentro do bloco a repetir pode ser interessante.\n",
    "- A instrução break é utilizada para interromper a execução de while independentemente do valor atual de sua condição."
   ]
  },
  {
   "cell_type": "code",
   "execution_count": 49,
   "id": "7c1e375a",
   "metadata": {},
   "outputs": [
    {
     "name": "stdout",
     "output_type": "stream",
     "text": [
      "Digite um número a somar ou 0 para exibir a soma:1\n",
      "Digite um número a somar ou 0 para exibir a soma:1\n",
      "Digite um número a somar ou 0 para exibir a soma:0\n",
      "A soma é: 2\n"
     ]
    }
   ],
   "source": [
    "# Lê valores para sempre, até que se digite 0 (zero) para parar.\n",
    "s = 0\n",
    "\n",
    "while True:                                                                # Executa o bloco para sempre.\n",
    "    v = int(input(\"Digite um número a somar ou 0 para exibir a soma:\"))\n",
    "    if v == 0:                                                             # Se inserir 0, pára a soma.\n",
    "        break\n",
    "    s = s + v\n",
    "\n",
    "print(\"A soma é: %d\"%s)"
   ]
  },
  {
   "cell_type": "code",
   "execution_count": 57,
   "id": "ff6b1a6f",
   "metadata": {},
   "outputs": [
    {
     "name": "stdout",
     "output_type": "stream",
     "text": [
      "Digite um número: 10\n",
      "Digite um número: 10\n",
      "Digite um número: 10\n",
      "Digite um número: 10\n",
      "Digite um número: 0\n",
      "Quantidade de nrs digitados: 4\n",
      "Soma = 40\n",
      "Média = 10.00\n"
     ]
    }
   ],
   "source": [
    "# Escreva um programa que leia números inteiros do teclado. O programa deve ler os números até que o usuário digite 0 (zero).\n",
    "# No final da execução, exiba a quantidade de números digitados, assim como a soma e a média aritmética.\n",
    "n = 1\n",
    "soma = 0\n",
    "\n",
    "while True:\n",
    "    x = int(input(\"Digite um número: \"))\n",
    "    if x == 0:\n",
    "        break\n",
    "    n = n + 1\n",
    "    soma = soma + x\n",
    "\n",
    "print (\"Quantidade de nrs digitados: %d\"%(n-1))\n",
    "print (\"Soma = %d\"%soma)\n",
    "print (\"Média = %0.2f\"%(soma/(n-1)))"
   ]
  },
  {
   "cell_type": "code",
   "execution_count": 4,
   "id": "45939ab4",
   "metadata": {},
   "outputs": [
    {
     "name": "stdout",
     "output_type": "stream",
     "text": [
      "Digite o código do produto: 4\n",
      "Digite a quantidade a comprar: 2\n",
      "Digite o código do produto: 2\n",
      "Digite a quantidade a comprar: 14\n",
      "Digite o código do produto: 0\n",
      "Digite a quantidade a comprar: 0\n",
      "Valor a pagar: 28.00 MZN\n"
     ]
    }
   ],
   "source": [
    "# Controla uma máquina registradora. Recebe o código do produto e a quantidade comprada.\n",
    "# Seu programa deve exibir o total das compras depois que o usuário digitar 0.\n",
    "# Qualquer outro código deve gerar a mensagem de erro “Código inválido”.\n",
    "total = 0\n",
    "\n",
    "while True:\n",
    "    codigo = int(input(\"Digite o código do produto: \"))\n",
    "    quantidade = int(input(\"Digite a quantidade a comprar: \"))\n",
    "    if codigo == 1:\n",
    "        preco = 0.50\n",
    "    elif codigo == 2:\n",
    "        preco = 1.00\n",
    "    elif codigo == 3:\n",
    "        preco = 4.00\n",
    "    elif codigo == 4:\n",
    "        preco = 7.00\n",
    "    elif codigo == 5:\n",
    "        preco = 8.00\n",
    "    elif codigo == 0:\n",
    "        break\n",
    "    else:\n",
    "        preco = 0\n",
    "        print (\"Código inválido\")\n",
    "    \n",
    "    total = total + preco*quantidade\n",
    "    \n",
    "print (\"Valor a pagar: %0.2f MZN\"%total)\n",
    "\n",
    "\n"
   ]
  },
  {
   "cell_type": "code",
   "execution_count": 7,
   "id": "15460617",
   "metadata": {},
   "outputs": [
    {
     "name": "stdout",
     "output_type": "stream",
     "text": [
      "Digite o valor a pagar: 31\n",
      "0 cédula(s) de R$50\n",
      "1 cédula(s) de R$20\n",
      "1 cédula(s) de R$10\n",
      "0 cédula(s) de R$5\n",
      "1 cédula(s) de R$1\n"
     ]
    }
   ],
   "source": [
    "# leia um valor e que imprima a quantidade de cédulas necessárias para pagar esse mesmo valor.\n",
    "# Trabalhar apenas com valores inteiros e com cédulas de R$ 50, R$ 20, R$ 10, R$ 5 e R$ 1.\n",
    "\n",
    "valor = int(input(\"Digite o valor a pagar: \"))\n",
    "cédulas = 0\n",
    "apagar = valor\n",
    "atual = 50                                                   # Começa tentando cobrir o valor com a nota mais alta possível\n",
    "\n",
    "while True:\n",
    "    if atual <= apagar:                                      # Se valor a pagar for menor que 50, diminui a nota...\n",
    "        cédulas += 1                                         # E aumenta a quantidade de cédulas\n",
    "        apagar -= atual\n",
    "    else:\n",
    "        print(\"%d cédula(s) de R$%d\" % (cédulas, atual))\n",
    "        if apagar == 0:\n",
    "            break\n",
    "        if atual == 50:\n",
    "            atual = 20\n",
    "        elif atual == 20:\n",
    "            atual = 10\n",
    "        elif atual == 10:\n",
    "            atual = 5\n",
    "        elif atual == 5:\n",
    "            atual = 1\n",
    "        cédulas = 0"
   ]
  },
  {
   "cell_type": "markdown",
   "id": "3bfc5d38",
   "metadata": {},
   "source": [
    "## Repetições aninhadas\n",
    "- Combina vários while de forma a obter resultados mais interessantes, como a repetição com incremento de duas variáveis."
   ]
  },
  {
   "cell_type": "code",
   "execution_count": 16,
   "id": "59ecbb43",
   "metadata": {},
   "outputs": [
    {
     "name": "stdout",
     "output_type": "stream",
     "text": [
      "1 vezes 1 = 1\n",
      "1 vezes 2 = 2\n",
      "1 vezes 3 = 3\n",
      "1 vezes 4 = 4\n",
      "1 vezes 5 = 5\n",
      "1 vezes 6 = 6\n",
      "1 vezes 7 = 7\n",
      "1 vezes 8 = 8\n",
      "1 vezes 9 = 9\n",
      "1 vezes 10 = 10\n",
      "2 vezes 1 = 2\n",
      "2 vezes 2 = 4\n",
      "2 vezes 3 = 6\n",
      "2 vezes 4 = 8\n",
      "2 vezes 5 = 10\n",
      "2 vezes 6 = 12\n",
      "2 vezes 7 = 14\n",
      "2 vezes 8 = 16\n",
      "2 vezes 9 = 18\n",
      "2 vezes 10 = 20\n",
      "3 vezes 1 = 3\n",
      "3 vezes 2 = 6\n",
      "3 vezes 3 = 9\n",
      "3 vezes 4 = 12\n",
      "3 vezes 5 = 15\n",
      "3 vezes 6 = 18\n",
      "3 vezes 7 = 21\n",
      "3 vezes 8 = 24\n",
      "3 vezes 9 = 27\n",
      "3 vezes 10 = 30\n"
     ]
    }
   ],
   "source": [
    "#  Imprimir as tabuadas de multiplicação de 1 até 3.\n",
    "tabuada = 1                                                                # De 1...\n",
    "\n",
    "while tabuada <= 3:                                                        # Até 3.\n",
    "    número = 1                                                             # Multiplicador, de 1... \n",
    "    while número <= 10:                                                    # Até 10.\n",
    "        print(\"%d vezes %d = %d\" %(tabuada, número, tabuada * número))\n",
    "        número += 1                                                        # nr = nr + 1\n",
    "    tabuada += 1                                                           # tab = tab + 1"
   ]
  },
  {
   "cell_type": "code",
   "execution_count": 9,
   "id": "25eacf47",
   "metadata": {},
   "outputs": [
    {
     "name": "stdout",
     "output_type": "stream",
     "text": [
      "Tabuade de: 5\n",
      "5 vezes 1 = 5\n",
      "5 vezes 2 = 10\n",
      "5 vezes 3 = 15\n",
      "5 vezes 4 = 20\n",
      "5 vezes 5 = 25\n",
      "5 vezes 6 = 30\n",
      "5 vezes 7 = 35\n",
      "5 vezes 8 = 40\n",
      "5 vezes 9 = 45\n",
      "5 vezes 10 = 50\n",
      "Tabuade de: 0\n"
     ]
    }
   ],
   "source": [
    "#  Imprimir as tabuadas de multiplicação de nr inserido (com multiplicador de 1 a 10).\n",
    "\n",
    "while True:\n",
    "    tabuada = int(input(\"Tabuade de: \"))\n",
    "    if tabuada == 0:\n",
    "        break\n",
    "    número = 1\n",
    "    while número <= 10:\n",
    "        print(\"%d vezes %d = %d\" %(tabuada, número, tabuada * número))\n",
    "        número += 1\n",
    "    tabuada += 1"
   ]
  },
  {
   "cell_type": "code",
   "execution_count": 1,
   "id": "c91710f0",
   "metadata": {},
   "outputs": [
    {
     "name": "stdout",
     "output_type": "stream",
     "text": [
      "Tabuade de: 1\n",
      "Digite a operação (1-adição, 2-subtracção, 3-multiplicação ou 4-divisão): adição\n",
      "1 adição com 1 = 2\n",
      "1 adição com 2 = 3\n",
      "1 adição com 3 = 4\n",
      "1 adição com 4 = 5\n",
      "1 adição com 5 = 6\n",
      "1 adição com 6 = 7\n",
      "1 adição com 7 = 8\n",
      "1 adição com 8 = 9\n",
      "1 adição com 9 = 10\n",
      "1 adição com 10 = 11\n",
      "Tabuade de: 0\n",
      "Digite a operação (1-adição, 2-subtracção, 3-multiplicação ou 4-divisão): 0\n"
     ]
    }
   ],
   "source": [
    "# Escreva um programa que exiba uma lista de opções (menu): adição, subtração, divisão, multiplicação e sair.\n",
    "# Imprima a tabuada da operação escolhida. Repita até que a opção saída seja escolhida.\n",
    "\n",
    "while True:\n",
    "    tabuada = int(input(\"Tabuade de: \"))\n",
    "    operador = str(input(\"Digite a operação (adição, subtracção, multiplicação ou divisão): \"))\n",
    "    numero = 1\n",
    "    if tabuada == 0:\n",
    "        break\n",
    "    while numero <= 10:\n",
    "        if operador == \"adição\":\n",
    "            calculo =  tabuada + numero\n",
    "        elif operador == \"subtracção\":\n",
    "            calculo =  tabuada - numero\n",
    "        elif operador == \"multiplicação\":\n",
    "            calculo =  tabuada * numero\n",
    "        elif operador == \"divisão\":\n",
    "            calculo =  tabuada / numero\n",
    "\n",
    "        print(\"%d %s com %d = %d\" %(tabuada, operador, numero, calculo))\n",
    "        numero += 1\n",
    "    tabuada += 1"
   ]
  }
 ],
 "metadata": {
  "kernelspec": {
   "display_name": "Python 3 (ipykernel)",
   "language": "python",
   "name": "python3"
  },
  "language_info": {
   "codemirror_mode": {
    "name": "ipython",
    "version": 3
   },
   "file_extension": ".py",
   "mimetype": "text/x-python",
   "name": "python",
   "nbconvert_exporter": "python",
   "pygments_lexer": "ipython3",
   "version": "3.11.5"
  }
 },
 "nbformat": 4,
 "nbformat_minor": 5
}
