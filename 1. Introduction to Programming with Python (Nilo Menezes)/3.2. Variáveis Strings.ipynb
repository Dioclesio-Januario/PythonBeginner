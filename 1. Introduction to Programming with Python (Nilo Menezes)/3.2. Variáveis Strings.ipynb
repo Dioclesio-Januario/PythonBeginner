{
 "cells": [
  {
   "cell_type": "markdown",
   "id": "b8607581",
   "metadata": {
    "tags": []
   },
   "source": [
    "# Variáveis String\n",
    "- As variáveis do tipo string são utilizadas para armazenar sequências de caracteres, normalmente utilizadas em textos ou mensagens.\n",
    "- String - Cadeias de caracteres, onde cada letra, número ou espaço em branco ocupa uma posição."
   ]
  },
  {
   "cell_type": "code",
   "execution_count": 1,
   "id": "afd5edef",
   "metadata": {
    "tags": []
   },
   "outputs": [],
   "source": [
    "A = (\"Feliz ano novo \")\n",
    "B = (\"Dioclesio \")\n",
    "idade = 20"
   ]
  },
  {
   "cell_type": "code",
   "execution_count": 2,
   "id": "4d670ba1",
   "metadata": {
    "tags": []
   },
   "outputs": [
    {
     "name": "stdout",
     "output_type": "stream",
     "text": [
      "15\n"
     ]
    }
   ],
   "source": [
    "# Imprime o tamanho da String A\n",
    "print (len(A))"
   ]
  },
  {
   "cell_type": "code",
   "execution_count": 3,
   "id": "7aac7db1",
   "metadata": {
    "tags": []
   },
   "outputs": [
    {
     "name": "stdout",
     "output_type": "stream",
     "text": [
      "18\n"
     ]
    }
   ],
   "source": [
    "print (len(\"Dioclesio Januário\"))"
   ]
  },
  {
   "cell_type": "code",
   "execution_count": 4,
   "id": "bde500a6",
   "metadata": {
    "tags": []
   },
   "outputs": [
    {
     "name": "stdout",
     "output_type": "stream",
     "text": [
      "e\n"
     ]
    }
   ],
   "source": [
    "# Imprime o segundo item da String A\n",
    "print (A[1])"
   ]
  },
  {
   "cell_type": "code",
   "execution_count": 5,
   "id": "47ac2b80",
   "metadata": {
    "tags": []
   },
   "outputs": [
    {
     "name": "stdout",
     "output_type": "stream",
     "text": [
      " \n"
     ]
    }
   ],
   "source": [
    "# Imprime o sexto item de A\n",
    "print (A[5])"
   ]
  },
  {
   "cell_type": "markdown",
   "id": "e8b7e967",
   "metadata": {
    "tags": []
   },
   "source": [
    "## Operações com String"
   ]
  },
  {
   "cell_type": "markdown",
   "id": "0af7a021",
   "metadata": {
    "tags": []
   },
   "source": [
    "### Concatenação\n",
    "- A concatenação nada mais é que poder juntar duas ou mais strings em uma nova string maior."
   ]
  },
  {
   "cell_type": "code",
   "execution_count": 6,
   "id": "401b6535",
   "metadata": {},
   "outputs": [
    {
     "name": "stdout",
     "output_type": "stream",
     "text": [
      "Feliz ano novo Dioclesio !\n"
     ]
    }
   ],
   "source": [
    "# Imprime A + B\n",
    "print (A + B + \"!\")"
   ]
  },
  {
   "cell_type": "code",
   "execution_count": 7,
   "id": "5e69cab6",
   "metadata": {},
   "outputs": [
    {
     "name": "stdout",
     "output_type": "stream",
     "text": [
      "Dioclesio Dioclesio \n"
     ]
    }
   ],
   "source": [
    "# Imprime B duas vezes\n",
    "print (B*2)"
   ]
  },
  {
   "cell_type": "code",
   "execution_count": 8,
   "id": "cdff932f",
   "metadata": {},
   "outputs": [
    {
     "name": "stdout",
     "output_type": "stream",
     "text": [
      "Feliz ano novo Dioclesio !\n"
     ]
    }
   ],
   "source": [
    "# Cria nova String C = A + B\n",
    "C = A + B\n",
    "print (C + \"!\")"
   ]
  },
  {
   "cell_type": "code",
   "execution_count": 9,
   "id": "48594f43",
   "metadata": {},
   "outputs": [
    {
     "name": "stdout",
     "output_type": "stream",
     "text": [
      "Dioclesio Dioclesio Dioclesio \n"
     ]
    }
   ],
   "source": [
    "# Imprime Dioclesio 3x\n",
    "print (\"Dioclesio \"*3 )"
   ]
  },
  {
   "cell_type": "markdown",
   "id": "efd3c0e7",
   "metadata": {
    "jp-MarkdownHeadingCollapsed": true,
    "tags": []
   },
   "source": [
    "### Composição\n",
    "- A composição é muito utilizada em mensagens que enviamos à tela e consiste em utilizar strings como modelos onde podemos inserir outras strings.\n",
    "\n",
    " %d------------Nrs inteiros\n",
    " \n",
    " %s------------Strings\n",
    "\n",
    " %f------------Nrs decimais"
   ]
  },
  {
   "cell_type": "code",
   "execution_count": 10,
   "id": "d4e3d060",
   "metadata": {},
   "outputs": [
    {
     "name": "stdout",
     "output_type": "stream",
     "text": [
      "20\n"
     ]
    }
   ],
   "source": [
    "# Imprime a variavel idade no lugar de %d\n",
    "print (\"%d\" %idade)"
   ]
  },
  {
   "cell_type": "code",
   "execution_count": 11,
   "id": "ea9f168d",
   "metadata": {},
   "outputs": [
    {
     "name": "stdout",
     "output_type": "stream",
     "text": [
      "      2.00\n"
     ]
    }
   ],
   "source": [
    "# Imprime um número decimal (2) utilizando 10 posições, sendo que 2 são para a parte decimal\n",
    "print(\"%10.2f\" % 2)"
   ]
  },
  {
   "cell_type": "code",
   "execution_count": 12,
   "id": "ca8ae230",
   "metadata": {},
   "outputs": [
    {
     "name": "stdout",
     "output_type": "stream",
     "text": [
      "                       7.50000\n"
     ]
    }
   ],
   "source": [
    "# Imprime um número decimal (7.5) utilizando 30 posições, sendo que 5 são para a parte decimal\n",
    "print(\"%30.5f\" % 7.5)"
   ]
  },
  {
   "cell_type": "code",
   "execution_count": 13,
   "id": "15a2ba9b",
   "metadata": {},
   "outputs": [
    {
     "name": "stdout",
     "output_type": "stream",
     "text": [
      "Dioclesio 20 anos. Feliz ano novo !\n"
     ]
    }
   ],
   "source": [
    "# Imprime Strings A e B, e variável idade no lugar de %s, %d e %s respectivamente\n",
    "print (\"%s%d anos. %s!\" %(B, idade, A))"
   ]
  },
  {
   "cell_type": "markdown",
   "id": "9f061b45",
   "metadata": {
    "jp-MarkdownHeadingCollapsed": true,
    "tags": []
   },
   "source": [
    "### Fatiamento\n",
    "- O fatiamento é capacidade de utilizar apenas uma parte de uma string, ou uma fatia.\n",
    "- O final da fatia não é incluído."
   ]
  },
  {
   "cell_type": "code",
   "execution_count": 14,
   "id": "4b61c206",
   "metadata": {},
   "outputs": [
    {
     "name": "stdout",
     "output_type": "stream",
     "text": [
      "clesio\n"
     ]
    }
   ],
   "source": [
    "# Imprime os caracteres da posição 4 até 8 na String B\n",
    "print (B[3:9])"
   ]
  },
  {
   "cell_type": "code",
   "execution_count": 15,
   "id": "c1258aa4",
   "metadata": {},
   "outputs": [
    {
     "name": "stdout",
     "output_type": "stream",
     "text": [
      "clesio \n"
     ]
    }
   ],
   "source": [
    "# Imprime os caracteres da posição 4 em diante na String B\n",
    "print (B[3:])"
   ]
  },
  {
   "cell_type": "code",
   "execution_count": 16,
   "id": "7677b22d",
   "metadata": {},
   "outputs": [
    {
     "name": "stdout",
     "output_type": "stream",
     "text": [
      "Dio\n"
     ]
    }
   ],
   "source": [
    "# Imprime os caracteres da posição -9 (9 da direita para esquerda) até -7 (7 da direita para esquerda)  na String B\n",
    "print (B[-10:-7])"
   ]
  },
  {
   "cell_type": "code",
   "execution_count": 17,
   "id": "70e319dc",
   "metadata": {},
   "outputs": [
    {
     "name": "stdout",
     "output_type": "stream",
     "text": [
      "clesio\n"
     ]
    }
   ],
   "source": [
    "# Imprime os caracteres da posição -6 (6 da direita para esquerda) até -1 (1 da direita para esquerda) na String B\n",
    "print (B[-7:-1])"
   ]
  }
 ],
 "metadata": {
  "kernelspec": {
   "display_name": "Python 3 (ipykernel)",
   "language": "python",
   "name": "python3"
  },
  "language_info": {
   "codemirror_mode": {
    "name": "ipython",
    "version": 3
   },
   "file_extension": ".py",
   "mimetype": "text/x-python",
   "name": "python",
   "nbconvert_exporter": "python",
   "pygments_lexer": "ipython3",
   "version": "3.11.5"
  }
 },
 "nbformat": 4,
 "nbformat_minor": 5
}
