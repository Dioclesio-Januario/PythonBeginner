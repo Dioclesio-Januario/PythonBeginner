{
 "cells": [
  {
   "cell_type": "markdown",
   "id": "3ed686a5",
   "metadata": {},
   "source": [
    "# Dicionários\n",
    "- Um dicionário é composto por um conjunto de chaves e valores. Consiste em relacionar uma chave a um valor específico.\n",
    "- Criamos dicionários utilizando chaves ({}). Cada elemento do dicionário é uma combinação de chave e valor."
   ]
  },
  {
   "cell_type": "code",
   "execution_count": 8,
   "id": "34e9fc9e",
   "metadata": {},
   "outputs": [
    {
     "name": "stdout",
     "output_type": "stream",
     "text": [
      "tabela = {'Alface': 15, 'Batata': 50, 'Tomate': 20, 'Feijão': 90}\n"
     ]
    }
   ],
   "source": [
    "# Criando um dicionário.\n",
    "\n",
    "tabela = {\"Alface\": 15,\n",
    "          \"Batata\": 50,\n",
    "          \"Tomate\": 20,\n",
    "          \"Feijão\": 90}\n",
    "print (\"tabela =\", tabela)"
   ]
  },
  {
   "cell_type": "code",
   "execution_count": 15,
   "id": "55412b5c",
   "metadata": {},
   "outputs": [
    {
     "name": "stdout",
     "output_type": "stream",
     "text": [
      "50\n",
      "90\n"
     ]
    }
   ],
   "source": [
    "# Acessando chaves (índices são as chaves, não números).\n",
    "print (tabela[\"Batata\"])\n",
    "print (tabela[\"Feijão\"])"
   ]
  },
  {
   "cell_type": "code",
   "execution_count": 16,
   "id": "22760d94",
   "metadata": {},
   "outputs": [
    {
     "name": "stdout",
     "output_type": "stream",
     "text": [
      "tabela = {'Alface': 25, 'Batata': 50, 'Tomate': 20, 'Feijão': 90, 'Peixe': 70}\n"
     ]
    }
   ],
   "source": [
    "# Alterando chaves. Adicionando chaves.\n",
    "tabela [\"Alface\"] = 25\n",
    "tabela [\"Peixe\"] = 70\n",
    "\n",
    "print (\"tabela =\", tabela)"
   ]
  },
  {
   "cell_type": "code",
   "execution_count": 18,
   "id": "b453460a",
   "metadata": {},
   "outputs": [
    {
     "name": "stdout",
     "output_type": "stream",
     "text": [
      "False\n",
      "True\n"
     ]
    }
   ],
   "source": [
    "# Verificando chaves em dicionários.\n",
    "print (\"Arroz\" in tabela)\n",
    "print (\"Tomate\" in tabela)"
   ]
  },
  {
   "cell_type": "code",
   "execution_count": 20,
   "id": "0deeebc1",
   "metadata": {},
   "outputs": [
    {
     "name": "stdout",
     "output_type": "stream",
     "text": [
      "dict_keys(['Alface', 'Batata', 'Tomate', 'Feijão', 'Peixe'])\n",
      "dict_values([25, 50, 20, 90, 70])\n"
     ]
    }
   ],
   "source": [
    "# Obtendo lista de chaves e lista de valores.\n",
    "print(tabela.keys())\n",
    "print(tabela.values())"
   ]
  },
  {
   "cell_type": "code",
   "execution_count": 21,
   "id": "6a1ba869",
   "metadata": {},
   "outputs": [
    {
     "name": "stdout",
     "output_type": "stream",
     "text": [
      "Digite o nome do produto (ou fim para terminar): Alface\n",
      "Preço 25.00\n",
      "Digite o nome do produto (ou fim para terminar): Arroz\n",
      "Produto não encontrado!\n",
      "Digite o nome do produto (ou fim para terminar): Peixe\n",
      "Preço 70.00\n",
      "Digite o nome do produto (ou fim para terminar): fim\n"
     ]
    }
   ],
   "source": [
    "# Obtendo preço.\n",
    "\n",
    "while True:\n",
    "    produto = input(\"Digite o nome do produto (ou fim para terminar): \")\n",
    "    if produto == \"fim\":\n",
    "        break\n",
    "    if produto in tabela:\n",
    "        print(\"Preço %0.2f\" %tabela[produto])\n",
    "    else:\n",
    "        print(\"Produto não encontrado!\")"
   ]
  },
  {
   "cell_type": "code",
   "execution_count": 22,
   "id": "57df66c5",
   "metadata": {},
   "outputs": [
    {
     "name": "stdout",
     "output_type": "stream",
     "text": [
      "{'Alface': 25, 'Batata': 50, 'Tomate': 20, 'Feijão': 90}\n"
     ]
    }
   ],
   "source": [
    "# Apagando uma chave.\n",
    "del tabela[\"Peixe\"]\n",
    "print(tabela)"
   ]
  },
  {
   "cell_type": "code",
   "execution_count": 41,
   "id": "125c3023",
   "metadata": {},
   "outputs": [
    {
     "name": "stdout",
     "output_type": "stream",
     "text": [
      "estoque = {'tomate': [900, 20], 'alface': [500, 25], 'batata': [700, 50], 'feijão': [100, 90]}\n"
     ]
    }
   ],
   "source": [
    "# Dicionários com listas. Estoque de produtos, com quantidade e preço.\n",
    "\n",
    "estoque = {\"tomate\": [900, 20],\n",
    "           \"alface\": [500, 25],\n",
    "           \"batata\": [700, 50],\n",
    "           \"feijão\": [100, 90]}\n",
    "print (\"estoque =\", estoque)"
   ]
  },
  {
   "cell_type": "code",
   "execution_count": 42,
   "id": "e4e4156d",
   "metadata": {},
   "outputs": [
    {
     "name": "stdout",
     "output_type": "stream",
     "text": [
      "VENDAS:\n",
      "tomate: 5 Unidades x 20.00 = 100.00\n",
      "batata: 10 Unidades x 50.00 = 500.00\n",
      "alface: 5 Unidades x 25.00 = 125.00\n",
      "Custo total: 725.00\n",
      "\n",
      "ESTOQUE:\n",
      "\n",
      "Produto: tomate\n",
      "Quantidade: 895\n",
      "Preço: 20.00\n",
      "\n",
      "Produto: alface\n",
      "Quantidade: 495\n",
      "Preço: 25.00\n",
      "\n",
      "Produto: batata\n",
      "Quantidade: 690\n",
      "Preço: 50.00\n",
      "\n",
      "Produto: feijão\n",
      "Quantidade: 100\n",
      "Preço: 90.00\n",
      "\n"
     ]
    }
   ],
   "source": [
    "# Calcular o preço total de venda, atualizando também a quantidade em estoque.\n",
    "\n",
    "venda = [[\"tomate\", 5], [\"batata\", 10], [\"alface\",5]]\n",
    "\n",
    "total = 0\n",
    "\n",
    "print(\"VENDAS:\")\n",
    "for operação in venda:                                   # Operação é uma lista com dois elementos (produto, quantidade).\n",
    "    produto, quantidade = operação                       # Produto = operação[0]; quantidade = operação[1].\n",
    "    preço = estoque [produto][1]                         # Produto como chave em estoque.\n",
    "    custo = preço * quantidade\n",
    "    print(\"%s: %d Unidades x %0.2f = %0.2f\" %\n",
    "          (produto, quantidade, preço, custo))\n",
    "    estoque[produto][0] -= quantidade                    # Retira quantidade em estoque, para a chave produto.\n",
    "    total += custo\n",
    "\n",
    "print(\"Custo total: %0.2f\\n\" %total)\n",
    "print(\"ESTOQUE:\\n\")\n",
    "\n",
    "for chave, valor in estoque.items():                     # O método items retorna uma tupla com chave e o valor de cada item.\n",
    "    print(\"Produto:\", chave)\n",
    "    print(\"Quantidade:\", valor[0])\n",
    "    print(\"Preço: %0.2f\\n\" %valor[1])"
   ]
  },
  {
   "cell_type": "code",
   "execution_count": 47,
   "id": "6ac0ae27",
   "metadata": {},
   "outputs": [
    {
     "name": "stdout",
     "output_type": "stream",
     "text": [
      "Produto: tomate\n",
      "Quantidade: 5\n",
      "VENDAS:\n",
      "tomate: 5 Unidades x 20.00 = 100.00\n",
      "Produto: batata\n",
      "Quantidade: 10\n",
      "VENDAS:\n",
      "batata: 10 Unidades x 50.00 = 500.00\n",
      "Produto: alface\n",
      "Quantidade: 5\n",
      "VENDAS:\n",
      "alface: 5 Unidades x 25.00 = 125.00\n",
      "Produto: fim\n",
      "Quantidade: 0\n",
      "Custo total: 725.00\n",
      "\n",
      "ESTOQUE:\n",
      "\n",
      "Produto: tomate\n",
      "Quantidade: 885\n",
      "Preço: 20.00\n",
      "\n",
      "Produto: alface\n",
      "Quantidade: 485\n",
      "Preço: 25.00\n",
      "\n",
      "Produto: batata\n",
      "Quantidade: 670\n",
      "Preço: 50.00\n",
      "\n",
      "Produto: feijão\n",
      "Quantidade: 100\n",
      "Preço: 90.00\n",
      "\n"
     ]
    }
   ],
   "source": [
    "# Solicita ao usuário o produto e a quantidade vendida.\n",
    "# Verifique se o nome do produto digitado existe no dicionário, e só então efetue a baixa em estoque.\n",
    "\n",
    "total = 0\n",
    "\n",
    "while True:\n",
    "    produto = input(\"Produto: \")\n",
    "    quantidade = int(input(\"Quantidade: \"))\n",
    "    \n",
    "# # # # # # # # # # # # # # # # # # # # # # # # # # # # # # # # # # # # # # # # # # # # # # #\n",
    "#   for e in :                                     verifica em estoque                      #\n",
    "#      if e =! produto:                            se produto diferente de e em estoque     #\n",
    "#            print (\"Produto não encontrado!\")     imprime elemento não encontrado          #\n",
    "#            quantidade = 0                                                                 #\n",
    "# # # # # # # # # # # # # # # # # # # # # # # # # # # # # # # # # # # # # # # # # # # # # # #\n",
    "\n",
    "    if produto == \"fim\":\n",
    "        break\n",
    "    \n",
    "    print(\"VENDAS:\")\n",
    "    preço = estoque [produto][1]\n",
    "    custo = preço * quantidade\n",
    "    print(\"%s: %d Unidades x %0.2f = %0.2f\" %\n",
    "          (produto, quantidade, preço, custo))\n",
    "    estoque[produto][0] -= quantidade\n",
    "    total += custo\n",
    "\n",
    "print(\"Custo total: %0.2f\\n\" %total)\n",
    "print(\"ESTOQUE:\\n\")\n",
    "\n",
    "for chave, valor in estoque.items():\n",
    "    print(\"Produto:\", chave)\n",
    "    print(\"Quantidade:\", valor[0])\n",
    "    print(\"Preço: %0.2f\\n\" %valor[1])"
   ]
  },
  {
   "cell_type": "markdown",
   "id": "7a28ff37",
   "metadata": {},
   "source": [
    "### Quando utilizar listas e quando utilizar dicionários. Tudo depende do que você deseja realizar.\n",
    "- Se seus dados são facilmente acessados por suas chaves, quase nunca você precisa acessá-los de uma só vez: Um dicionário é mais interessante. Além disso, você pode acessar os valores associados a uma chave rapidamente sem pesquisar.\n",
    "- A implementação interna de dicionários também garante uma boa velocidade de acesso quando temos muitas chaves. Porém, um dicionário não organiza suas chaves, ou seja, as primeiras chaves inseridas nem sempre serão as primeiras na lista de chaves.\n",
    "- Se seus dados precisam preservar a ordem de inserção (como em filas ou pilhas, continue a usar listas)."
   ]
  }
 ],
 "metadata": {
  "kernelspec": {
   "display_name": "Python 3 (ipykernel)",
   "language": "python",
   "name": "python3"
  },
  "language_info": {
   "codemirror_mode": {
    "name": "ipython",
    "version": 3
   },
   "file_extension": ".py",
   "mimetype": "text/x-python",
   "name": "python",
   "nbconvert_exporter": "python",
   "pygments_lexer": "ipython3",
   "version": "3.11.5"
  }
 },
 "nbformat": 4,
 "nbformat_minor": 5
}
