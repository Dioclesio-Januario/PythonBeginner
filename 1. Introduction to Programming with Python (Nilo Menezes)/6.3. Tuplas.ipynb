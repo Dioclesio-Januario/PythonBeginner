{
 "cells": [
  {
   "cell_type": "markdown",
   "id": "3ed686a5",
   "metadata": {},
   "source": [
    "# Tuplas\n",
    "- Tuplas podem ser vistas como listas em Python, com a grande diferença de serem imutáveis.\n",
    "- Usado para representar listas de valores constantes e para realizar operações de empacotamento/desempacotamento de valores.\n",
    "- Tuplas são criadas de forma semelhante às listas, mas utilizamos parênteses em vez de colchetes.\n",
    "- Suportam a maior parte das operações de lista, como fatiamento e indexação. Mas não podem ter seus elementos alterados."
   ]
  },
  {
   "cell_type": "code",
   "execution_count": 12,
   "id": "34e9fc9e",
   "metadata": {},
   "outputs": [
    {
     "name": "stdout",
     "output_type": "stream",
     "text": [
      "T = ('a', 'b', 'c')\n",
      "('a', 'b')\n",
      "a\n",
      "('a', 'b', 'c', 'a', 'b', 'c')\n",
      "3\n"
     ]
    }
   ],
   "source": [
    "# Tupla com 3 elementos com operações de listas.\n",
    "T = (\"a\", \"b\", \"c\")\n",
    "\n",
    "print (\"T =\", T)\n",
    "print (T[0:2])\n",
    "print (T[0])\n",
    "print (T*2)\n",
    "print (len(T))"
   ]
  },
  {
   "cell_type": "code",
   "execution_count": 14,
   "id": "55412b5c",
   "metadata": {},
   "outputs": [
    {
     "name": "stdout",
     "output_type": "stream",
     "text": [
      "a\n",
      "b\n",
      "c\n"
     ]
    }
   ],
   "source": [
    "# Tupla com for.\n",
    "for elemento in T:\n",
    "    print(elemento)"
   ]
  },
  {
   "cell_type": "code",
   "execution_count": 16,
   "id": "22760d94",
   "metadata": {},
   "outputs": [
    {
     "name": "stdout",
     "output_type": "stream",
     "text": [
      "U = (100, 200, 300)\n"
     ]
    }
   ],
   "source": [
    "# Criando tuplas usando valores separados por vírgula (csv) - Empacotamento.\n",
    "U = 100, 200, 300\n",
    "print (\"U =\", U)"
   ]
  },
  {
   "cell_type": "code",
   "execution_count": 27,
   "id": "68db001d",
   "metadata": {},
   "outputs": [
    {
     "name": "stdout",
     "output_type": "stream",
     "text": [
      "100\n",
      "200\n",
      "300\n"
     ]
    }
   ],
   "source": [
    "# Desempacotamento.\n",
    "a, b, c = U[0], U[1] , U[2]\n",
    "print (a)\n",
    "print (b)\n",
    "print (c)"
   ]
  },
  {
   "cell_type": "code",
   "execution_count": 28,
   "id": "1bbe88d7",
   "metadata": {},
   "outputs": [
    {
     "name": "stdout",
     "output_type": "stream",
     "text": [
      "200\n",
      "300\n",
      "200\n"
     ]
    }
   ],
   "source": [
    "# Troca de variáveis.\n",
    "a = b\n",
    "b = c\n",
    "c = a\n",
    "\n",
    "print (a)\n",
    "print (b)\n",
    "print (c)"
   ]
  },
  {
   "cell_type": "code",
   "execution_count": 33,
   "id": "5c3a1dce",
   "metadata": {},
   "outputs": [
    {
     "name": "stdout",
     "output_type": "stream",
     "text": [
      "(1,)\n",
      "(1,)\n"
     ]
    }
   ],
   "source": [
    "# Devemos acrescentar uma vírgula para tupla com apenas um elemento.\n",
    "Z = (1, )\n",
    "print (Z)\n",
    "\n",
    "# ou\n",
    "X = 1,\n",
    "print (X)"
   ]
  },
  {
   "cell_type": "code",
   "execution_count": 35,
   "id": "83d68896",
   "metadata": {},
   "outputs": [
    {
     "name": "stdout",
     "output_type": "stream",
     "text": [
      "0\n"
     ]
    }
   ],
   "source": [
    "# Tupla vazia.\n",
    "T = ()\n",
    "print (len (T))"
   ]
  },
  {
   "cell_type": "code",
   "execution_count": 38,
   "id": "458d1325",
   "metadata": {},
   "outputs": [
    {
     "name": "stdout",
     "output_type": "stream",
     "text": [
      "T = (1, 3, 5, 7)\n"
     ]
    }
   ],
   "source": [
    "# Tuplas a partir de listas, utilizando-se a função tuple.\n",
    "L = [1, 3, 5, 7]\n",
    "\n",
    "T = tuple(L)\n",
    "print (\"T =\", T)"
   ]
  },
  {
   "cell_type": "code",
   "execution_count": 40,
   "id": "095ca160",
   "metadata": {},
   "outputs": [
    {
     "name": "stdout",
     "output_type": "stream",
     "text": [
      "N = (1, 3, 5, 7, 9, 11, 13)\n"
     ]
    }
   ],
   "source": [
    "# Concatenação.\n",
    "M = (9, 11, 13)\n",
    "\n",
    "N = T + M\n",
    "print (\"N =\", N)"
   ]
  },
  {
   "cell_type": "code",
   "execution_count": 49,
   "id": "9996f093",
   "metadata": {},
   "outputs": [
    {
     "name": "stdout",
     "output_type": "stream",
     "text": [
      "T = (1, 3, [5, 7])\n",
      "3\n",
      "T[2] = [5, 7]\n",
      "T = (1, 3, [5, 7, 9])\n"
     ]
    }
   ],
   "source": [
    "# Se uma tupla contiver uma lista ou outro objeto que pode ser alterado, este continuará a funcionar normalmente.\n",
    "T = (1, 3, [5, 7])\n",
    "\n",
    "print (\"T =\", T)\n",
    "print (len (T))\n",
    "print (\"T[2] =\", T[2])\n",
    "\n",
    "T[2].append(9)                    # Altera a lista, não a tupla.\n",
    "print (\"T =\", T)"
   ]
  }
 ],
 "metadata": {
  "kernelspec": {
   "display_name": "Python 3 (ipykernel)",
   "language": "python",
   "name": "python3"
  },
  "language_info": {
   "codemirror_mode": {
    "name": "ipython",
    "version": 3
   },
   "file_extension": ".py",
   "mimetype": "text/x-python",
   "name": "python",
   "nbconvert_exporter": "python",
   "pygments_lexer": "ipython3",
   "version": "3.11.5"
  }
 },
 "nbformat": 4,
 "nbformat_minor": 5
}
