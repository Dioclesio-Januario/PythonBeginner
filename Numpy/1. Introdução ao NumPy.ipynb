{
 "cells": [
  {
   "cell_type": "markdown",
   "id": "1688656d",
   "metadata": {},
   "source": [
    "# Python para Análise de Dados - Wes McKinney Cap. IV\n",
    "\n",
    "# Introdução ao NumPy - Prof. Dr. Anselmo R. Pitombeira Neto."
   ]
  },
  {
   "cell_type": "code",
   "execution_count": 2,
   "id": "5db5924e",
   "metadata": {},
   "outputs": [
    {
     "name": "stdout",
     "output_type": "stream",
     "text": [
      "v = [1 2 3 4]\n"
     ]
    }
   ],
   "source": [
    "# Criação de vector (tensor) uni-dimensional.\n",
    "import numpy as np\n",
    "\n",
    "v = np.array([1, 2, 3, 4])\n",
    "print(f\"v = {v}\")"
   ]
  },
  {
   "cell_type": "code",
   "execution_count": 12,
   "id": "bb80d288",
   "metadata": {},
   "outputs": [
    {
     "data": {
      "text/plain": [
       "dtype('int32')"
      ]
     },
     "execution_count": 12,
     "metadata": {},
     "output_type": "execute_result"
    }
   ],
   "source": [
    "# Tipo de elementos.\n",
    "v.dtype"
   ]
  },
  {
   "cell_type": "code",
   "execution_count": 11,
   "id": "baf1bb96",
   "metadata": {},
   "outputs": [
    {
     "data": {
      "text/plain": [
       "dtype('float64')"
      ]
     },
     "execution_count": 11,
     "metadata": {},
     "output_type": "execute_result"
    }
   ],
   "source": [
    "np.array([1.5, 2.2, 3.0]).dtype"
   ]
  },
  {
   "cell_type": "code",
   "execution_count": 14,
   "id": "980eb694",
   "metadata": {},
   "outputs": [
    {
     "data": {
      "text/plain": [
       "(4,)"
      ]
     },
     "execution_count": 14,
     "metadata": {},
     "output_type": "execute_result"
    }
   ],
   "source": [
    "# Forma do tensor.\n",
    "v = np.array([1, 2, 3, 4])\n",
    "v.shape"
   ]
  },
  {
   "cell_type": "code",
   "execution_count": 23,
   "id": "95c3e6c9",
   "metadata": {},
   "outputs": [
    {
     "data": {
      "text/plain": [
       "array([[1, 2],\n",
       "       [3, 4]])"
      ]
     },
     "execution_count": 23,
     "metadata": {},
     "output_type": "execute_result"
    }
   ],
   "source": [
    "# Criando um tensor bi-dimensional v.shape = (linha, coluna).\n",
    "v.shape = (2, 2)\n",
    "v"
   ]
  },
  {
   "cell_type": "code",
   "execution_count": 25,
   "id": "3ff1efde",
   "metadata": {},
   "outputs": [
    {
     "data": {
      "text/plain": [
       "array([[1, 2],\n",
       "       [3, 4]])"
      ]
     },
     "execution_count": 25,
     "metadata": {},
     "output_type": "execute_result"
    }
   ],
   "source": [
    "# Ou.\n",
    "v = np.array([1, 2, 3, 4]).reshape(2, 2)\n",
    "v"
   ]
  },
  {
   "cell_type": "code",
   "execution_count": 30,
   "id": "f1c4235e",
   "metadata": {},
   "outputs": [
    {
     "data": {
      "text/plain": [
       "array([[1],\n",
       "       [2],\n",
       "       [3],\n",
       "       [4]])"
      ]
     },
     "execution_count": 30,
     "metadata": {},
     "output_type": "execute_result"
    }
   ],
   "source": [
    "v.reshape(4, 1)"
   ]
  },
  {
   "cell_type": "code",
   "execution_count": 34,
   "id": "209b5645",
   "metadata": {},
   "outputs": [
    {
     "data": {
      "text/plain": [
       "array([[1, 2, 3, 4],\n",
       "       [5, 6, 7, 8]])"
      ]
     },
     "execution_count": 34,
     "metadata": {},
     "output_type": "execute_result"
    }
   ],
   "source": [
    "# A função reshape aceita o uso de -1 como dimensão na especificação do shape.\n",
    "# A função reshape determina automaticamente o nr de elementos em cada dimensão de forma a manter o nr total de elementos.\n",
    "# v.reshape(linha, -1)\n",
    "v = np.array([1, 2, 3, 4, 5, 6, 7, 8])\n",
    "v = v.reshape(2, -1)\n",
    "v"
   ]
  },
  {
   "cell_type": "code",
   "execution_count": 36,
   "id": "fc90571e",
   "metadata": {},
   "outputs": [
    {
     "data": {
      "text/plain": [
       "array([[1, 2, 3, 4],\n",
       "       [5, 6, 7, 8]])"
      ]
     },
     "execution_count": 36,
     "metadata": {},
     "output_type": "execute_result"
    }
   ],
   "source": [
    "v = np.array([1, 2, 3, 4, 5, 6, 7, 8])\n",
    "v = v.reshape(-1, 4)\n",
    "v"
   ]
  },
  {
   "cell_type": "code",
   "execution_count": 38,
   "id": "f457afef",
   "metadata": {},
   "outputs": [
    {
     "name": "stdout",
     "output_type": "stream",
     "text": [
      "Número de dimensões: 2\n",
      "Número de elementos: 8\n"
     ]
    }
   ],
   "source": [
    "# Número de eixos (ou dimensões) e número total de elementos.\n",
    "print(f\"Número de dimensões: {v.ndim}\")\n",
    "print(f\"Número de elementos: {v.size}\")"
   ]
  },
  {
   "cell_type": "code",
   "execution_count": 57,
   "id": "02174430",
   "metadata": {},
   "outputs": [
    {
     "name": "stdout",
     "output_type": "stream",
     "text": [
      "v =\n",
      "[[ 0  1  2  3  4]\n",
      " [ 5  6  7  8  9]\n",
      " [10 11 12 13 14]\n",
      " [15 16 17 18 19]\n",
      " [20 21 22 23 24]\n",
      " [25 26 27 28 29]\n",
      " [30 31 32 33 34]\n",
      " [35 36 37 38 39]\n",
      " [40 41 42 43 44]\n",
      " [45 46 47 48 49]]\n",
      "\n",
      "Número de dimensões: 2\n",
      "Número de elementos: 50\n"
     ]
    }
   ],
   "source": [
    "v = np.array(range(50)).reshape(10, 5)\n",
    "print(f\"v =\\n{v}\")\n",
    "print()\n",
    "print(f\"Número de dimensões: {v.ndim}\")\n",
    "print(f\"Número de elementos: {v.size}\")"
   ]
  },
  {
   "cell_type": "code",
   "execution_count": 62,
   "id": "4d2da039",
   "metadata": {},
   "outputs": [
    {
     "name": "stdout",
     "output_type": "stream",
     "text": [
      "V = \n",
      " [[0. 0. 0.]\n",
      " [0. 0. 0.]\n",
      " [0. 0. 0.]]\n",
      "U = \n",
      " [[1. 1. 1.]\n",
      " [1. 1. 1.]\n",
      " [1. 1. 1.]]\n",
      "D = \n",
      " [[10  0  0]\n",
      " [ 0 10  0]\n",
      " [ 0  0 10]]\n"
     ]
    }
   ],
   "source": [
    "# Criando tensores.\n",
    "V = np.zeros((3,3))\n",
    "print('V = \\n', V)\n",
    "\n",
    "U = np.ones((3,3))\n",
    "print('U = \\n', U)\n",
    "\n",
    "D = np.diag([10, 10, 10])\n",
    "print('D = \\n', D)"
   ]
  },
  {
   "cell_type": "code",
   "execution_count": 71,
   "id": "4967bc53",
   "metadata": {},
   "outputs": [
    {
     "name": "stdout",
     "output_type": "stream",
     "text": [
      "v = [0.  0.5 1.  1.5 2.  2.5 3.  3.5 4.  4.5]\n",
      "u = [0.  0.5 1.  1.5 2.  2.5 3.  3.5 4.  4.5 5. ]\n"
     ]
    }
   ],
   "source": [
    "# Criação de sequências como tensores.\n",
    "v = np.arange(0, 5, 0.5)              # 0 a 5 com passo de 0.5.\n",
    "u = np.linspace(0, 5, 11)             # 0 a 5 separados em 10 partes iguais.\n",
    "print(\"v =\", v)\n",
    "print(\"u =\", u)"
   ]
  },
  {
   "cell_type": "code",
   "execution_count": 78,
   "id": "90515d7a",
   "metadata": {},
   "outputs": [
    {
     "name": "stdout",
     "output_type": "stream",
     "text": [
      "v =\n",
      "[[ 0  1  2  3  4]\n",
      " [ 5  6  7  8  9]\n",
      " [10 11 12 13 14]\n",
      " [15 16 17 18 19]\n",
      " [20 21 22 23 24]\n",
      " [25 26 27 28 29]\n",
      " [30 31 32 33 34]\n",
      " [35 36 37 38 39]\n",
      " [40 41 42 43 44]\n",
      " [45 46 47 48 49]]\n",
      "\n",
      "v.flatten = \n",
      "[ 0  1  2  3  4  5  6  7  8  9 10 11 12 13 14 15 16 17 18 19 20 21 22 23\n",
      " 24 25 26 27 28 29 30 31 32 33 34 35 36 37 38 39 40 41 42 43 44 45 46 47\n",
      " 48 49]\n"
     ]
    }
   ],
   "source": [
    "# Devolvendo um tensor para uma dimensão.\n",
    "v = np.array(range(50)).reshape(10, 5)\n",
    "print(f\"v =\\n{v}\")\n",
    "print()\n",
    "print(f\"v.flatten = \\n{v.flatten()}\")"
   ]
  },
  {
   "cell_type": "code",
   "execution_count": 81,
   "id": "de30ab62",
   "metadata": {},
   "outputs": [
    {
     "name": "stdout",
     "output_type": "stream",
     "text": [
      "1\n",
      "10\n",
      "[5 6 7 8 9]\n"
     ]
    }
   ],
   "source": [
    "# Acessando partes ou elementos de tensores.\n",
    "print(v[0, 1])\n",
    "print(v[2, 0])\n",
    "print(v[1])"
   ]
  },
  {
   "cell_type": "code",
   "execution_count": 82,
   "id": "1797c53c",
   "metadata": {},
   "outputs": [
    {
     "name": "stdout",
     "output_type": "stream",
     "text": [
      "[0 1 2 3 4 5 6 7 8 9]\n",
      "\n",
      "[1 2]\n"
     ]
    }
   ],
   "source": [
    "# Gerando tensor a partir de outro tensor.\n",
    "v = np.arange(10)\n",
    "print(v)\n",
    "print()\n",
    "u = v[1:3]\n",
    "print(u)"
   ]
  },
  {
   "cell_type": "code",
   "execution_count": 84,
   "id": "16beddc2",
   "metadata": {},
   "outputs": [
    {
     "name": "stdout",
     "output_type": "stream",
     "text": [
      "[[ 0  1  2  3  4]\n",
      " [ 5  6  7  8  9]\n",
      " [10 11 12 13 14]]\n",
      "\n",
      "[[2 3]\n",
      " [7 8]]\n"
     ]
    }
   ],
   "source": [
    "A = np.arange(15).reshape(3,5)\n",
    "print(A)\n",
    "print()\n",
    "subA = A[0:2, 2:4]\n",
    "print(subA)"
   ]
  },
  {
   "cell_type": "code",
   "execution_count": 3,
   "id": "05b15cbb",
   "metadata": {},
   "outputs": [
    {
     "data": {
      "text/plain": [
       "array([1.1, 2.2, 1.3, 1.4, 2.5])"
      ]
     },
     "execution_count": 3,
     "metadata": {},
     "output_type": "execute_result"
    }
   ],
   "source": [
    "# Tomar um valor de xarr sempre que o valor correspondente em cond seja True e, caso contrário, tomar o valor de yarr.\n",
    "xarr = np.array([1.1, 1.2, 1.3, 1.4, 1.5])\n",
    "yarr = np.array([2.1, 2.2, 2.3, 2.4, 2.5])\n",
    "cond = np.array([True, False, True, True, False])\n",
    "result = np.where(cond, xarr, yarr)\n",
    "result"
   ]
  },
  {
   "cell_type": "code",
   "execution_count": 9,
   "id": "2b11491d",
   "metadata": {},
   "outputs": [
    {
     "name": "stdout",
     "output_type": "stream",
     "text": [
      "[[-3.36300582 -1.95073452 -0.55430289  0.38587163]\n",
      " [-2.19661112 -1.19682317 -1.20665735  1.25093112]\n",
      " [-0.46634108  0.90796436  1.23914556 -0.5975908 ]\n",
      " [ 0.14344653 -0.18856767 -1.23933257 -1.23515191]]\n",
      "\n",
      "[[False False False  True]\n",
      " [False False False  True]\n",
      " [False  True  True False]\n",
      " [ True False False False]]\n",
      "\n",
      "[[-1 -1 -1  1]\n",
      " [-1 -1 -1  1]\n",
      " [-1  1  1 -1]\n",
      " [ 1 -1 -1 -1]]\n"
     ]
    }
   ],
   "source": [
    "# Substituir todos os valores positivos por 1 e todos os valores negativos por –1.\n",
    "arr = np.random.randn(4, 4)\n",
    "print(arr)\n",
    "print()\n",
    "print(arr > 0)\n",
    "print()\n",
    "print(np.where(arr > 0, 1, -1))"
   ]
  },
  {
   "cell_type": "code",
   "execution_count": 10,
   "id": "0a57acaa",
   "metadata": {},
   "outputs": [
    {
     "name": "stdout",
     "output_type": "stream",
     "text": [
      "[[-3.36300582 -1.95073452 -0.55430289  1.        ]\n",
      " [-2.19661112 -1.19682317 -1.20665735  1.        ]\n",
      " [-0.46634108  1.          1.         -0.5975908 ]\n",
      " [ 1.         -0.18856767 -1.23933257 -1.23515191]]\n"
     ]
    }
   ],
   "source": [
    "# Substituir todos os valores positivos em arr pela constante 1.\n",
    "print(np.where(arr > 0, 1, arr))"
   ]
  },
  {
   "cell_type": "markdown",
   "id": "d21e9ec2",
   "metadata": {},
   "source": [
    "## Operação com Tensores\n",
    "- As operações sobre tensores NumPy são realizada elemento a elemento."
   ]
  },
  {
   "cell_type": "code",
   "execution_count": 86,
   "id": "bf3da825",
   "metadata": {},
   "outputs": [
    {
     "name": "stdout",
     "output_type": "stream",
     "text": [
      "[13 22 31]\n"
     ]
    }
   ],
   "source": [
    "# Soma.\n",
    "v = np.array([10, 20, 30])\n",
    "u = np.array([3, 2, 1])\n",
    "w = u + v\n",
    "print(w)"
   ]
  },
  {
   "cell_type": "code",
   "execution_count": 88,
   "id": "d59725ef",
   "metadata": {},
   "outputs": [
    {
     "name": "stdout",
     "output_type": "stream",
     "text": [
      "w = [30 40 30]\n",
      "x = [ 3.33333333 10.         30.        ]\n"
     ]
    }
   ],
   "source": [
    "# Multiplicação e divisão.\n",
    "w = u*v\n",
    "print(\"w =\", w)\n",
    "x = v/u\n",
    "print(\"x =\", x)"
   ]
  },
  {
   "cell_type": "code",
   "execution_count": 91,
   "id": "67b9cbae",
   "metadata": {},
   "outputs": [
    {
     "name": "stdout",
     "output_type": "stream",
     "text": [
      "[ 9 25]\n"
     ]
    }
   ],
   "source": [
    "# Potenciação.\n",
    "x = np.array([3, 5])\n",
    "y = x**2\n",
    "print(y)"
   ]
  },
  {
   "cell_type": "code",
   "execution_count": 110,
   "id": "e1ee75a0",
   "metadata": {},
   "outputs": [
    {
     "name": "stdout",
     "output_type": "stream",
     "text": [
      "x =\n",
      "[[ 1  2  3  4  5]\n",
      " [ 6  7  8  9 10]\n",
      " [11 12 13 14 15]\n",
      " [16 17 18 19 20]]\n",
      "\n",
      "Média = 10.5\n",
      "Menor valor = 1\n",
      "Maior valor = 20\n"
     ]
    }
   ],
   "source": [
    "# Média, mínimo, máximo. \n",
    "x = np.arange(1, 21).reshape(4, -1)\n",
    "print(f\"x =\\n{x}\")\n",
    "print()\n",
    "media = x.mean()\n",
    "menor_valor = np.min(x)\n",
    "maior_valor = np.max(x)\n",
    "print(f\"Média = {media}\")\n",
    "print(f\"Menor valor = {menor_valor}\")\n",
    "print(f\"Maior valor = {maior_valor}\")"
   ]
  },
  {
   "cell_type": "code",
   "execution_count": 112,
   "id": "1efcd508",
   "metadata": {},
   "outputs": [
    {
     "name": "stdout",
     "output_type": "stream",
     "text": [
      "w = 100\n",
      "x = 100\n"
     ]
    }
   ],
   "source": [
    "# Produto escalar.\n",
    "v = np.array([10, 20, 30])\n",
    "u = np.array([3, 2, 1])\n",
    "w = np.dot(u, v)\n",
    "print(\"w =\", w)"
   ]
  },
  {
   "cell_type": "code",
   "execution_count": 113,
   "id": "55ecc9c5",
   "metadata": {},
   "outputs": [
    {
     "name": "stdout",
     "output_type": "stream",
     "text": [
      "x = 1000\n"
     ]
    }
   ],
   "source": [
    "# Multiplicação de um escalar por um vetor:\n",
    "x = 10*w\n",
    "print(\"x =\", x)"
   ]
  },
  {
   "cell_type": "markdown",
   "id": "b973c87d",
   "metadata": {},
   "source": [
    "## Matrizes"
   ]
  },
  {
   "cell_type": "code",
   "execution_count": 115,
   "id": "0909e489",
   "metadata": {},
   "outputs": [
    {
     "name": "stdout",
     "output_type": "stream",
     "text": [
      "A =\n",
      "[[10 20 30]\n",
      " [30 40 50]\n",
      " [50 60 70]]\n"
     ]
    }
   ],
   "source": [
    "# Criando uma matriz.\n",
    "A = np.array([[10, 20, 30], [30, 40, 50], [50, 60, 70]])\n",
    "print(f\"A =\\n{A}\")"
   ]
  },
  {
   "cell_type": "code",
   "execution_count": 116,
   "id": "51f866c5",
   "metadata": {},
   "outputs": [
    {
     "name": "stdout",
     "output_type": "stream",
     "text": [
      "[[1. 0. 0.]\n",
      " [0. 1. 0.]\n",
      " [0. 0. 1.]]\n"
     ]
    }
   ],
   "source": [
    "# Matriz identidade.\n",
    "I = np.eye(3)\n",
    "print(I)"
   ]
  },
  {
   "cell_type": "code",
   "execution_count": 119,
   "id": "cd9a1278",
   "metadata": {},
   "outputs": [
    {
     "name": "stdout",
     "output_type": "stream",
     "text": [
      "[[1. 0. 0.]\n",
      " [0. 2. 0.]\n",
      " [0. 0. 3.]]\n"
     ]
    }
   ],
   "source": [
    "# Matriz diagonal.\n",
    "D = np.diag(np.arange(1.0, 4.0))\n",
    "print(D)"
   ]
  },
  {
   "cell_type": "code",
   "execution_count": 129,
   "id": "e01ff518",
   "metadata": {},
   "outputs": [
    {
     "name": "stdout",
     "output_type": "stream",
     "text": [
      "v x A =\n",
      " [[1 2]\n",
      " [3 4]] x [10 10]\n",
      "\n",
      "u =\n",
      "[30 70]\n"
     ]
    }
   ],
   "source": [
    "# Produto vectorial.\n",
    "v = np.array([10, 10])\n",
    "A = np.arange(1, 5).reshape(2, 2)\n",
    "u = A.dot(v)\n",
    "print(f\"v x A =\\n {A} x {v}\")\n",
    "print()\n",
    "print(f\"u =\\n{u}\")"
   ]
  },
  {
   "cell_type": "code",
   "execution_count": 134,
   "id": "467b4318",
   "metadata": {},
   "outputs": [
    {
     "name": "stdout",
     "output_type": "stream",
     "text": [
      "[[30. 30. 30.]\n",
      " [30. 30. 30.]\n",
      " [30. 30. 30.]]\n"
     ]
    }
   ],
   "source": [
    "A = np.ones((3, 3))\n",
    "B = 10*np.ones((3, 3))\n",
    "C = np.dot(A, B)\n",
    "print(C)"
   ]
  },
  {
   "cell_type": "code",
   "execution_count": 144,
   "id": "3fcd64c5",
   "metadata": {},
   "outputs": [
    {
     "name": "stdout",
     "output_type": "stream",
     "text": [
      "A =\n",
      "[[0 1]\n",
      " [2 3]]\n",
      "\n",
      "Transposta de A =\n",
      " [[0 2]\n",
      " [1 3]]\n",
      "\n",
      "  Ou\n",
      "\n",
      "Transposta de A =\n",
      " [[0 2]\n",
      " [1 3]]\n"
     ]
    }
   ],
   "source": [
    "# Transposição de matrizes.\n",
    "A = np.arange(4).reshape(2,2)\n",
    "print(f\"A =\\n{A}\")\n",
    "print()\n",
    "print(\"Transposta de A =\\n\", A.transpose())\n",
    "print()\n",
    "print(\"  Ou\")\n",
    "print()\n",
    "print(\"Transposta de A =\\n\", A.T)"
   ]
  },
  {
   "cell_type": "markdown",
   "id": "9c14619a",
   "metadata": {},
   "source": [
    "## Álgebra Linear\n",
    "- O NumPy possui um submódulo especí¦co para a realização de operações típicas da álgebra linear chamado linalg.\n",
    "- Com este módulo é possível resolver sistemas lineares, obter inversas de matrizes, calcular autovalores e autovetores, etc."
   ]
  },
  {
   "cell_type": "code",
   "execution_count": 147,
   "id": "91a02e73",
   "metadata": {},
   "outputs": [
    {
     "name": "stdout",
     "output_type": "stream",
     "text": [
      "Solução: [0.   0.25]\n"
     ]
    }
   ],
   "source": [
    "# Solução de sistemas lineares.\n",
    "A = np.array([10, 20, 30, 40]).reshape(2,2)\n",
    "B = np.array([5, 10])\n",
    "x = np.linalg.solve(A, B)\n",
    "print(f\"Solução: {x}\")"
   ]
  },
  {
   "cell_type": "code",
   "execution_count": 155,
   "id": "bbede7a1",
   "metadata": {},
   "outputs": [
    {
     "name": "stdout",
     "output_type": "stream",
     "text": [
      "A =\n",
      " [[10 20]\n",
      " [30 40]]\n",
      "\n",
      "Matriz inversa =\n",
      "[[-0.2   0.1 ]\n",
      " [ 0.15 -0.05]]\n"
     ]
    }
   ],
   "source": [
    "# Matriz inversa.\n",
    "A = np.array([10, 20, 30, 40]).reshape(2,2)\n",
    "print(f\"A =\\n {A}\")\n",
    "print()\n",
    "inv_A = np.linalg.inv(A)\n",
    "print(f\"Matriz inversa =\\n{inv_A}\")"
   ]
  },
  {
   "cell_type": "code",
   "execution_count": 156,
   "id": "5c690d4e",
   "metadata": {},
   "outputs": [
    {
     "name": "stdout",
     "output_type": "stream",
     "text": [
      "Rank de A = 2\n",
      "Determinante de A = -200.00\n"
     ]
    }
   ],
   "source": [
    "# Rank e determinante.\n",
    "rank_A = np.linalg.matrix_rank(A)\n",
    "print(\"Rank de A =\",rank_A)\n",
    "det_A = np.linalg.det(A)\n",
    "print(\"Determinante de A = %.2f\" % det_A)"
   ]
  }
 ],
 "metadata": {
  "kernelspec": {
   "display_name": "Python 3 (ipykernel)",
   "language": "python",
   "name": "python3"
  },
  "language_info": {
   "codemirror_mode": {
    "name": "ipython",
    "version": 3
   },
   "file_extension": ".py",
   "mimetype": "text/x-python",
   "name": "python",
   "nbconvert_exporter": "python",
   "pygments_lexer": "ipython3",
   "version": "3.11.5"
  }
 },
 "nbformat": 4,
 "nbformat_minor": 5
}
