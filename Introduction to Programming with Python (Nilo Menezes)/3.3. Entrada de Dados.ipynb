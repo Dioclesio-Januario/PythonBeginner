{
 "cells": [
  {
   "cell_type": "markdown",
   "id": "3ed686a5",
   "metadata": {},
   "source": [
    "# Entrada de dados\n",
    "- Chamamos de entrada de dados o momento em que seu programa recebe dados ou valores por um dispositivo de entrada de dados (como o teclado do computador) ou de um arquivo em disco.\n",
    "- A função input é utilizada para solicitar dados do usuário. Ela recebe um parâmetro e retorna o valor digitado pelo usuário."
   ]
  },
  {
   "cell_type": "code",
   "execution_count": 1,
   "id": "21cfc2fd",
   "metadata": {},
   "outputs": [
    {
     "name": "stdout",
     "output_type": "stream",
     "text": [
      "Digite um número: 2\n",
      "x = 2\n"
     ]
    }
   ],
   "source": [
    "# Recebe um número em x e imprime na tela (x = número)\n",
    "x = input(\"Digite um número: \")\n",
    "print(\"x =\", x)"
   ]
  },
  {
   "cell_type": "code",
   "execution_count": 15,
   "id": "1a4ca3f4",
   "metadata": {},
   "outputs": [
    {
     "name": "stdout",
     "output_type": "stream",
     "text": [
      "Digite o seu nome:Dio\n",
      "Olá, Dio !\n"
     ]
    }
   ],
   "source": [
    "# Recebe um nome e apresenta uma saudação\n",
    "nome = input(\"Digite o seu nome:\")\n",
    "print (\"Olá,\", nome,\"!\")"
   ]
  },
  {
   "cell_type": "code",
   "execution_count": 10,
   "id": "5270a781",
   "metadata": {},
   "outputs": [
    {
     "name": "stdout",
     "output_type": "stream",
     "text": [
      "Digite seu nome:Dio\n",
      "Olá, Dio!\n"
     ]
    }
   ],
   "source": [
    "# Recebe um nome e apresenta uma saudação\n",
    "nome = input(\"Digite seu nome:\")\n",
    "print(\"Olá, %s!\" % nome)"
   ]
  },
  {
   "cell_type": "markdown",
   "id": "0bc59973",
   "metadata": {},
   "source": [
    "## Conversão da entrada de dados\n",
    "- A função input sempre retorna valores do tipo string. Para resolver esse pequeno problema, vamos utilizar a função int para converter o valor retornado em um número inteiro, e a função float para convertê-lo em número decimal."
   ]
  },
  {
   "cell_type": "code",
   "execution_count": 24,
   "id": "d9fcae40",
   "metadata": {},
   "outputs": [
    {
     "name": "stdout",
     "output_type": "stream",
     "text": [
      "Este programa compara dois números\n",
      "Digite o primeiro número:2\n",
      "Digite o segundo número:3\n",
      "a = 2\n",
      "b = 3\n",
      "a <= b\n"
     ]
    }
   ],
   "source": [
    "print (\"Este programa compara dois números\" )\n",
    "\n",
    "a = int(input(\"Digite o primeiro número:\"))\n",
    "b = int(input(\"Digite o segundo número:\"))\n",
    "print (\"a =\",a)\n",
    "print (\"b =\",b)\n",
    "\n",
    "if a > b:\n",
    "    print (\"a > b\")\n",
    "else: print (\"a <= b\")"
   ]
  },
  {
   "cell_type": "code",
   "execution_count": 34,
   "id": "dc07e59b",
   "metadata": {},
   "outputs": [
    {
     "name": "stdout",
     "output_type": "stream",
     "text": [
      "Digite a sua nota: 15\n",
      "15.0\n",
      "Dispensado\n"
     ]
    }
   ],
   "source": [
    "# Determina a situação do estudante com base na nota (Imprime, caso seja verdadeiro - True)\n",
    "nota = float(input(\"Digite a sua nota: \"))\n",
    "print (nota)\n",
    "\n",
    "if nota < 10:\n",
    "    print (\"Reprovado\")\n",
    "\n",
    "if 14 > nota >= 10:\n",
    "    print (\"Aprovado\")\n",
    "\n",
    "if nota >= 14:\n",
    "    print (\"Dispensado\")"
   ]
  },
  {
   "cell_type": "code",
   "execution_count": 37,
   "id": "91261e79",
   "metadata": {},
   "outputs": [
    {
     "name": "stdout",
     "output_type": "stream",
     "text": [
      "Digite o seu salário: 10000.500\n",
      "Digite a sua idade: 20\n",
      "Emprestimo aceito\n"
     ]
    }
   ],
   "source": [
    "# Verifica se há condição para empréstimo. Aprovado se salário maior que 10 mil e idade maior ou igual a 20.\n",
    "salario = float(input(\"Digite o seu salário: \"))\n",
    "idade = int(input(\"Digite a sua idade: \"))\n",
    "\n",
    "if salario > 10000 and idade >= 20:\n",
    "    print (\"Emprestimo aceito\")\n",
    "else: print (\"Emprestimo rejeitado\")"
   ]
  },
  {
   "cell_type": "code",
   "execution_count": 2,
   "id": "7393228d",
   "metadata": {},
   "outputs": [
    {
     "name": "stdout",
     "output_type": "stream",
     "text": [
      "Digite o seu salário: 10000\n",
      "Digite seus anos de trabalho: 5\n",
      "Processando...\n",
      "Emprestimo rejeitado\n"
     ]
    }
   ],
   "source": [
    "# Verifica se há condição para empréstimo. Aprovado salário maior que 10 mil ou anos de trabalho maior que 5 anos.\n",
    "from time import sleep\n",
    "\n",
    "salario = float(input(\"Digite o seu salário: \"))\n",
    "anos = int(input(\"Digite seus anos de trabalho: \"))\n",
    "\n",
    "print (\"Processando...\")\n",
    "sleep(3)\n",
    "\n",
    "if salario > 10000 or anos > 5:\n",
    "    print (\"Emprestimo aceito\")\n",
    "else: print (\"Emprestimo rejeitado\")"
   ]
  },
  {
   "cell_type": "code",
   "execution_count": 54,
   "id": "7c1e375a",
   "metadata": {},
   "outputs": [
    {
     "name": "stdout",
     "output_type": "stream",
     "text": [
      "Anos de serviço: 10\n",
      "Valor por ano: 15000\n",
      "Bônus de $ 3000.00\n"
     ]
    }
   ],
   "source": [
    "# Determina o bónus pro temmpo de serviço\n",
    "anos = int(input(\"Anos de serviço: \"))\n",
    "valor_por_ano = float(input(\"Valor por ano: \"))\n",
    "bônus = anos * valor_por_ano/50\n",
    "print(\"Bônus de $ %0.2f\" % bônus)                            # Bónus deslocado 0 posições com 2 casas dicimais"
   ]
  },
  {
   "cell_type": "code",
   "execution_count": 55,
   "id": "ff6b1a6f",
   "metadata": {},
   "outputs": [
    {
     "name": "stdout",
     "output_type": "stream",
     "text": [
      "Digite a temperatura em Celsius: 20\n",
      "A temperatura em Fahrenheit é: 68.00 F\n"
     ]
    }
   ],
   "source": [
    "#Escreva um programa que converta uma temperatura digitada em °C em °F.\n",
    "c = float(input(\"Digite a temperatura em Celsius: \"))\n",
    "F = 9*c/5 + 32\n",
    "print (\"A temperatura em Fahrenheit é: %0.2f F\"%F)           # Temperatura deslocada 5 posições e 3 casas decimais"
   ]
  },
  {
   "cell_type": "code",
   "execution_count": 63,
   "id": "45939ab4",
   "metadata": {},
   "outputs": [
    {
     "name": "stdout",
     "output_type": "stream",
     "text": [
      "Digite a distância percorrida em km: 100\n",
      "Digite a quantidade de dias: 2\n",
      "Distância percorrida: 100.00 km\n",
      "Dias de uso: 2 dias\n",
      "O valor a pagar é: 3000.00 Meticais\n"
     ]
    }
   ],
   "source": [
    "# Escreva um programa que pergunte a quantidade de km percorridos por um carro alugado pelo usuário.\n",
    "# Assim como a quantidade de dias pelos quais o carro foi alugado.\n",
    "# Calcule o preço a pagar, sabendo que o carro custa 1000 meticais por dia e 10 por km rodado.\n",
    "\n",
    "s = float(input(\"Digite a distância percorrida em km: \"))\n",
    "d = int(input(\"Digite a quantidade de dias: \"))\n",
    "p = 1000*d + 10*s\n",
    "\n",
    "print (\"Distância percorrida: %0.2f km\"%s)\n",
    "print (\"Dias de uso: %0.1d dias\"%d)\n",
    "print (\"O valor a pagar é: %0.2f Meticais\"%p)\n"
   ]
  }
 ],
 "metadata": {
  "kernelspec": {
   "display_name": "Python 3 (ipykernel)",
   "language": "python",
   "name": "python3"
  },
  "language_info": {
   "codemirror_mode": {
    "name": "ipython",
    "version": 3
   },
   "file_extension": ".py",
   "mimetype": "text/x-python",
   "name": "python",
   "nbconvert_exporter": "python",
   "pygments_lexer": "ipython3",
   "version": "3.11.5"
  }
 },
 "nbformat": 4,
 "nbformat_minor": 5
}
