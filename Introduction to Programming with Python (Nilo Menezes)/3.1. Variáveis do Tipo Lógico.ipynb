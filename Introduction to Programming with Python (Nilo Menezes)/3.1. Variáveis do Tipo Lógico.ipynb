{
 "cells": [
  {
   "cell_type": "markdown",
   "id": "9eae4687",
   "metadata": {},
   "source": [
    "# Variáveis do Tipo Lógico\n",
    "- Utilizadas para armazenar um conteúdo simples: verdadeiro/True ou falso/False (booleano)."
   ]
  },
  {
   "cell_type": "code",
   "execution_count": 1,
   "id": "b162b86c",
   "metadata": {},
   "outputs": [],
   "source": [
    "a = 10\n",
    "b = 12"
   ]
  },
  {
   "cell_type": "code",
   "execution_count": 2,
   "id": "9e914371",
   "metadata": {},
   "outputs": [
    {
     "data": {
      "text/plain": [
       "False"
      ]
     },
     "execution_count": 2,
     "metadata": {},
     "output_type": "execute_result"
    }
   ],
   "source": [
    "# Verifica se a = b.\n",
    "a == b"
   ]
  },
  {
   "cell_type": "code",
   "execution_count": 3,
   "id": "950620f4",
   "metadata": {},
   "outputs": [
    {
     "data": {
      "text/plain": [
       "True"
      ]
     },
     "execution_count": 3,
     "metadata": {},
     "output_type": "execute_result"
    }
   ],
   "source": [
    "# Verifica se b > a.\n",
    "b > a"
   ]
  },
  {
   "cell_type": "code",
   "execution_count": 4,
   "id": "eed7a9b0",
   "metadata": {},
   "outputs": [
    {
     "name": "stdout",
     "output_type": "stream",
     "text": [
      "Dispensado\n"
     ]
    }
   ],
   "source": [
    "# Determina a situação do estudante com base na nota (Imprime, caso seja verdadeiro - True)\n",
    "nota = 14\n",
    "if nota < 10:\n",
    "    print (\"Reprovado\")\n",
    "\n",
    "if 14 > nota >= 10:\n",
    "    print (\"Aprovado\")\n",
    "\n",
    "if nota >= 14:\n",
    "    print (\"Dispensado\")"
   ]
  },
  {
   "cell_type": "code",
   "execution_count": 5,
   "id": "c08e7ac4",
   "metadata": {},
   "outputs": [
    {
     "name": "stdout",
     "output_type": "stream",
     "text": [
      "Emprestimo aceito\n"
     ]
    }
   ],
   "source": [
    "# Verifica se há condição para empréstimo. Aprovado se salário maior que 10 mil e idade maior ou igual a 20.\n",
    "salario = 12000\n",
    "idade = 23\n",
    "if salario > 10000 and idade >= 20:\n",
    "    print (\"Emprestimo aceito\")\n",
    "else: print (\"Emprestimo rejeitado\")"
   ]
  },
  {
   "cell_type": "code",
   "execution_count": 1,
   "id": "ab4aa212",
   "metadata": {},
   "outputs": [
    {
     "name": "stdout",
     "output_type": "stream",
     "text": [
      "Emprestimo rejeitado\n"
     ]
    }
   ],
   "source": [
    "# Verifica se há condição para empréstimo. Aprovado salário maior que 10 mil ou anos de trabalho maior que 5 anos.\n",
    "salario = 6500\n",
    "anos = 5\n",
    "if salario > 10000 or anos > 5:\n",
    "    print (\"Emprestimo aceito\")\n",
    "else: print (\"Emprestimo rejeitado\")"
   ]
  }
 ],
 "metadata": {
  "kernelspec": {
   "display_name": "Python 3 (ipykernel)",
   "language": "python",
   "name": "python3"
  },
  "language_info": {
   "codemirror_mode": {
    "name": "ipython",
    "version": 3
   },
   "file_extension": ".py",
   "mimetype": "text/x-python",
   "name": "python",
   "nbconvert_exporter": "python",
   "pygments_lexer": "ipython3",
   "version": "3.11.5"
  }
 },
 "nbformat": 4,
 "nbformat_minor": 5
}
