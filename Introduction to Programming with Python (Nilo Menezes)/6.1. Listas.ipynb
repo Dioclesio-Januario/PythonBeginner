{
 "cells": [
  {
   "cell_type": "markdown",
   "id": "3ed686a5",
   "metadata": {},
   "source": [
    "# Listas\n",
    "- Permitem o armazenamento de vários valores, acessados por um índice.\n",
    "- Podemos imaginar uma lista como um edifício de apartamentos, onde o térreo é o andar zero, o primeiro andar é o andar 1...\n",
    "- O índice é utilizado para especificarmos o “apartamento” onde guardaremos nossos dados.\n",
    "- Se chamarmos nosso prédio de P, teremos P[0] como o endereço do térreo, P[1] como endereço do primeiro andar.\n",
    "- Em Python, P seria o nome da lista; e o número entre colchetes, o índice."
   ]
  },
  {
   "cell_type": "markdown",
   "id": "d1989764",
   "metadata": {},
   "source": [
    "## Operações Básicas"
   ]
  },
  {
   "cell_type": "code",
   "execution_count": 3,
   "id": "d87ef5b2",
   "metadata": {},
   "outputs": [
    {
     "name": "stdout",
     "output_type": "stream",
     "text": [
      "z[1] = 6\n"
     ]
    }
   ],
   "source": [
    "# lista Z, com tamanho = 3.\n",
    "z = [3, 6, 9]\n",
    "print (\"z[1] =\", z[1])"
   ]
  },
  {
   "cell_type": "code",
   "execution_count": 17,
   "id": "13bd429e",
   "metadata": {},
   "outputs": [
    {
     "name": "stdout",
     "output_type": "stream",
     "text": [
      "[3, 6, 12]\n"
     ]
    }
   ],
   "source": [
    "# Modificando a lista (alterando o 3ro elemento).\n",
    "z[2] = 12\n",
    "print(z)"
   ]
  },
  {
   "cell_type": "code",
   "execution_count": 15,
   "id": "21cfc2fd",
   "metadata": {},
   "outputs": [
    {
     "name": "stdout",
     "output_type": "stream",
     "text": [
      "Média: 13.00\n"
     ]
    }
   ],
   "source": [
    "# Calculando média acessando notas de uma lista.\n",
    "notas = [12, 14, 13, 15, 11]\n",
    "soma = 0\n",
    "x = 0\n",
    "\n",
    "while x < 5:\n",
    "    soma += notas[x]                                # soma = soma + notas[x]\n",
    "    x += 1\n",
    "    \n",
    "print(\"Média: %0.2f\" %(soma/x))"
   ]
  },
  {
   "cell_type": "code",
   "execution_count": 1,
   "id": "eb69e773",
   "metadata": {},
   "outputs": [
    {
     "name": "stdout",
     "output_type": "stream",
     "text": [
      "Nota 1: 14\n",
      "Nota 2: 12\n",
      "Nota 3: 16\n",
      "Nota 1 é 14.00\n",
      "Nota 2 é 12.00\n",
      "Nota 3 é 16.00\n",
      "Média: 14.00\n"
     ]
    }
   ],
   "source": [
    "# Calculando média com 3 notas sendo inseridas em uma lista.\n",
    "notas = [0, 0, 0]\n",
    "soma = 0\n",
    "x = 0\n",
    "\n",
    "while x < 3:\n",
    "    notas[x] = float(input(\"Nota %d: \" %(x + 1)))\n",
    "    soma += notas[x]\n",
    "    x += 1\n",
    "\n",
    "x = 0\n",
    "while x < 3:\n",
    "    print(\"Nota %d é %0.2f\" %(x + 1, notas[x]))\n",
    "    x += 1\n",
    "    \n",
    "print(\"Média: %0.2f\" %(soma/x))"
   ]
  },
  {
   "cell_type": "code",
   "execution_count": 42,
   "id": "5270a781",
   "metadata": {},
   "outputs": [
    {
     "name": "stdout",
     "output_type": "stream",
     "text": [
      "Digite um número: 1\n",
      "Digite um número: 3\n",
      "Digite um número: 5\n",
      "Digite um número: 7\n",
      "Digite um número: 9\n",
      "Digite a posição do número a mostrar (0 para sair): 2\n",
      "Você escolheu a posição 2\n",
      "O número é 3\n",
      "Digite a posição do número a mostrar (0 para sair): 0\n"
     ]
    }
   ],
   "source": [
    "# lê cinco números, armazena-os em uma lista e depois solicita que o usuário escolha um número a mostrar.\n",
    "# Se o usuário digitar 2, ele imprimirá o segundo número digitado, 3, o terceiro, e assim sucessivamente.\n",
    "n = [0, 0, 0, 0, 0]\n",
    "x = 0\n",
    "\n",
    "while x < 5:\n",
    "    n[x] = int(input(\"Digite um número: \"))\n",
    "    x += 1\n",
    "\n",
    "while True:\n",
    "    m = int(input(\"Digite a posição do número a mostrar (0 para sair): \"))\n",
    "    if m == 0:\n",
    "        break\n",
    "        \n",
    "    print (\"Você escolheu a posição %d\" %m)\n",
    "    print (\"O número é %d\" %n[m - 1])                                           # Pois a contagem começa de zero."
   ]
  },
  {
   "cell_type": "code",
   "execution_count": 5,
   "id": "25d208ca",
   "metadata": {},
   "outputs": [
    {
     "name": "stdout",
     "output_type": "stream",
     "text": [
      "[1, 2, 3, 4, 5] [1, 2, 3, 4, 5]\n",
      "[6, 2, 3, 4, 5] [6, 2, 3, 4, 5]\n"
     ]
    }
   ],
   "source": [
    "# Ao modificarmos V, modificamos também o conteúdo de L. V e L são a mesma lista.\n",
    "# Quando atribuímos um objeto a outro, estamos copiando a mesma referência da lista, e não seus dados em si.\n",
    "L = [1, 2, 3, 4, 5]\n",
    "V = L\n",
    "print(L, V)\n",
    "\n",
    "V[0] = 6\n",
    "\n",
    "print(V, L)"
   ]
  },
  {
   "cell_type": "code",
   "execution_count": 49,
   "id": "e55063c5",
   "metadata": {},
   "outputs": [
    {
     "name": "stdout",
     "output_type": "stream",
     "text": [
      "[6, 2, 3, 4, 5] [1, 2, 3, 4, 5]\n"
     ]
    }
   ],
   "source": [
    "# Criando uma cópia independente de uma lista.\n",
    "# L[:], estamos nos referindo a uma nova cópia de L.\n",
    "# Assim L e V se referem a áreas diferentes na memória, permitindo alterá-las de forma independente.\n",
    "L = [1, 2, 3, 4, 5]\n",
    "V = L[:]\n",
    "\n",
    "V[0] = 6\n",
    "\n",
    "print(V, L)"
   ]
  },
  {
   "cell_type": "code",
   "execution_count": 3,
   "id": "0b44629f",
   "metadata": {},
   "outputs": [
    {
     "name": "stdout",
     "output_type": "stream",
     "text": [
      "L[0:5] = [1, 2, 3, 4, 5]\n",
      "L[:3] = [1, 2, 3]\n",
      "L[:-1] = [1, 2, 3, 4]\n",
      "L[3:] = [4, 5]\n",
      "L[-2] = 4\n"
     ]
    }
   ],
   "source": [
    "# Fatiamento de listas (relembrando: o ultimo item não aparece).\n",
    "L = [1, 2, 3, 4, 5]\n",
    "\n",
    "print(\"L[0:5] =\", L[0:5])\n",
    "\n",
    "print (\"L[:3] =\", L[:3])\n",
    "\n",
    "print (\"L[:-1] =\", L[:-1])\n",
    "\n",
    "print (\"L[3:] =\", L[3:])\n",
    "\n",
    "print (\"L[-2] =\", L[-2])"
   ]
  },
  {
   "cell_type": "code",
   "execution_count": 9,
   "id": "6f7cf260",
   "metadata": {},
   "outputs": [
    {
     "name": "stdout",
     "output_type": "stream",
     "text": [
      "5\n"
     ]
    }
   ],
   "source": [
    "# Usamos a função len para saber o tamanho de listas (número de elementos da lista).\n",
    "print (len(L))"
   ]
  },
  {
   "cell_type": "code",
   "execution_count": 4,
   "id": "3618ac33",
   "metadata": {},
   "outputs": [
    {
     "name": "stdout",
     "output_type": "stream",
     "text": [
      "1\n",
      "2\n",
      "3\n",
      "4\n",
      "5\n"
     ]
    }
   ],
   "source": [
    "# A função len pode ser utilizada em repetições para controlar o limite dos índices.\n",
    "\n",
    "x = 0\n",
    "\n",
    "while x < len (L):                              # Enquanto x < 5...\n",
    "    print (L[x])\n",
    "    x += 1"
   ]
  },
  {
   "cell_type": "code",
   "execution_count": 22,
   "id": "94dc866a",
   "metadata": {},
   "outputs": [
    {
     "name": "stdout",
     "output_type": "stream",
     "text": [
      "[6, 2, 3, 4, 5, 6]\n"
     ]
    }
   ],
   "source": [
    "# Para adicionar um elemento ao fim da lista, utilizaremos o método append ou L = L+[termos a add].\n",
    "L.append(6)\n",
    "print(L)"
   ]
  },
  {
   "cell_type": "code",
   "execution_count": 55,
   "id": "ce0be16d",
   "metadata": {},
   "outputs": [
    {
     "name": "stdout",
     "output_type": "stream",
     "text": [
      "Digite um número (0 sai): 1\n",
      "Digite um número (0 sai): 2\n",
      "Digite um número (0 sai): 3\n",
      "Digite um número (0 sai): 4\n",
      "Digite um número (0 sai): 5\n",
      "Digite um número (0 sai): 6\n",
      "Digite um número (0 sai): 0\n",
      "L = [1, 2, 3, 4, 5, 6]\n"
     ]
    }
   ],
   "source": [
    "# Lê números até que 0 seja digitado, e armazena na lista L.\n",
    "L = []\n",
    "\n",
    "while True:\n",
    "    n = int(input(\"Digite um número (0 sai): \"))\n",
    "    if n == 0:\n",
    "        break\n",
    "    L.append(n)\n",
    "\n",
    "print (\"L =\", L)"
   ]
  },
  {
   "cell_type": "code",
   "execution_count": 56,
   "id": "95fe0587",
   "metadata": {},
   "outputs": [
    {
     "name": "stdout",
     "output_type": "stream",
     "text": [
      "[1, 2, 3, 4, 5, 6, 7, [8, 9]]\n"
     ]
    }
   ],
   "source": [
    "# Adicionando lista em lista.\n",
    "L.extend([7])                          # Adiciona 7 a lista L.\n",
    "\n",
    "L.append([8, 9])                    # Adiciona a lista [8, 9] a lista L.\n",
    "\n",
    "print (L)"
   ]
  },
  {
   "cell_type": "code",
   "execution_count": 33,
   "id": "522f195e",
   "metadata": {},
   "outputs": [
    {
     "name": "stdout",
     "output_type": "stream",
     "text": [
      "C = [1, 2, 3, 4, 5, 6]\n"
     ]
    }
   ],
   "source": [
    "# Lê duas listas e gera uma terceira com os elementos das duas primeiras.\n",
    "A = [1, 2, 3]\n",
    "B = [4, 5, 6]\n",
    "C = A + B\n",
    "print (\"C =\", C)"
   ]
  },
  {
   "cell_type": "code",
   "execution_count": 105,
   "id": "e52aafb5",
   "metadata": {},
   "outputs": [],
   "source": [
    "# Percorre duas listas e gera uma terceira sem elementos repetidos.\n",
    "# A = [1, 2, 3]\n",
    "# B = [3, 4, 5]\n",
    "\n",
    "# C = \"A U B\""
   ]
  },
  {
   "cell_type": "code",
   "execution_count": 57,
   "id": "e0319c5e",
   "metadata": {},
   "outputs": [
    {
     "name": "stdout",
     "output_type": "stream",
     "text": [
      "[1, 2, 3, 4, 5, 6, 7]\n"
     ]
    }
   ],
   "source": [
    "# Para retirar elementos de listas utilizaremos a instrução del.\n",
    "del L[7]\n",
    "print (L)"
   ]
  },
  {
   "cell_type": "code",
   "execution_count": 5,
   "id": "73f76ea9",
   "metadata": {},
   "outputs": [
    {
     "name": "stdout",
     "output_type": "stream",
     "text": [
      "Existem 10 clientes na fila\n",
      "Fila atual: [1, 2, 3, 4, 5, 6, 7, 8, 9, 10]\n",
      "Digite F para adicionar um cliente ao fim da fila,\n",
      "ou A para realizar o atendimento. S para sair.\n",
      "Operação (F, A ou S):A\n",
      "Cliente 1 atendido\n",
      "Existem 9 clientes na fila\n",
      "Fila atual: [2, 3, 4, 5, 6, 7, 8, 9, 10]\n",
      "Digite F para adicionar um cliente ao fim da fila,\n",
      "ou A para realizar o atendimento. S para sair.\n",
      "Operação (F, A ou S):S\n"
     ]
    }
   ],
   "source": [
    "# Lista como fila. A inclusão é sempre realizada no fim, e as remoções são feitas no início (FIFO).\n",
    "# Exemplo fila de banco. Quando os clientes começam a chegar, eles vão diretamente para o fim da fila.\n",
    "# O cliente que chegou primeiro será atendido primeiro. Uma vez que o cliente é atendido, ele sai da fila.\n",
    "# Então, um novo cliente passa a ser o primeiro da fila e o próximo a ser atendido.\n",
    "# Para retirar cliente da fila e, ao mesmo tempo, obter o elemento retirado utilizamos o método pop fila.pop(0).\n",
    "\n",
    "ultimo = 10                                                                 # Fila inicial.\n",
    "fila = [1, 2, 3, 4, 5, 6, 7, 8, 9, 10]                                      # Gera uma lista de 10 elementos (1 ate 10).\n",
    "\n",
    "while True:\n",
    "    print (\"Existem %d clientes na fila\" % len(fila))\n",
    "    print (\"Fila atual:\", fila)\n",
    "    print (\"Digite F para adicionar um cliente ao fim da fila,\")\n",
    "    print (\"ou A para realizar o atendimento. S para sair.\")\n",
    "    \n",
    "    operação = input(\"Operação (F, A ou S): \")\n",
    "    if operação == \"A\":\n",
    "        if(len(fila)) > 0:\n",
    "            atendido = fila.pop(0)                                          # Retira (atende) e armazena o cliente 1.\n",
    "            print (\"Cliente %d atendido\" % atendido)\n",
    "        else:\n",
    "            print (\"Fila vazia! Ninguém para atender.\")\n",
    "    elif operação == \"F\":\n",
    "        ultimo += 1                                                         # Incrementa o ticket do novo cliente...\n",
    "        fila.append(ultimo)                                                 # Adc a fila.\n",
    "    elif operação == \"S\":\n",
    "        break\n",
    "    else:\n",
    "        print (\"Operação inválida! Digite apenas F, A ou S!\")"
   ]
  },
  {
   "cell_type": "code",
   "execution_count": 6,
   "id": "f7b2256c",
   "metadata": {},
   "outputs": [
    {
     "name": "stdout",
     "output_type": "stream",
     "text": [
      "Existem 5 pratos na pilha\n",
      "Pilha atual: [1, 2, 3, 4, 5]\n",
      "Digite E para empilhar um novo prato,\n",
      "ou D para desempilhar. S para sair.\n",
      "Operação (E, D ou S):D\n",
      "Prato 5 lavado\n",
      "Existem 4 pratos na pilha\n",
      "Pilha atual: [1, 2, 3, 4]\n",
      "Digite E para empilhar um novo prato,\n",
      "ou D para desempilhar. S para sair.\n",
      "Operação (E, D ou S):S\n"
     ]
    }
   ],
   "source": [
    "# Lista como pilha.\n",
    "\n",
    "prato = 5\n",
    "pilha = [1, 2, 3, 4, 5]\n",
    "\n",
    "while True:\n",
    "    print (\"Existem %d pratos na pilha\" % len(pilha))\n",
    "    print (\"Pilha atual:\", pilha)\n",
    "    print (\"Digite E para empilhar um novo prato,\")\n",
    "    print (\"ou D para desempilhar. S para sair.\")\n",
    "    \n",
    "    operação = input(\"Operação (E, D ou S):\")\n",
    "    if operação == \"D\":\n",
    "        if(len(pilha)) > 0:\n",
    "            lavado = pilha.pop(-1)\n",
    "            print (\"Prato %d lavado\" % lavado)\n",
    "        else:\n",
    "            print (\"Pilha vazia! Nada para lavar.\")\n",
    "    elif operação == \"E\":\n",
    "        prato += 1\n",
    "        pilha.append(prato)\n",
    "    elif operação == \"S\":\n",
    "        break\n",
    "    else:\n",
    "        print (\"Operação inválida! Digite apenas E, D ou S!\")"
   ]
  },
  {
   "cell_type": "code",
   "execution_count": 131,
   "id": "b4856d5a",
   "metadata": {},
   "outputs": [
    {
     "name": "stdout",
     "output_type": "stream",
     "text": [
      "Digite o valor a procurar: 3\n",
      "3 achado na posição 2\n"
     ]
    }
   ],
   "source": [
    "# Pesquisa se um elemento está ou não em uma lista.\n",
    "L = [1, 3, 5, 9]\n",
    "\n",
    "achou = False\n",
    "x = 0\n",
    "p = int(input(\"Digite o valor a procurar: \"))\n",
    "    \n",
    "while x < len(L):\n",
    "    if L[x] == p:\n",
    "        achou = True\n",
    "        break\n",
    "    x += 1\n",
    "    \n",
    "if achou:\n",
    "    print (\"%d achado na posição %d\" % (p, (x + 1)))\n",
    "else:\n",
    "    print (\"%d não encontrado\" %(p))"
   ]
  },
  {
   "cell_type": "code",
   "execution_count": 136,
   "id": "c7d88287",
   "metadata": {},
   "outputs": [
    {
     "name": "stdout",
     "output_type": "stream",
     "text": [
      "Digite um número a pesquisar: 6\n",
      "Elemento não encontrado.\n"
     ]
    }
   ],
   "source": [
    "# Repetições usando for em vez de while.\n",
    "# Normalmente utilizaremos for quando quisermos processar os elementos de uma lista, um a um.\n",
    "# while é indicado quando não sabemos ainda quantas vezes vamos repetir ou onde manipulamos índices de forma não sequencial.\n",
    "\n",
    "p = int(input(\"Digite um número a pesquisar: \"))\n",
    "\n",
    "for e in L:\n",
    "    if e == p:\n",
    "        print (\"Elemento encontrado!\")\n",
    "        break\n",
    "else:\n",
    "        print (\"Elemento não encontrado.\")"
   ]
  },
  {
   "cell_type": "code",
   "execution_count": 138,
   "id": "8a52192a",
   "metadata": {},
   "outputs": [
    {
     "name": "stdout",
     "output_type": "stream",
     "text": [
      "0\n",
      "1\n",
      "2\n",
      "3\n",
      "4\n",
      "5\n",
      "6\n",
      "7\n",
      "8\n",
      "9\n"
     ]
    }
   ],
   "source": [
    "# Gerando lista com range.\n",
    "\n",
    "for v in range(10):\n",
    "    print (v)"
   ]
  },
  {
   "cell_type": "code",
   "execution_count": 142,
   "id": "d36caa80",
   "metadata": {},
   "outputs": [
    {
     "name": "stdout",
     "output_type": "stream",
     "text": [
      "0\n",
      "2\n",
      "4\n",
      "6\n",
      "8\n"
     ]
    }
   ],
   "source": [
    "# Gerando lista com intervalos.\n",
    "\n",
    "for t in range(0, 10, 2):\n",
    "    print (t)"
   ]
  },
  {
   "cell_type": "code",
   "execution_count": 7,
   "id": "97be7a6d",
   "metadata": {},
   "outputs": [
    {
     "name": "stdout",
     "output_type": "stream",
     "text": [
      "L = [0, 2, 4, 6, 8]\n"
     ]
    }
   ],
   "source": [
    "# Os valores gerados por range não são exatamente uma lista. Para gerar lista usamos o comando list.\n",
    "\n",
    "L = list(range(0, 10, 2))\n",
    "print (\"L =\", L)"
   ]
  },
  {
   "cell_type": "code",
   "execution_count": 8,
   "id": "35135e51",
   "metadata": {},
   "outputs": [
    {
     "name": "stdout",
     "output_type": "stream",
     "text": [
      "[0] - 0\n",
      "[1] - 2\n",
      "[2] - 4\n",
      "[3] - 6\n",
      "[4] - 8\n"
     ]
    }
   ],
   "source": [
    "# A função enumerate gera uma tupla em que o primeiro valor é o índice e o segundo é o elemento da lista sendo enumerada.\n",
    "\n",
    "for x, e in enumerate(L):\n",
    "    print (\"[%d] - %d\" % (x, e))"
   ]
  },
  {
   "cell_type": "code",
   "execution_count": 12,
   "id": "bddafeda",
   "metadata": {},
   "outputs": [
    {
     "name": "stdout",
     "output_type": "stream",
     "text": [
      "Mínimo é 1\n"
     ]
    }
   ],
   "source": [
    "# Podemos percorrer uma lista de forma a verificar o menor e o maior valor.\n",
    "L = [2, 4, 3, 1]\n",
    "minimo = 100\n",
    "\n",
    "for e in L:\n",
    "    if e < minimo:\n",
    "        minimo = e\n",
    "        \n",
    "print(\"Mínimo é %d\" %(minimo))"
   ]
  },
  {
   "cell_type": "code",
   "execution_count": 17,
   "id": "6dd5e4a3",
   "metadata": {},
   "outputs": [
    {
     "name": "stdout",
     "output_type": "stream",
     "text": [
      "A Tmax é: 5\n",
      "A Tmin é: -10\n"
     ]
    }
   ],
   "source": [
    "# A lista de temperaturas de Mons, na Bélgica, foi armazenada na lista T = [ -10, -8, 0, 1, 2, 5, -2, -4].\n",
    "# Faça um programa que imprima a menor e a maior temperatura, assim como a temperatura média.\n",
    "T = [-10, -8, 0, 1, 2, 5, -2, -4]\n",
    "maximo = 0\n",
    "minimo = 10\n",
    "\n",
    "for e in T:\n",
    "    if e > maximo:\n",
    "        maximo = e\n",
    "        \n",
    "for e in T:\n",
    "    if e < minimo:\n",
    "        minimo = e\n",
    "        \n",
    "print (\"A Tmax é: %d\" %maximo)\n",
    "print (\"A Tmin é: %d\" %minimo)"
   ]
  },
  {
   "cell_type": "code",
   "execution_count": 18,
   "id": "bfe91f2b",
   "metadata": {},
   "outputs": [
    {
     "name": "stdout",
     "output_type": "stream",
     "text": [
      "Pares:  [8, 12, 0]\n",
      "Impares:  [9, 7, 13, 21]\n"
     ]
    }
   ],
   "source": [
    "# Copiar valores da lista V, para P se forem pares; para a I se forem ímpares.\n",
    "\n",
    "V = [9, 8, 7, 12, 0, 13, 21]\n",
    "P = []\n",
    "I = []\n",
    "\n",
    "for e in V:\n",
    "    if e % 2 == 0:\n",
    "        P.append(e)\n",
    "    else:\n",
    "        I.append(e)\n",
    "        \n",
    "print (\"Pares: \", P)\n",
    "print (\"Impares: \", I)"
   ]
  },
  {
   "cell_type": "code",
   "execution_count": 9,
   "id": "e8eb43b9",
   "metadata": {},
   "outputs": [
    {
     "name": "stdout",
     "output_type": "stream",
     "text": [
      "Sala (0 sair): 2\n",
      "Quantos lugares você deseja (2 vagos):2\n",
      "2 lugares vendidos\n",
      "Sala (0 sair): 0\n",
      "Utilização das salas\n",
      "Sala 1 - 10 lugar(es) vazio(s)\n",
      "Sala 2 - 0 lugar(es) vazio(s)\n",
      "Sala 3 - 1 lugar(es) vazio(s)\n",
      "Sala 4 - 3 lugar(es) vazio(s)\n",
      "Sala 5 - 0 lugar(es) vazio(s)\n"
     ]
    }
   ],
   "source": [
    "# Controle da utilização de salas de um cinema.\n",
    "# Ler o número da sala (5 salas) e a quantidade de lugares solicitados.\n",
    "# Informar se é possível vender o número de lugares solicitados (há lugares livres).\n",
    "# Caso seja possível vender os bilhetes, atualizará o número de lugares livres.\n",
    "\n",
    "lugares_vagos = [10, 2, 1, 3, 0]                                       # Lugares vagos das salas 1, 2, 3, 4 e 5.\n",
    "\n",
    "while True:\n",
    "    sala = int(input(\"Sala (0 sair): \"))\n",
    "    if sala == 0:\n",
    "        break\n",
    "    if sala > len(lugares_vagos) or sala < 1:\n",
    "        print (\"Sala inválida\")\n",
    "    elif lugares_vagos [sala-1] == 0:\n",
    "        print (\"Desculpe, sala lotada!\")\n",
    "    else:\n",
    "        lugares = int(input(\"Quantos lugares você deseja (%d vagos):\" % lugares_vagos[sala-1]))\n",
    "        \n",
    "        if lugares > lugares_vagos [sala-1]:\n",
    "            print (\"Esse número de lugares não está disponível.\")\n",
    "        elif lugares < 0:\n",
    "            print (\"Número inválido\")\n",
    "        else:\n",
    "            lugares_vagos [sala-1] -= lugares                                                # Actualiza lugares vagos.\n",
    "            print (\"%d lugares vendidos\" %lugares)\n",
    "\n",
    "print(\"Utilização das salas\")\n",
    "\n",
    "for x, l in enumerate(lugares_vagos):                                                        # x = índice; l = valores.\n",
    "    print (\"Sala %d - %d lugar(es) vazio(s)\" %(x + 1, l))"
   ]
  },
  {
   "cell_type": "code",
   "execution_count": 42,
   "id": "eea1d206",
   "metadata": {},
   "outputs": [
    {
     "name": "stdout",
     "output_type": "stream",
     "text": [
      "Quantidade de itens: 3\n",
      "Item 1: Maçã\n",
      "Item 2: Pera\n",
      "Item 3: Kiwi\n"
     ]
    }
   ],
   "source": [
    "# Lista com string.\n",
    "\n",
    "S = [\"Maçã\", \"Pera\", \"Kiwi\"]\n",
    "print (\"Quantidade de itens:\", len(S))\n",
    "print (\"Item 1: %s\" %S[0])\n",
    "print (\"Item 2: %s\" %S[1])\n",
    "print (\"Item 3: %s\" %S[2])"
   ]
  },
  {
   "cell_type": "code",
   "execution_count": 44,
   "id": "7627b734",
   "metadata": {},
   "outputs": [
    {
     "name": "stdout",
     "output_type": "stream",
     "text": [
      "Produto: Arroz\n",
      "Produto: Feijão\n",
      "Produto: Peixe\n",
      "Produto: fim\n",
      "Compras = ['Arroz', 'Feijão', 'Peixe']\n",
      "Lista de Compras:\n",
      "Arroz\n",
      "Feijão\n",
      "Peixe\n"
     ]
    }
   ],
   "source": [
    "# Lista com string.\n",
    "# Criando lista de compras.\n",
    "\n",
    "compras = []\n",
    "\n",
    "while True:\n",
    "    produto = input(\"Produto: \")\n",
    "    if produto == \"fim\":\n",
    "        break\n",
    "    compras.append(produto)\n",
    "\n",
    "print (\"Compras =\", compras)\n",
    "print (\"Lista de Compras:\")\n",
    "for p in compras:\n",
    "    print (p)"
   ]
  },
  {
   "cell_type": "code",
   "execution_count": 38,
   "id": "9f7281e5",
   "metadata": {},
   "outputs": [
    {
     "name": "stdout",
     "output_type": "stream",
     "text": [
      "r\n"
     ]
    }
   ],
   "source": [
    "# Acessando as strings dentro da lista, letra por letra, usando um segundo índice.\n",
    "\n",
    "print (S[1][2])                # Item 2, elemento 3."
   ]
  },
  {
   "cell_type": "code",
   "execution_count": 49,
   "id": "c965eba8",
   "metadata": {
    "scrolled": false
   },
   "outputs": [
    {
     "name": "stdout",
     "output_type": "stream",
     "text": [
      "A\n",
      "r\n",
      "r\n",
      "o\n",
      "z\n",
      "F\n",
      "e\n",
      "i\n",
      "j\n",
      "ã\n",
      "o\n",
      "P\n",
      "e\n",
      "i\n",
      "x\n",
      "e\n"
     ]
    }
   ],
   "source": [
    "# Impressão de uma lista de strings, letra a letra.\n",
    "\n",
    "for s in compras:\n",
    "    for letra in s:\n",
    "        print (letra)"
   ]
  },
  {
   "cell_type": "code",
   "execution_count": 11,
   "id": "946b8bc5",
   "metadata": {},
   "outputs": [
    {
     "name": "stdout",
     "output_type": "stream",
     "text": [
      "Compras = [['maçã', 10, 0.3], ['pera', 5, 0.75], ['kiwi', 4, 0.98]]\n",
      "Produto: maçã\n",
      "Quantidade: 10\n",
      "Preço:  0.30\n",
      "Produto: pera\n",
      "Quantidade: 5\n",
      "Preço:  0.75\n",
      "Produto: kiwi\n",
      "Quantidade: 4\n",
      "Preço:  0.98\n"
     ]
    }
   ],
   "source": [
    "# Lista de listas.\n",
    "\n",
    "produto1 = [ \"maçã\", 10, 0.30]\n",
    "produto2 = [ \"pera\", 5, 0.75]\n",
    "produto3 = [ \"kiwi\", 4, 0.98]\n",
    "compras = [ produto1, produto2, produto3]\n",
    "\n",
    "print (\"Compras =\", compras)\n",
    "\n",
    "for e in compras:\n",
    "    print (\"Produto: %s\" %e[0])\n",
    "    print (\"Quantidade: %d\" %e[1])\n",
    "    print (\"Preço: %5.2f\" %e[2])"
   ]
  },
  {
   "cell_type": "code",
   "execution_count": 56,
   "id": "8f538667",
   "metadata": {},
   "outputs": [
    {
     "name": "stdout",
     "output_type": "stream",
     "text": [
      "Produto: Arroz\n",
      "Quantidade: 1\n",
      "Preço: 670\n",
      "Produto: Esparguete\n",
      "Quantidade: 10\n",
      "Preço: 30\n",
      "Produto: Moelas\n",
      "Quantidade: 1\n",
      "Preço: 190\n",
      "Produto: fim\n",
      "Arroz x1;    Preço Unitário: 670.00;    Total 670.00\n",
      "Esparguete x10;    Preço Unitário: 30.00;    Total 300.00\n",
      "Moelas x1;    Preço Unitário: 190.00;    Total 190.00\n",
      "Total: 1160.00\n"
     ]
    }
   ],
   "source": [
    "# Lista de compras com gasto total.\n",
    "\n",
    "compras = []\n",
    "\n",
    "while True:\n",
    "    produto = input(\"Produto: \")\n",
    "    if produto == \"fim\":\n",
    "        break\n",
    "    quantidade = int(input(\"Quantidade: \"))\n",
    "    preço = float(input(\"Preço: \"))\n",
    "    compras.append([produto, quantidade, preço])                # Adiciona a lista [produto...] dentro da lista compras.\n",
    "\n",
    "print (compras)\n",
    "\n",
    "soma = 0.0\n",
    "\n",
    "for e in compras:\n",
    "    print(\"%s: %d unidade(s);    Preço Unitário: %0.2f;    Total %0.2f\" % (e[0], e[1], e[2], e[1] * e[2]))\n",
    "    soma += e[1] * e[2]\n",
    "\n",
    "print(\"Total: %0.2f\" %soma)"
   ]
  }
 ],
 "metadata": {
  "kernelspec": {
   "display_name": "Python 3 (ipykernel)",
   "language": "python",
   "name": "python3"
  },
  "language_info": {
   "codemirror_mode": {
    "name": "ipython",
    "version": 3
   },
   "file_extension": ".py",
   "mimetype": "text/x-python",
   "name": "python",
   "nbconvert_exporter": "python",
   "pygments_lexer": "ipython3",
   "version": "3.11.5"
  }
 },
 "nbformat": 4,
 "nbformat_minor": 5
}
