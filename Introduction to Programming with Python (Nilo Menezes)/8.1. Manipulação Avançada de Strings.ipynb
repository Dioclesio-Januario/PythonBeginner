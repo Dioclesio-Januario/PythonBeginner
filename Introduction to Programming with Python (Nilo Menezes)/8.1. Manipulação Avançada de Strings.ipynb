{
 "cells": [
  {
   "cell_type": "markdown",
   "id": "3ed686a5",
   "metadata": {},
   "source": [
    "# Manipulação Avançada de Strings\n",
    "- Na secção 3, vimos que podemos acessar strings como listas, mas também falamos que strings são imutáveis em Python.\n",
    "- Se quisermos alterar uma string, teremos que primeiramente transformá-la em uma lista (list())...\n",
    "- Alterar o valor, em seguida transformar a lista em string novamente (\"\".join())."
   ]
  },
  {
   "cell_type": "code",
   "execution_count": 4,
   "id": "ef96cc54",
   "metadata": {},
   "outputs": [
    {
     "name": "stdout",
     "output_type": "stream",
     "text": [
      "Alô mundo\n"
     ]
    }
   ],
   "source": [
    "# Seja uma string...\n",
    "S = \"Alô mundo\"\n",
    "print (S)"
   ]
  },
  {
   "cell_type": "code",
   "execution_count": 3,
   "id": "3442bb2c",
   "metadata": {},
   "outputs": [
    {
     "name": "stdout",
     "output_type": "stream",
     "text": [
      "['a', 'l', 'ô', ' ', 'm', 'u', 'n', 'd', 'o']\n"
     ]
    }
   ],
   "source": [
    "# Transformando string em lista.\n",
    "L = list(S)\n",
    "L[0] = \"a\"        # Alterando o 1eiro termo.\n",
    "print (L)"
   ]
  },
  {
   "cell_type": "code",
   "execution_count": 8,
   "id": "17af941c",
   "metadata": {},
   "outputs": [
    {
     "name": "stdout",
     "output_type": "stream",
     "text": [
      "alô mundo\n"
     ]
    }
   ],
   "source": [
    "# Transformando lista em string.\n",
    "S = \"\".join(L)\n",
    "print(S)"
   ]
  },
  {
   "cell_type": "markdown",
   "id": "84a7fa03",
   "metadata": {},
   "source": [
    "## Verificação parcial de strings\n",
    "- Para verificar se uma string começa ou termina com alguns caracteres **(startswith e endswith)**.\n",
    "- Esses métodos verificam apenas os primeiros (startswith) ou os últimos (endswith) caracteres da string.\n",
    "- Retornando **True** caso sejam iguais ou **False** em caso contrário.\n",
    "- startswith e endswith consideram letras maiúsculas e minúsculas como letras diferentes."
   ]
  },
  {
   "cell_type": "code",
   "execution_count": 9,
   "id": "a72bbf77",
   "metadata": {},
   "outputs": [
    {
     "data": {
      "text/plain": [
       "True"
      ]
     },
     "execution_count": 9,
     "metadata": {},
     "output_type": "execute_result"
    }
   ],
   "source": [
    "# Verificação parcial de strings\n",
    "nome = \"João da Silva\"\n",
    "nome.startswith(\"João\")"
   ]
  },
  {
   "cell_type": "code",
   "execution_count": 10,
   "id": "63f51c8f",
   "metadata": {},
   "outputs": [
    {
     "data": {
      "text/plain": [
       "False"
      ]
     },
     "execution_count": 10,
     "metadata": {},
     "output_type": "execute_result"
    }
   ],
   "source": [
    "nome.startswith(\"joão\")"
   ]
  },
  {
   "cell_type": "code",
   "execution_count": 11,
   "id": "06664341",
   "metadata": {},
   "outputs": [
    {
     "data": {
      "text/plain": [
       "True"
      ]
     },
     "execution_count": 11,
     "metadata": {},
     "output_type": "execute_result"
    }
   ],
   "source": [
    "nome.endswith(\"Silva\")"
   ]
  },
  {
   "cell_type": "code",
   "execution_count": 13,
   "id": "bb2ce0f2",
   "metadata": {},
   "outputs": [
    {
     "name": "stdout",
     "output_type": "stream",
     "text": [
      "o rato roeu a roupa do rei de roma\n",
      "\n",
      "O RATO ROEU A ROUPA DO REI DE ROMA\n"
     ]
    }
   ],
   "source": [
    "# Convertendo a string para maiúsculas ou minúsculas.\n",
    "s = \"O Rato roeu a roupa do Rei de Roma\"\n",
    "print (s.lower())\n",
    "print ()\n",
    "print (s.upper())"
   ]
  },
  {
   "cell_type": "code",
   "execution_count": 14,
   "id": "543cc386",
   "metadata": {},
   "outputs": [
    {
     "data": {
      "text/plain": [
       "True"
      ]
     },
     "execution_count": 14,
     "metadata": {},
     "output_type": "execute_result"
    }
   ],
   "source": [
    "# Verificando.\n",
    "s.lower().startswith(\"o rato\")"
   ]
  },
  {
   "cell_type": "code",
   "execution_count": 27,
   "id": "45737455",
   "metadata": {},
   "outputs": [
    {
     "data": {
      "text/plain": [
       "True"
      ]
     },
     "execution_count": 27,
     "metadata": {},
     "output_type": "execute_result"
    }
   ],
   "source": [
    "# Pesquisa de palavras com in.\n",
    "s = \"Maria Amélia Souza\"\n",
    "\"Souza\" in s"
   ]
  },
  {
   "cell_type": "code",
   "execution_count": 23,
   "id": "d9234869",
   "metadata": {},
   "outputs": [
    {
     "data": {
      "text/plain": [
       "False"
      ]
     },
     "execution_count": 23,
     "metadata": {},
     "output_type": "execute_result"
    }
   ],
   "source": [
    "# Testando se uma string não está contida em outra, utilizando not in.\n",
    "s = \"Todos os caminhos levam a Roma\"\n",
    "\"levam\" not in s"
   ]
  },
  {
   "cell_type": "code",
   "execution_count": 28,
   "id": "8b0f9313",
   "metadata": {},
   "outputs": [
    {
     "name": "stdout",
     "output_type": "stream",
     "text": [
      "3\n",
      "\n",
      "2\n",
      "\n",
      "4\n",
      "\n",
      "0\n"
     ]
    }
   ],
   "source": [
    "# Contagem – Contagem de letras e palavras.\n",
    "t = \"um tigre, dois tigres, três tigres\"\n",
    "print (t.count(\"tigre\"))\n",
    "print ()\n",
    "print (t.count(\"tigres\"))\n",
    "print ()\n",
    "print (t.count(\"t\"))\n",
    "print ()\n",
    "print (t.count(\"z\"))"
   ]
  },
  {
   "cell_type": "markdown",
   "id": "adc5b7eb",
   "metadata": {},
   "source": [
    "## Pesquisa de strings\n",
    "- Utilizar o método **find** para pesquisar se uma string está dentro de outra e obter a posição da primeira ocorrência.\n",
    "- Caso a string seja encontrada, você obterá um valor maior ou igual a zero, caso contrário -1."
   ]
  },
  {
   "cell_type": "code",
   "execution_count": 37,
   "id": "d2f08d50",
   "metadata": {},
   "outputs": [
    {
     "name": "stdout",
     "output_type": "stream",
     "text": [
      "4\n",
      "-1\n"
     ]
    }
   ],
   "source": [
    "# Pesquisa de strings com find.\n",
    "s = \"Alô mundo\"\n",
    "print (s.find(\"mun\"))\n",
    "print (s.find(\"ok\"))"
   ]
  },
  {
   "cell_type": "code",
   "execution_count": 51,
   "id": "8057d444",
   "metadata": {},
   "outputs": [
    {
     "name": "stdout",
     "output_type": "stream",
     "text": [
      "-1\n",
      "0\n",
      "3\n"
     ]
    }
   ],
   "source": [
    "# Se você especificar início, a pesquisa começará a partir dessa posição.\n",
    "# Se especificar o fim, a pesquisa utilizará essa posição como último caractere a considerar na pesquisa.\n",
    "s = \"um tigre, dois tigres, três tigres\"\n",
    "print (s.find(\"um\", 2))                   # Início no 3ro elemento.\n",
    "print (s.find(\"um\", 0))\n",
    "print (s.find(\"tigre\", 0, 8))             # Início 1ro elemento, fim 7mo."
   ]
  },
  {
   "cell_type": "code",
   "execution_count": 52,
   "id": "94b80ea6",
   "metadata": {},
   "outputs": [
    {
     "name": "stdout",
     "output_type": "stream",
     "text": [
      "Posição: 3\n",
      "Posição: 15\n",
      "Posição: 28\n"
     ]
    }
   ],
   "source": [
    "# Pesquisa de todas as ocorrências.\n",
    "s = \"um tigre, dois tigres, três tigres\"\n",
    "p = 0\n",
    "\n",
    "while (p > -1):\n",
    "    p = s.find(\"tigre\", p)\n",
    "    if p >= 0:\n",
    "        print(\"Posição: %d\" %p)\n",
    "        p += 1"
   ]
  },
  {
   "cell_type": "code",
   "execution_count": 54,
   "id": "26f113c9",
   "metadata": {},
   "outputs": [
    {
     "name": "stdout",
     "output_type": "stream",
     "text": [
      "BE encontrado na posição 3\n"
     ]
    }
   ],
   "source": [
    "# Lê duas strings, verifica se a segunda ocorre dentro da primeira e imprima a posição de início.\n",
    "s = \"AABBEFAATT\"\n",
    "t = \"BE\"\n",
    "\n",
    "print (\"BE encontrado na posição %d\" %s.find(t))"
   ]
  },
  {
   "cell_type": "code",
   "execution_count": 81,
   "id": "78ffb78c",
   "metadata": {},
   "outputs": [
    {
     "name": "stdout",
     "output_type": "stream",
     "text": [
      "C\n",
      "B\n"
     ]
    }
   ],
   "source": [
    "# Lê duas strings e gere uma terceira com os caracteres comuns às duas strings lidas.\n",
    "s = \"AAACTBF\"\n",
    "t = \"CBT\"\n",
    "p = 0\n",
    "while (p > -1):\n",
    "    for a in t:\n",
    "        p = s.find(a, p)\n",
    "        if p >= 0:\n",
    "            print(a)\n",
    "            p += 1\n",
    "\n",
    "#Resultado: CBT"
   ]
  },
  {
   "cell_type": "markdown",
   "id": "072732bc",
   "metadata": {},
   "source": [
    "## Posicionamento de strings\n",
    "- Método **center** centraliza a string em um número de posições passado como parâmetro.\n",
    "- Método **ljust** completa a string com espaços à esquerda.\n",
    "- Método **rjust** completa com espaços à direita."
   ]
  },
  {
   "cell_type": "code",
   "execution_count": 82,
   "id": "96e942b6",
   "metadata": {},
   "outputs": [
    {
     "name": "stdout",
     "output_type": "stream",
     "text": [
      "X  tigre   X\n",
      "\n",
      "X..tigre...X\n"
     ]
    }
   ],
   "source": [
    "# Centralização de texto em uma string.\n",
    "s = \"tigre\"\n",
    "print (\"X\"+s.center(10)+\"X\")\n",
    "print ()\n",
    "print (\"X\"+s.center(10,\".\")+\"X\")\n"
   ]
  },
  {
   "cell_type": "code",
   "execution_count": 84,
   "id": "5412c2d1",
   "metadata": {},
   "outputs": [
    {
     "name": "stdout",
     "output_type": "stream",
     "text": [
      "tigre               \n",
      "\n",
      "               tigre\n",
      "\n",
      "tigre...............\n",
      "\n",
      "---------------tigre\n"
     ]
    }
   ],
   "source": [
    "# Preenchimento de strings com espaços.\n",
    "print (s.ljust(20))\n",
    "print ()\n",
    "print (s.rjust(20))\n",
    "print ()\n",
    "print (s.ljust(20,\".\"))\n",
    "print ()\n",
    "print (s.rjust(20,\"-\"))"
   ]
  },
  {
   "cell_type": "markdown",
   "id": "acd5d747",
   "metadata": {},
   "source": [
    "## Quebra ou separação de strings\n",
    "- Quebra uma string a partir de um caractere passado como parâmetro, retornando uma lista com as substrings já separadas."
   ]
  },
  {
   "cell_type": "code",
   "execution_count": 90,
   "id": "f01a4734",
   "metadata": {},
   "outputs": [
    {
     "data": {
      "text/plain": [
       "['um tigre', ' dois tigres', ' três tigres']"
      ]
     },
     "execution_count": 90,
     "metadata": {},
     "output_type": "execute_result"
    }
   ],
   "source": [
    "# Separação de strings\n",
    "s = \"um tigre, dois tigres, três tigres\"\n",
    "s.split(\",\")                                # Onde tiver vírgula, separa."
   ]
  },
  {
   "cell_type": "code",
   "execution_count": 86,
   "id": "1b39d88e",
   "metadata": {},
   "outputs": [
    {
     "data": {
      "text/plain": [
       "['um', 'tigre,', 'dois', 'tigres,', 'três', 'tigres']"
      ]
     },
     "execution_count": 86,
     "metadata": {},
     "output_type": "execute_result"
    }
   ],
   "source": [
    "s.split(\" \")                                # Onde tiver espaço, separa."
   ]
  },
  {
   "cell_type": "code",
   "execution_count": 93,
   "id": "61b36adf",
   "metadata": {},
   "outputs": [
    {
     "data": {
      "text/plain": [
       "['um', 'tigre,', 'dois', 'tigres,', 'três', 'tigres']"
      ]
     },
     "execution_count": 93,
     "metadata": {},
     "output_type": "execute_result"
    }
   ],
   "source": [
    "s.split()"
   ]
  },
  {
   "cell_type": "markdown",
   "id": "b3c55fc5",
   "metadata": {},
   "source": [
    "## Substituição de strings\n",
    "- Para substituir trechos de uma string por outros, utilize o método **replace**.\n",
    "- Com o método replace, o primeiro parâmetro é a string a substituir; e o segundo, o conteúdo que a substituirá.\n",
    "- Opcionalmente, podemos passar um terceiro parâmetro que limita quantas vezes queremos realizar a repetição."
   ]
  },
  {
   "cell_type": "code",
   "execution_count": 96,
   "id": "d8cf9c00",
   "metadata": {},
   "outputs": [
    {
     "data": {
      "text/plain": [
       "'um gato, dois gatos, três gatos'"
      ]
     },
     "execution_count": 96,
     "metadata": {},
     "output_type": "execute_result"
    }
   ],
   "source": [
    "# Substituição de strings.\n",
    "s = \"um tigre, dois tigres, três tigres\"\n",
    "s.replace(\"tigre\", \"gato\")"
   ]
  },
  {
   "cell_type": "code",
   "execution_count": 97,
   "id": "987f164e",
   "metadata": {},
   "outputs": [
    {
     "data": {
      "text/plain": [
       "'um gato, dois tigres, três tigres'"
      ]
     },
     "execution_count": 97,
     "metadata": {},
     "output_type": "execute_result"
    }
   ],
   "source": [
    "s.replace(\"tigre\", \"gato\", 1)"
   ]
  },
  {
   "cell_type": "code",
   "execution_count": 100,
   "id": "99984108",
   "metadata": {},
   "outputs": [
    {
     "data": {
      "text/plain": [
       "'um tigre - dois tigres - três tigres'"
      ]
     },
     "execution_count": 100,
     "metadata": {},
     "output_type": "execute_result"
    }
   ],
   "source": [
    "s.replace(\",\", \" -\")"
   ]
  },
  {
   "cell_type": "markdown",
   "id": "717e4448",
   "metadata": {},
   "source": [
    "## Remoção de espaços em branco\n",
    "- O método **strip** é utilizado para remover espaços em branco do início ou fim da string.\n",
    "- Já os métodos **lstrip e rstrip** removem apenas os caracteres em branco à esquerda ou à direita, respectivamente."
   ]
  },
  {
   "cell_type": "code",
   "execution_count": 101,
   "id": "a9c4bfc0",
   "metadata": {},
   "outputs": [
    {
     "data": {
      "text/plain": [
       "'Olá'"
      ]
     },
     "execution_count": 101,
     "metadata": {},
     "output_type": "execute_result"
    }
   ],
   "source": [
    "# Remoção de espaços em branco com strip, lstrip e rstrip.\n",
    "t = \" Olá \"\n",
    "t.strip()"
   ]
  },
  {
   "cell_type": "code",
   "execution_count": 102,
   "id": "1e57a624",
   "metadata": {},
   "outputs": [
    {
     "data": {
      "text/plain": [
       "'Olá '"
      ]
     },
     "execution_count": 102,
     "metadata": {},
     "output_type": "execute_result"
    }
   ],
   "source": [
    "t.lstrip()"
   ]
  },
  {
   "cell_type": "code",
   "execution_count": 103,
   "id": "b5bab9d9",
   "metadata": {},
   "outputs": [
    {
     "data": {
      "text/plain": [
       "' Olá'"
      ]
     },
     "execution_count": 103,
     "metadata": {},
     "output_type": "execute_result"
    }
   ],
   "source": [
    "t.rstrip()"
   ]
  },
  {
   "cell_type": "code",
   "execution_count": 105,
   "id": "57cbe55c",
   "metadata": {},
   "outputs": [
    {
     "data": {
      "text/plain": [
       "'///Olá///...'"
      ]
     },
     "execution_count": 105,
     "metadata": {},
     "output_type": "execute_result"
    }
   ],
   "source": [
    "# Remoção de caracteres com strip, lstrip e rstrip.\n",
    "s = \"...///Olá///...\"\n",
    "s.lstrip(\".\")"
   ]
  },
  {
   "cell_type": "code",
   "execution_count": 106,
   "id": "16e138a6",
   "metadata": {},
   "outputs": [
    {
     "data": {
      "text/plain": [
       "'...///Olá///'"
      ]
     },
     "execution_count": 106,
     "metadata": {},
     "output_type": "execute_result"
    }
   ],
   "source": [
    "s.rstrip(\".\")"
   ]
  },
  {
   "cell_type": "code",
   "execution_count": 108,
   "id": "5ba27e41",
   "metadata": {},
   "outputs": [
    {
     "data": {
      "text/plain": [
       "'///Olá///'"
      ]
     },
     "execution_count": 108,
     "metadata": {},
     "output_type": "execute_result"
    }
   ],
   "source": [
    "s.strip(\".\")"
   ]
  },
  {
   "cell_type": "code",
   "execution_count": 110,
   "id": "6cc914fc",
   "metadata": {},
   "outputs": [
    {
     "data": {
      "text/plain": [
       "'Olá'"
      ]
     },
     "execution_count": 110,
     "metadata": {},
     "output_type": "execute_result"
    }
   ],
   "source": [
    "s.strip(\"./\")"
   ]
  },
  {
   "cell_type": "markdown",
   "id": "917685e5",
   "metadata": {},
   "source": [
    "## Formatação de strings\n",
    "- A versão 3 do Python introduziu uma nova forma de representar máscaras em strings.\n",
    "- Combinando %d, %s, %f, a nova forma representa os valores a substituir, entre chaves. "
   ]
  },
  {
   "cell_type": "code",
   "execution_count": 115,
   "id": "45c6ae14",
   "metadata": {},
   "outputs": [
    {
     "data": {
      "text/plain": [
       "'Alô Mundo'"
      ]
     },
     "execution_count": 115,
     "metadata": {},
     "output_type": "execute_result"
    }
   ],
   "source": [
    "# Formatação de strings com o método format.\n",
    "\"{0} {1}\".format(\"Alô\", \"Mundo\")"
   ]
  },
  {
   "cell_type": "code",
   "execution_count": 116,
   "id": "e44c10cc",
   "metadata": {},
   "outputs": [
    {
     "data": {
      "text/plain": [
       "'5 x maçã R$1.20'"
      ]
     },
     "execution_count": 116,
     "metadata": {},
     "output_type": "execute_result"
    }
   ],
   "source": [
    "\"{0} x {1} R${2}\".format(5, \"maçã\", \"1.20\")"
   ]
  },
  {
   "cell_type": "code",
   "execution_count": 117,
   "id": "799ecdb9",
   "metadata": {},
   "outputs": [
    {
     "data": {
      "text/plain": [
       "'- x -'"
      ]
     },
     "execution_count": 117,
     "metadata": {},
     "output_type": "execute_result"
    }
   ],
   "source": [
    "# Uso do mesmo parâmetro mais de uma vez.\n",
    "\"{0} {1} {0}\".format(\"-\",\"x\")"
   ]
  },
  {
   "cell_type": "code",
   "execution_count": 119,
   "id": "c316badf",
   "metadata": {},
   "outputs": [
    {
     "data": {
      "text/plain": [
       "'123 456'"
      ]
     },
     "execution_count": 119,
     "metadata": {},
     "output_type": "execute_result"
    }
   ],
   "source": [
    "# Máscaras com elementos de uma lista.\n",
    "\"{0[0]} {0[1]}\".format([\"123\", \"456\"])"
   ]
  },
  {
   "cell_type": "code",
   "execution_count": 120,
   "id": "5b4e08eb",
   "metadata": {},
   "outputs": [
    {
     "data": {
      "text/plain": [
       "'Maria 572'"
      ]
     },
     "execution_count": 120,
     "metadata": {},
     "output_type": "execute_result"
    }
   ],
   "source": [
    "# Máscaras com elementos de um dicionário.\n",
    "\"{0[nome]} {0[telefone]}\".format({ \"telefone\": 572, \"nome\":\"Maria\"})"
   ]
  }
 ],
 "metadata": {
  "kernelspec": {
   "display_name": "Python 3 (ipykernel)",
   "language": "python",
   "name": "python3"
  },
  "language_info": {
   "codemirror_mode": {
    "name": "ipython",
    "version": 3
   },
   "file_extension": ".py",
   "mimetype": "text/x-python",
   "name": "python",
   "nbconvert_exporter": "python",
   "pygments_lexer": "ipython3",
   "version": "3.11.5"
  }
 },
 "nbformat": 4,
 "nbformat_minor": 5
}
