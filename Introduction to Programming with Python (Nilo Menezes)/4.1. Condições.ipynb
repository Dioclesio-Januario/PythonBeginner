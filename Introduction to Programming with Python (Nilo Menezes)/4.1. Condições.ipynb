{
 "cells": [
  {
   "cell_type": "markdown",
   "id": "3ed686a5",
   "metadata": {},
   "source": [
    "# Condições\n",
    "- Muitas vezes, será mais interessante decidir que partes do programa devem ser executadas com base no resultado de uma condição;\n",
    "- As condições servem para selecionar quando uma parte do programa deve ser executada e quando deve ser simplesmente ignorada;\n",
    "- A base dessas decisões consistirá em expressões lógicas que permitam representar escolhas em programas."
   ]
  },
  {
   "cell_type": "markdown",
   "id": "f58fef9f",
   "metadata": {},
   "source": [
    "## if\n",
    "- O if nada mais é que o nosso “se”. Poderemos então entendê-lo da seguinte forma: se a condição for verdadeira, faça tal coisa."
   ]
  },
  {
   "cell_type": "code",
   "execution_count": 1,
   "id": "ced16c03",
   "metadata": {},
   "outputs": [
    {
     "name": "stdout",
     "output_type": "stream",
     "text": [
      "Digite o primeiro valor: 2\n",
      "Digite o segundo valor: 3\n",
      "O segundo número é maior que o primeiro\n"
     ]
    }
   ],
   "source": [
    "# Executa a função print caso a condição seja verdadeira (do contrário, ignora).\n",
    "\n",
    "a = int(input(\"Digite o primeiro valor: \"))\n",
    "b = int(input(\"Digite o segundo valor: \"))\n",
    "\n",
    "if a > b:\n",
    "    print (\"O primeiro número é maior que o segundo\")\n",
    "    \n",
    "if b > a:\n",
    "    print (\"O segundo número é maior que o primeiro\")\n",
    "    \n",
    "if a == b:\n",
    "    print (\"O primeiro número é igual ao segundo\")"
   ]
  },
  {
   "cell_type": "code",
   "execution_count": 2,
   "id": "40f50ddd",
   "metadata": {},
   "outputs": [
    {
     "name": "stdout",
     "output_type": "stream",
     "text": [
      "Digite a idade do carro: 5\n",
      "O carro é velho\n"
     ]
    }
   ],
   "source": [
    "# Se o carro tiver três anos ou menos = novo. Caso contrário = velho.\n",
    "\n",
    "anos = int(input(\"Digite a idade do carro: \"))\n",
    "\n",
    "if anos <= 3:\n",
    "    print (\"O carro é novo\")\n",
    "    \n",
    "if anos > 3:\n",
    "    print (\"O carro é velho\")"
   ]
  },
  {
   "cell_type": "code",
   "execution_count": 3,
   "id": "387b0a76",
   "metadata": {},
   "outputs": [
    {
     "name": "stdout",
     "output_type": "stream",
     "text": [
      "Qual a velocidade em km/h? 100\n",
      "Velocidade acima do limite.\n",
      "Você foi multado em: R$ 100.00 \n"
     ]
    }
   ],
   "source": [
    "# Caso velocidade ultrapasse 80 km/h = multa ($ 5 por km acima de 80 km/h).\n",
    "\n",
    "velociade_limite = 80                                           # km/h\n",
    "velocidade = float(input(\"Qual a velocidade em km/h? \"))\n",
    "multa = (velocidade - velociade_limite)*5\n",
    "\n",
    "if velocidade > 80:\n",
    "    print (\"Velocidade acima do limite.\")\n",
    "    print (\"Você foi multado em: R$ %0.2f \" %multa)"
   ]
  },
  {
   "cell_type": "code",
   "execution_count": 4,
   "id": "c53dc14a",
   "metadata": {},
   "outputs": [
    {
     "name": "stdout",
     "output_type": "stream",
     "text": [
      "Qual é o salário? 10000\n",
      "Aumento de R$ 1000.00\n"
     ]
    }
   ],
   "source": [
    "# Determine o valor do aumento. Para salários superiores a R$ 1.250,00, aumento de 10%. Do contrário, 15%.\n",
    "\n",
    "salario = float(input(\"Qual é o salário? \"))\n",
    "aumento_1 = salario*0.10\n",
    "aumento_2 = salario*0.15\n",
    "\n",
    "if salario > 1250:\n",
    "    print(\"Aumento de R$ %0.2f\" %aumento_1)\n",
    "if salario <= 1250:\n",
    "    print (\"Aumento de R$ %0.2f\" %aumento_2)"
   ]
  },
  {
   "cell_type": "markdown",
   "id": "0bc59973",
   "metadata": {},
   "source": [
    "## else\n",
    "- Usada para especificar o que fazer caso o resultado da avaliação da condição seja falso, sem precisarmos de um novo if."
   ]
  },
  {
   "cell_type": "code",
   "execution_count": 5,
   "id": "1ed11c2c",
   "metadata": {},
   "outputs": [
    {
     "name": "stdout",
     "output_type": "stream",
     "text": [
      "Digite a idade do carro: 2\n",
      "O carro é novo\n"
     ]
    }
   ],
   "source": [
    "# Se o carro tiver menos de três anos = novo. Caso contrário = velho.\n",
    "\n",
    "anos = int(input(\"Digite a idade do carro: \"))\n",
    "\n",
    "if anos <= 3:\n",
    "    print (\"O carro é novo\")\n",
    "else:\n",
    "    print (\"O carro é velho\")"
   ]
  },
  {
   "cell_type": "code",
   "execution_count": 6,
   "id": "9237cb81",
   "metadata": {},
   "outputs": [
    {
     "name": "stdout",
     "output_type": "stream",
     "text": [
      "Qual a velocidade em km/h? 70\n",
      "Velocidade abaixo do limite\n"
     ]
    }
   ],
   "source": [
    "# Caso velocidade ultrapasse 80 km/h = multa ($ 5 por km acima de 80 km/h).\n",
    "\n",
    "velociade_limite = 80                                           # km/h\n",
    "velocidade = float(input(\"Qual a velocidade em km/h? \"))\n",
    "multa = (velocidade - velociade_limite)*5\n",
    "\n",
    "if velocidade > 80:\n",
    "    print (\"Velocidade acima do limite.\")\n",
    "    print (\"Você foi multado em: R$ %0.2f \" %multa)\n",
    "else:\n",
    "    print(\"Velocidade abaixo do limite\")"
   ]
  },
  {
   "cell_type": "code",
   "execution_count": 7,
   "id": "1d2a42cd",
   "metadata": {},
   "outputs": [
    {
     "name": "stdout",
     "output_type": "stream",
     "text": [
      "Qual é o salário? 1000\n",
      "Bónus de 15%\n",
      "Aumento de R$ 150.00\n"
     ]
    }
   ],
   "source": [
    "# Determine o valor do aumento. Para salários superiores a R$ 1.250,00, aumento de 10%. Do contrário, 15%.\n",
    "\n",
    "salario = float(input(\"Qual é o salário? \"))\n",
    "aumento_1 = salario*0.10\n",
    "aumento_2 = salario*0.15\n",
    "\n",
    "if salario > 1250:\n",
    "    print(\"Bónus de 10%\")\n",
    "    print(\"Aumento de R$ %0.2f\" %aumento_1)\n",
    "else:\n",
    "    print(\"Bónus de 15%\")\n",
    "    print (\"Aumento de R$ %0.2f\" %aumento_2)"
   ]
  },
  {
   "cell_type": "code",
   "execution_count": 8,
   "id": "fd96a8b2",
   "metadata": {},
   "outputs": [
    {
     "name": "stdout",
     "output_type": "stream",
     "text": [
      "Qual a distância a percorrer? 20\n",
      "Distância = 20.00 km\n",
      "O preço é: R$ 10.00\n"
     ]
    }
   ],
   "source": [
    "# Calcula o preço da passagem de acordo com a distância percorrida.\n",
    "# R$ 0,50 por km para viagens de até de 200 km, e R$ 0,45 para viagens mais longas.\n",
    "\n",
    "distancia = float(input(\"Qual a distância a percorrer? \"))\n",
    "\n",
    "if distancia > 200:\n",
    "    preco = distancia*0.45\n",
    "    print (\"Distância = %0.2f km\" %distancia)\n",
    "    print (\"O preço é: R$ %0.2f\" %preco)\n",
    "\n",
    "else:\n",
    "    preco = distancia*0.50\n",
    "    print (\"Distância = %0.2f km\" %distancia)\n",
    "    print (\"O preço é: R$ %0.2f\" %preco)"
   ]
  },
  {
   "cell_type": "markdown",
   "id": "d392c526",
   "metadata": {},
   "source": [
    "## Estruturas aninhadas\n",
    "- Nem sempre os programas serão simples. Avezes, precisaremos aninhar vários if para obter o comportamento desejado do programa;\n",
    "- Aninhar, nesse caso, é utilizar um if dentro de outro."
   ]
  },
  {
   "cell_type": "code",
   "execution_count": 9,
   "id": "dc07e59b",
   "metadata": {},
   "outputs": [
    {
     "name": "stdout",
     "output_type": "stream",
     "text": [
      "Quantos minutos você utilizou este mês? 100\n",
      "Você vai pagar este mês: R$20.00\n"
     ]
    }
   ],
   "source": [
    "# Tarifa de telefonia movel de acordo com a quantidade de minutos usados por mês.\n",
    "# Abaixo de 200 minutos, a empresa cobra R$ 0,20 por minuto.\n",
    "# Entre 200 e 400 minutos, o preço é de R$ 0,18.\n",
    "# Acima de 400 minutos, o preço  é de R$ 0,15.\n",
    "\n",
    "minutos = float(input(\"Quantos minutos você utilizou este mês? \"))\n",
    "\n",
    "if minutos < 200:\n",
    "    preço = 0.20\n",
    "else:\n",
    "    if minutos < 400:\n",
    "        preço = 0.18\n",
    "    else:\n",
    "        preço = 0.15\n",
    "\n",
    "print(\"Você vai pagar este mês: R$%0.2f\" %(minutos * preço))"
   ]
  },
  {
   "cell_type": "code",
   "execution_count": 10,
   "id": "c233467f",
   "metadata": {},
   "outputs": [
    {
     "name": "stdout",
     "output_type": "stream",
     "text": [
      "Digite a categoria do produto: 7\n",
      "Categoria inválida, digite um valor entre 1 e 5!\n",
      "O preço do produto é: R$ 0.00\n"
     ]
    }
   ],
   "source": [
    "# Lê a categoria de um produto e determine o preço.\n",
    "\n",
    "categoria = int(input(\"Digite a categoria do produto: \"))\n",
    "\n",
    "if categoria == 1:\n",
    "    preço = 10\n",
    "else:\n",
    "    if categoria == 2:\n",
    "        preço = 18\n",
    "    else:\n",
    "        if categoria == 3:\n",
    "            preço = 23\n",
    "        else:\n",
    "            if categoria == 4:\n",
    "                preço = 26\n",
    "            else:\n",
    "                if categoria == 5:\n",
    "                    preço = 31\n",
    "                else:\n",
    "                    print(\"Categoria inválida, digite um valor entre 1 e 5!\")                   # Validação da entrada\n",
    "                    preço = 0\n",
    "\n",
    "print(\"O preço do produto é: R$ %0.2f\" % preço)"
   ]
  },
  {
   "cell_type": "markdown",
   "id": "5e1b146f",
   "metadata": {},
   "source": [
    "## elif\n",
    "- A cláusula elif substitui um par else ifsem criar outro nível de estrutura, evitando deslocamentos desnecessários à direita."
   ]
  },
  {
   "cell_type": "code",
   "execution_count": 11,
   "id": "7c1e375a",
   "metadata": {},
   "outputs": [
    {
     "name": "stdout",
     "output_type": "stream",
     "text": [
      "Digite a categoria do produto: 2\n",
      "O preço do produto é: R$ 18.00\n"
     ]
    }
   ],
   "source": [
    "# Lê a categoria de um produto e determine o preço.\n",
    "\n",
    "categoria = int(input(\"Digite a categoria do produto: \"))\n",
    "\n",
    "if categoria == 1:\n",
    "    preço = 10\n",
    "elif categoria == 2:\n",
    "    preço = 18\n",
    "elif categoria == 3:\n",
    "    preço = 23\n",
    "elif categoria == 4:\n",
    "    preço = 26\n",
    "elif categoria == 5:\n",
    "    preço = 31\n",
    "else:\n",
    "    print(\"Categoria inválida, digite um valor entre 1 e 5!\")\n",
    "    preço = 0\n",
    "\n",
    "print(\"O preço do produto é: R$ %0.2f\" % preço)"
   ]
  },
  {
   "cell_type": "code",
   "execution_count": 12,
   "id": "ff6b1a6f",
   "metadata": {},
   "outputs": [
    {
     "name": "stdout",
     "output_type": "stream",
     "text": [
      "Digite o tipo de instalação: R\n",
      "Digite a quantidade de energia consumida (kWh): 100\n",
      "Tipo de instalação: R\n",
      "Consumo: 100.00 kWh\n",
      "O preço é de R$ 40.00\n"
     ]
    }
   ],
   "source": [
    "# Determina o preço a pagar pela energia elétrica. De acordo com a quantidade de kWh consumida e o tipo de instalação.\n",
    "# R (1) para residências, I (2) para indústrias e C (3) para comércios.\n",
    "\n",
    "tipo = str(input(\"Digite o tipo de instalação: \"))\n",
    "consumo = float(input(\"Digite a quantidade de energia consumida (kWh): \"))\n",
    "\n",
    "if consumo <= 500 and tipo == \"R\":\n",
    "    preco = 0.40\n",
    "elif consumo > 500 and tipo == \"R\":\n",
    "    preco = 0.65\n",
    "elif consumo <= 1000 and tipo == \"C\":\n",
    "    preco = 0.55\n",
    "elif consumo > 1000 and tipo == \"C\":\n",
    "    preco = 0.60\n",
    "elif consumo <= 5000 and tipo == \"I\":\n",
    "    preco = 0.55\n",
    "elif consumo > 5000 and tipo == \"I\":\n",
    "    preco = 0.60\n",
    "else:\n",
    "    preco = 0\n",
    "    print (\"Instalação ou consumo inválido.\")\n",
    "\n",
    "print (\"Tipo de instalação: %0.1s\" %tipo)\n",
    "print (\"Consumo: %0.2f kWh\" %consumo)\n",
    "print (\"O preço é de R$ %0.2f\" %(consumo * preco))"
   ]
  },
  {
   "cell_type": "code",
   "execution_count": 16,
   "id": "c52bc75d",
   "metadata": {},
   "outputs": [
    {
     "name": "stdout",
     "output_type": "stream",
     "text": [
      "Digite o valor da casa (MZN): 2500000\n",
      "Digite o salário (MZN): 50000\n",
      "Digite a quantidade de anos a pagar: 15\n",
      "Emprestimo aprovado\n",
      "Valor da prestação: 13888.89 MZN por mês\n"
     ]
    }
   ],
   "source": [
    "# Escreva um programa para aprovar o empréstimo bancário para compra de uma casa.\n",
    "# O programa deve perguntar o valor da casa a comprar, o salário e a quantidade de anos a pagar.\n",
    "# O valor da prestação mensal não pode ser superior a 30% do salário.\n",
    "# Calcule o valor da prestação como sendo o valor da casa a comprar dividido pelo número de meses a pagar.\n",
    "\n",
    "valor_casa = float(input(\"Digite o valor da casa (MZN): \"))\n",
    "salario = float(input(\"Digite o salário (MZN): \"))\n",
    "anos = int(input(\"Digite a quantidade de anos a pagar: \"))\n",
    "\n",
    "valor_prestacao = valor_casa / (anos * 12) \n",
    "\n",
    "if valor_prestacao > salario * 0.3: \n",
    "    print (\"Emprestimo não aprovado\")\n",
    "else:\n",
    "    print (\"Emprestimo aprovado\")\n",
    "    print (\"Valor da prestação: %0.2f MZN por mês\" %valor_prestacao)\n"
   ]
  }
 ],
 "metadata": {
  "kernelspec": {
   "display_name": "Python 3 (ipykernel)",
   "language": "python",
   "name": "python3"
  },
  "language_info": {
   "codemirror_mode": {
    "name": "ipython",
    "version": 3
   },
   "file_extension": ".py",
   "mimetype": "text/x-python",
   "name": "python",
   "nbconvert_exporter": "python",
   "pygments_lexer": "ipython3",
   "version": "3.11.5"
  }
 },
 "nbformat": 4,
 "nbformat_minor": 5
}
