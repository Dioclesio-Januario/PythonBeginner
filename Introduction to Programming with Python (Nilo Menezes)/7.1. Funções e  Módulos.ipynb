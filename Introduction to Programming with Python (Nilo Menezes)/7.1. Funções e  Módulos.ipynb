{
 "cells": [
  {
   "cell_type": "markdown",
   "id": "3ed686a5",
   "metadata": {},
   "source": [
    "# Funções\n",
    "- Podemos definir nossas próprias funções em Python.\n",
    "- Existem várias funções, como len, int, print e input.\n",
    "- Para definir uma nova função, utilizaremos a instrução def.\n",
    "- Regras: uma função deve resolver **apenas um problema** e, quanto mais genérica for, melhor ela será em longo prazo."
   ]
  },
  {
   "cell_type": "code",
   "execution_count": 1,
   "id": "340784ca",
   "metadata": {},
   "outputs": [
    {
     "name": "stdout",
     "output_type": "stream",
     "text": [
      "11\n",
      "15\n",
      "25\n"
     ]
    }
   ],
   "source": [
    "# Função de soma que recebe dois (2) nrs como parâmetro e mostra o resultado.\n",
    "def soma(a, b):\n",
    "    print(a + b)\n",
    "\n",
    "soma(2, 9)\n",
    "soma(7, 8)\n",
    "soma(10, 15)"
   ]
  },
  {
   "cell_type": "code",
   "execution_count": 2,
   "id": "41f7a26d",
   "metadata": {},
   "outputs": [
    {
     "name": "stdout",
     "output_type": "stream",
     "text": [
      "2 + 9 = 11\n",
      "7 + 8 = 15\n",
      "10 + 15 = 25\n"
     ]
    }
   ],
   "source": [
    "# Ou.\n",
    "def soma(a, b):\n",
    "    print(\"%d + %d =\" %(a, b), a + b)\n",
    "\n",
    "soma(2, 9)\n",
    "soma(7, 8)\n",
    "soma(10, 15)"
   ]
  },
  {
   "cell_type": "code",
   "execution_count": 3,
   "id": "bc4710e7",
   "metadata": {},
   "outputs": [
    {
     "name": "stdout",
     "output_type": "stream",
     "text": [
      "11\n"
     ]
    }
   ],
   "source": [
    "# Usamos return como uma interrupção da execução da função, seguido do retorno do valor para a função que a chamou.\n",
    "\n",
    "def soma(a, b):\n",
    "    return(a + b)                # Retorna a operação para a função soma.\n",
    "\n",
    "print(soma(2, 9))                # Imprime o resultado quando a = 2 e b = 9."
   ]
  },
  {
   "cell_type": "code",
   "execution_count": 4,
   "id": "396f766e",
   "metadata": {},
   "outputs": [
    {
     "name": "stdout",
     "output_type": "stream",
     "text": [
      "True\n",
      "False\n",
      "True\n"
     ]
    }
   ],
   "source": [
    "# Retornando se valor é par ou não\n",
    "def épar(x):\n",
    "    return(x % 2 == 0)                # Na função épar, o resto deve ser zero (True)\n",
    "\n",
    "print(épar(2))\n",
    "print(épar(3))\n",
    "print(épar(10))"
   ]
  },
  {
   "cell_type": "code",
   "execution_count": 5,
   "id": "a656aecf",
   "metadata": {},
   "outputs": [
    {
     "name": "stdout",
     "output_type": "stream",
     "text": [
      "par\n",
      "ímpar\n"
     ]
    }
   ],
   "source": [
    "# Ou.\n",
    "def épar(x):\n",
    "    return(x % 2 == 0)\n",
    "\n",
    "def par_ou_ímpar(x):\n",
    "    if épar(x):\n",
    "        return \"par\"\n",
    "    else:\n",
    "        return \"ímpar\"\n",
    "    \n",
    "print(par_ou_ímpar(4))\n",
    "print(par_ou_ímpar(5))"
   ]
  },
  {
   "cell_type": "code",
   "execution_count": 6,
   "id": "afb6c651",
   "metadata": {},
   "outputs": [
    {
     "name": "stdout",
     "output_type": "stream",
     "text": [
      "6\n",
      "2\n",
      "13\n"
     ]
    }
   ],
   "source": [
    "# Função que retorna o maior de dois números.\n",
    "def máximo(a, b):\n",
    "    if a > b:\n",
    "        return (a)\n",
    "    else:\n",
    "        return (b)\n",
    "\n",
    "print (máximo(5, 6))\n",
    "print (máximo(2, 1))\n",
    "print (máximo(7, 13))"
   ]
  },
  {
   "cell_type": "code",
   "execution_count": 7,
   "id": "3b246127",
   "metadata": {},
   "outputs": [
    {
     "name": "stdout",
     "output_type": "stream",
     "text": [
      "True\n",
      "False\n",
      "True\n"
     ]
    }
   ],
   "source": [
    "# Função que recebe dois números e retorne True se o primeiro número for múltiplo do segundo.\n",
    "def múltiplo(a, b):\n",
    "    return (a % b == 0)\n",
    "\n",
    "print (múltiplo(8, 4))\n",
    "print (múltiplo(7, 3))\n",
    "print (múltiplo(5, 5))"
   ]
  },
  {
   "cell_type": "code",
   "execution_count": 8,
   "id": "998aa07a",
   "metadata": {},
   "outputs": [
    {
     "name": "stdout",
     "output_type": "stream",
     "text": [
      "16\n",
      "81\n"
     ]
    }
   ],
   "source": [
    "# Função que recebe o lado (l) de um quadrado e retorna sua área (A = lado*lado).\n",
    "def área_quadrado(l):\n",
    "    return (l**2)\n",
    "\n",
    "print (área_quadrado(4))\n",
    "print (área_quadrado(9))"
   ]
  },
  {
   "cell_type": "code",
   "execution_count": 9,
   "id": "575c1b2b",
   "metadata": {},
   "outputs": [
    {
     "name": "stdout",
     "output_type": "stream",
     "text": [
      "27.0\n",
      "20.0\n"
     ]
    }
   ],
   "source": [
    "# Função que recebe a base e a altura de um triângulo e retorna sua área (A = (base x altura)/2).\n",
    "def área_triângulo (b, h):\n",
    "    return ((b * h)/2)\n",
    "\n",
    "print (área_triângulo(6, 9))\n",
    "print (área_triângulo(5, 8))"
   ]
  },
  {
   "cell_type": "code",
   "execution_count": 10,
   "id": "04bf2692",
   "metadata": {},
   "outputs": [
    {
     "name": "stdout",
     "output_type": "stream",
     "text": [
      "25 Encontrado no índice 2\n",
      "10 Encontrado no índice 0\n",
      "None\n"
     ]
    }
   ],
   "source": [
    "# Função com listas. Pesquisa em uma lista\n",
    "def pesquise(lista, valor):\n",
    "    for x, e in enumerate(lista):                                          # x - índice; e - valor (na lista).\n",
    "        if e == valor:\n",
    "            return (\"%d Encontrado no índice %d\" %(valor, x))\n",
    "    return None                                                            # Caso não encontre o valor, atribui None a soma.\n",
    "        \n",
    "L = [10, 20, 25, 30]\n",
    "\n",
    "print (pesquise(L, 25))\n",
    "print (pesquise(L, 10))\n",
    "print (pesquise(L, 27))"
   ]
  },
  {
   "cell_type": "code",
   "execution_count": 11,
   "id": "e55bc6b3",
   "metadata": {},
   "outputs": [
    {
     "name": "stdout",
     "output_type": "stream",
     "text": [
      "21.25\n"
     ]
    }
   ],
   "source": [
    "# Cálculo da média de uma lista (quando for preciso usar \"soma\" mais adiante)\n",
    "def soma(L):\n",
    "    total = 0\n",
    "    for e in L:\n",
    "        total += e\n",
    "    return total\n",
    "\n",
    "def media(L):\n",
    "    return(soma(L)/len(L))\n",
    "\n",
    "print (media(L))"
   ]
  },
  {
   "cell_type": "code",
   "execution_count": 12,
   "id": "aa5a7dde",
   "metadata": {},
   "outputs": [
    {
     "name": "stdout",
     "output_type": "stream",
     "text": [
      "21.25\n"
     ]
    }
   ],
   "source": [
    "# Ou. Pela regra, a forma anterior é a mais indicada (ver regra 👆).\n",
    "def média(L):\n",
    "    total = 0\n",
    "    for e in L:\n",
    "        total += e\n",
    "    return total/len(L)\n",
    "\n",
    "print (media(L))"
   ]
  },
  {
   "cell_type": "code",
   "execution_count": 13,
   "id": "7645f345",
   "metadata": {},
   "outputs": [
    {
     "name": "stdout",
     "output_type": "stream",
     "text": [
      "34\n",
      "131\n"
     ]
    }
   ],
   "source": [
    "# Como não escrever uma função\n",
    "def soma(L):\n",
    "    total = 0\n",
    "    x = 0\n",
    "    while x < 5:                             # Atenção para a condição (deve convergir com o tamanho da lista)\n",
    "        total += L[x]\n",
    "        x += 1\n",
    "    return total\n",
    "\n",
    "L = [1, 7, 2, 9, 15]\n",
    "\n",
    "print (soma(L))                              # Soma toda list (de 0 até 4 ... x < 5)\n",
    "print (soma([7, 9, 12, 3, 100, 20, 4]))      # Substitui L por uma lista. Porém Soma os 5 primeiros termos (7 até 100)."
   ]
  },
  {
   "cell_type": "code",
   "execution_count": 14,
   "id": "d41e4087",
   "metadata": {},
   "outputs": [
    {
     "name": "stdout",
     "output_type": "stream",
     "text": [
      "34\n",
      "155\n"
     ]
    }
   ],
   "source": [
    "# Como escrever uma função.\n",
    "def soma(L):\n",
    "    total = 0\n",
    "    x = 0\n",
    "    while x < len(L):                        # A condição é o tamanho da lista.\n",
    "        total += L[x]\n",
    "        x += 1\n",
    "    return total\n",
    "\n",
    "L = [1, 7, 2, 9, 15]\n",
    "\n",
    "print (soma(L))\n",
    "print (soma([7, 9, 12, 3, 100, 20, 4]))      # Substitui L por uma lista."
   ]
  },
  {
   "cell_type": "code",
   "execution_count": 15,
   "id": "afb4a179",
   "metadata": {},
   "outputs": [
    {
     "name": "stdout",
     "output_type": "stream",
     "text": [
      "34\n",
      "155\n"
     ]
    }
   ],
   "source": [
    "# Ou melhor.\n",
    "def soma(L):\n",
    "    total = 0\n",
    "    x = 0\n",
    "    for e in L:                             # Percorre toda lista.\n",
    "        total += e\n",
    "    return total\n",
    "\n",
    "L = [1, 7, 2, 9, 15]\n",
    "\n",
    "print (soma(L))\n",
    "print (soma([7, 9, 12, 3, 100, 20, 4]))     # Substitui L por uma lista."
   ]
  },
  {
   "cell_type": "code",
   "execution_count": 16,
   "id": "437fcd2c",
   "metadata": {},
   "outputs": [
    {
     "name": "stdout",
     "output_type": "stream",
     "text": [
      "Digite o número para calcular: 3\n"
     ]
    },
    {
     "data": {
      "text/plain": [
       "6"
      ]
     },
     "execution_count": 16,
     "metadata": {},
     "output_type": "execute_result"
    }
   ],
   "source": [
    "# Cálculo fatorial.\n",
    "def fatorial(n):\n",
    "    fat = 1                                                    # Garante que 0! = 1.\n",
    "    while n > 1:\n",
    "        fat *= n\n",
    "        n -= 1\n",
    "    if n < 0:                                                  # Não existe factorial de numero negativo.\n",
    "        print (\"Invalid\")\n",
    "    return fat\n",
    "\n",
    "fatorial (int(input(\"Digite o número para calcular: \")))"
   ]
  },
  {
   "cell_type": "code",
   "execution_count": 17,
   "id": "1f1cecc7",
   "metadata": {},
   "outputs": [
    {
     "name": "stdout",
     "output_type": "stream",
     "text": [
      "Digite o número para calcular: 3\n"
     ]
    },
    {
     "data": {
      "text/plain": [
       "6"
      ]
     },
     "execution_count": 17,
     "metadata": {},
     "output_type": "execute_result"
    }
   ],
   "source": [
    "# Ou.\n",
    "def fatorial(n):\n",
    "    fat = 1\n",
    "    x = 1\n",
    "    while x <= n:\n",
    "        fat *= x\n",
    "        x += 1\n",
    "    return fat\n",
    "\n",
    "fatorial (int(input(\"Digite o número para calcular: \")))"
   ]
  },
  {
   "cell_type": "code",
   "execution_count": 18,
   "id": "4fdef7a2",
   "metadata": {},
   "outputs": [
    {
     "name": "stdout",
     "output_type": "stream",
     "text": [
      "34\n",
      "15\n",
      "1\n"
     ]
    }
   ],
   "source": [
    "# Funções do Python.\n",
    "L = [1, 7, 2, 9, 15]\n",
    "\n",
    "print (sum(L))\n",
    "print (max(L))\n",
    "print (min(L))"
   ]
  },
  {
   "cell_type": "markdown",
   "id": "157064f4",
   "metadata": {},
   "source": [
    "## Variáveis locais e globais\n",
    "- Uma variável local a uma função existe apenas dentro dela, sendo normalmente inicializada a cada chamada.\n",
    "- Assim, não podemos acessar o valor de uma variável local fora da função que a criou.\n",
    "- Uma variável global é definida fora de uma função, pode ser vista por todas as funções do módulo e por todos os módulos que importam o módulo que a definiu.\n",
    "- Para definir v. global em uma função, devemos informar que estamos usando uma v. global na primeira linha de nossa função.\n",
    "- Essa definição é feita com a instrução **global**."
   ]
  },
  {
   "cell_type": "code",
   "execution_count": 19,
   "id": "80b2b9e7",
   "metadata": {},
   "outputs": [
    {
     "name": "stdout",
     "output_type": "stream",
     "text": [
      "(a) antes de mudar: 5\n",
      "(a) dentro da função: 7\n",
      "(a) depois de mudar: 5\n"
     ]
    }
   ],
   "source": [
    "# Diferença entre variável global e local.\n",
    "a = 5                                            # V. global.\n",
    "print (\"(a) antes de mudar: %d\" %a)\n",
    "\n",
    "def muda_e_imprime():\n",
    "    a = 7                                        # V. local.\n",
    "    print (\"(a) dentro da função: %d\" %a)\n",
    "\n",
    "muda_e_imprime()                                 # Chama a função, com V. local (a = 5).\n",
    "\n",
    "print (\"(a) depois de mudar: %d\" %a)"
   ]
  },
  {
   "cell_type": "code",
   "execution_count": 20,
   "id": "3dbcc51e",
   "metadata": {},
   "outputs": [
    {
     "name": "stdout",
     "output_type": "stream",
     "text": [
      "(a) antes de mudar: 5\n",
      "(a) dentro da função: 7\n",
      "(a) depois de mudar: 7\n"
     ]
    }
   ],
   "source": [
    "# Usando v. global dentro de função.\n",
    "a = 5                                            # V. global.\n",
    "print (\"(a) antes de mudar: %d\" %a)\n",
    "\n",
    "def muda_e_imprime():\n",
    "    global a                                     # O próximo (a) passa a ser global.\n",
    "    a = 7                                        # Nova v. global.\n",
    "    print (\"(a) dentro da função: %d\" %a)\n",
    "\n",
    "muda_e_imprime()                                 # Chama a função, com novo V. global (a = 7).\n",
    "\n",
    "print (\"(a) depois de mudar: %d\" %a)\n"
   ]
  },
  {
   "cell_type": "markdown",
   "id": "38909a3d",
   "metadata": {},
   "source": [
    "## Funções recursivas\n",
    "- Uma função pode chamar a si mesma. Quando isso ocorre temos uma função recursiva."
   ]
  },
  {
   "cell_type": "code",
   "execution_count": 21,
   "id": "7a554528",
   "metadata": {},
   "outputs": [
    {
     "name": "stdout",
     "output_type": "stream",
     "text": [
      "Digite o número para calcular: 3\n"
     ]
    },
    {
     "data": {
      "text/plain": [
       "6"
      ]
     },
     "execution_count": 21,
     "metadata": {},
     "output_type": "execute_result"
    }
   ],
   "source": [
    "# Função recursiva do fatorial\n",
    "def fatorial(n):\n",
    "    if n == 0 or n == 1:\n",
    "        return 1\n",
    "    else:\n",
    "        return n*fatorial(n - 1)                 # Ex: n = 4... 4*(fat(3)) = 4*(3*fat(2)) = 4*(3*2*fat(1)) = 4*(3*2*1) = 24.\n",
    "\n",
    "fatorial (int(input(\"Digite o número para calcular: \")))"
   ]
  },
  {
   "cell_type": "markdown",
   "id": "0207da82",
   "metadata": {},
   "source": [
    "## Validação\n",
    "- Funções são muito úteis para validar a entrada de dados."
   ]
  },
  {
   "cell_type": "code",
   "execution_count": 22,
   "id": "6edc288b",
   "metadata": {},
   "outputs": [
    {
     "name": "stdout",
     "output_type": "stream",
     "text": [
      "Digite um valor entre 0 e 5:3\n",
      "Ok!\n"
     ]
    }
   ],
   "source": [
    "# Validação de inteiro sem usar uma função.\n",
    "\n",
    "while True:\n",
    "    v = int(input(\"Digite um valor entre 0 e 5:\"))\n",
    "    if v < 0 or v > 5:\n",
    "        print (\"Valor inválido.\")\n",
    "    else:\n",
    "        print (\"Ok!\")\n",
    "        break"
   ]
  },
  {
   "cell_type": "code",
   "execution_count": 23,
   "id": "e1a29963",
   "metadata": {},
   "outputs": [
    {
     "name": "stdout",
     "output_type": "stream",
     "text": [
      "03\n",
      "Ok!\n"
     ]
    },
    {
     "data": {
      "text/plain": [
       "3"
      ]
     },
     "execution_count": 23,
     "metadata": {},
     "output_type": "execute_result"
    }
   ],
   "source": [
    "# Validação de inteiro usando função\n",
    "def faixa_int(pergunta, mínimo, máximo):\n",
    "    while True:\n",
    "        v = int(input(pergunta))\n",
    "        if v < mínimo or v > máximo:\n",
    "            print (\"Valor inválido. Digite um valor entre %d e %d\" %(mínimo, máximo))\n",
    "        else:\n",
    "            print (\"Ok!\")\n",
    "            return v\n",
    "\n",
    "faixa_int(0, 0, 5)"
   ]
  },
  {
   "cell_type": "code",
   "execution_count": 24,
   "id": "110be063",
   "metadata": {},
   "outputs": [
    {
     "name": "stdout",
     "output_type": "stream",
     "text": [
      "Digite a string: 1Dioclesio\n",
      "Ok!\n"
     ]
    },
    {
     "data": {
      "text/plain": [
       "'Dioclesio'"
      ]
     },
     "execution_count": 24,
     "metadata": {},
     "output_type": "execute_result"
    }
   ],
   "source": [
    "# Função para validar uma variável string. Essa função recebe como parâmetro a string, o número mínimo e máximo de caracteres.\n",
    "# Retorna verdadeiro se o tamanho da string estiver entre os valores de máximo e mínimo, e falso em caso contrário.\n",
    "def faixa_str(string, mínimo, máximo):\n",
    "    while True:\n",
    "        v = str(input(\"Digite a string: %s\" %string))\n",
    "\n",
    "        if len(v) < mínimo or len(v) > máximo:\n",
    "            print (\"Tamanho inválido. Digite uma string com %d a %d caracteres\" %(mínimo, máximo))\n",
    "\n",
    "        else:\n",
    "            print (\"Ok!\")\n",
    "            return v\n",
    "\n",
    "faixa_str(1, 3, 10)"
   ]
  },
  {
   "cell_type": "code",
   "execution_count": 26,
   "id": "49c4277f",
   "metadata": {},
   "outputs": [
    {
     "name": "stdout",
     "output_type": "stream",
     "text": [
      "Digite uma string:i\n",
      "Adicione um elemento a lista (0 sai):D\n",
      "Adicione um elemento a lista (0 sai):i\n",
      "Adicione um elemento a lista (0 sai):o\n",
      "Adicione um elemento a lista (0 sai):c\n",
      "Adicione um elemento a lista (0 sai):le\n",
      "Adicione um elemento a lista (0 sai):s\n",
      "Adicione um elemento a lista (0 sai):i\n",
      "Adicione um elemento a lista (0 sai):o\n",
      "Adicione um elemento a lista (0 sai):0\n",
      "Verdadeiro: (i) achado na posição 2 da lista\n"
     ]
    }
   ],
   "source": [
    "# Escreva uma função que recebe uma string e uma lista.\n",
    "# A função deve comparar a string com os elementos da lista.\n",
    "# Retorne verdadeiro se a string for encontrada dentro da lista, e falso em caso contrário.\n",
    "Q = []\n",
    "u = 0\n",
    "def compara(string, lista):\n",
    "    u = str(input(\"Digite uma string:\" ))\n",
    "    while True:\n",
    "        w = input(\"Adicione um elemento a lista (0 sai):\" )\n",
    "        if w == \"0\":\n",
    "            break\n",
    "        Q.append(w)\n",
    "                   \n",
    "    achou = False\n",
    "    x = 0\n",
    "    while x < len(Q):\n",
    "        if Q[x] == u:\n",
    "            achou = True\n",
    "            break\n",
    "        x += 1\n",
    "    if achou:\n",
    "        print (\"Verdadeiro: (%s) achado na posição %d da lista\" %(u, (x + 1)))\n",
    "    else:\n",
    "        print (\"Falso: (%s) não encontrado\" %(u))\n",
    "        return u, Q\n",
    "\n",
    "compara(u, Q)"
   ]
  },
  {
   "cell_type": "markdown",
   "id": "daa8f0f1",
   "metadata": {},
   "source": [
    "## Parâmetros opcionais\n",
    "- Nem sempre precisaremos passar todos os parâmetros para uma função, preferindo utilizar um valor previamente escolhido como padrão, mas deixando a possibilidade de alterá-lo, caso necessário."
   ]
  },
  {
   "cell_type": "code",
   "execution_count": 30,
   "id": "2895d748",
   "metadata": {},
   "outputs": [
    {
     "name": "stdout",
     "output_type": "stream",
     "text": [
      "****************************************\n"
     ]
    }
   ],
   "source": [
    "# Função para imprimir uma barra na tela sem parâmetros opcionais.\n",
    "def barra():\n",
    "    print (\"*\" * 40)\n",
    "    \n",
    "barra()"
   ]
  },
  {
   "cell_type": "code",
   "execution_count": 54,
   "id": "3ee262f9",
   "metadata": {},
   "outputs": [
    {
     "name": "stdout",
     "output_type": "stream",
     "text": [
      "****************************************\n",
      "**********\n",
      "--------------------\n",
      "^^^^^^^^^^^^^^^^^^^^\n"
     ]
    }
   ],
   "source": [
    "# Função para imprimir uma barra na tela com parâmetros opcionais (igualar o parâmetro a um valor).\n",
    "def barra(n = 40, caractere = \"*\"):\n",
    "    print(caractere * n)\n",
    "\n",
    "barra()\n",
    "barra(10)\n",
    "barra(20, \"-\")\n",
    "barra(20, \"^\")"
   ]
  },
  {
   "cell_type": "code",
   "execution_count": 55,
   "id": "6a956fb9",
   "metadata": {},
   "outputs": [
    {
     "name": "stdout",
     "output_type": "stream",
     "text": [
      "5\n",
      "7\n",
      "7\n",
      "13\n"
     ]
    }
   ],
   "source": [
    "# Função soma com parâmetros obrigatórios e opcionais.\n",
    "def soma(a, b, imprime = False):                # a, b obrigatórios... imprime opcional.\n",
    "    s = a + b\n",
    "    if imprime:\n",
    "        print(s)\n",
    "    return s\n",
    "\n",
    "print (soma(2, 3))                              # Soma.\n",
    "print (soma(3, 4, True))                        # Soma e imprime.\n",
    "print (soma(5, 8, False))                       # Soma e não imprime."
   ]
  },
  {
   "cell_type": "code",
   "execution_count": 56,
   "id": "e6777f03",
   "metadata": {},
   "outputs": [
    {
     "ename": "SyntaxError",
     "evalue": "non-default argument follows default argument (2604875934.py, line 2)",
     "output_type": "error",
     "traceback": [
      "\u001b[1;36m  Cell \u001b[1;32mIn[56], line 2\u001b[1;36m\u001b[0m\n\u001b[1;33m    def soma(imprime = True, a, b):\u001b[0m\n\u001b[1;37m                             ^\u001b[0m\n\u001b[1;31mSyntaxError\u001b[0m\u001b[1;31m:\u001b[0m non-default argument follows default argument\n"
     ]
    }
   ],
   "source": [
    "# Definição inválida da função soma com parâmetros opcionais antes dos obrigatórios.\n",
    "def soma(imprime = True, a, b):\n",
    "    s = a + b\n",
    "    if imprime:\n",
    "        print (s)\n",
    "    return s\n",
    "\n",
    "# Inválida porque o parâmetro opcional imprime é seguido por parâmetros obrigatórios a e b."
   ]
  },
  {
   "cell_type": "markdown",
   "id": "be67b6a2",
   "metadata": {},
   "source": [
    "## Nomeando parâmetros\n",
    "- Python suporta a chamada de funções com vários parâmetros, mas até agora vimos apenas o caso em que fizemos a chamada da função passando os parâmetros na mesma ordem em que foram definidos.\n",
    "- Quando especificamos o nome dos parâmetros, podemos passá-los em qualquer ordem.\n",
    "- Quando especificamos o nome de um parâmetro, somos obrigados a especificar o nome de todos os outros parâmetros também."
   ]
  },
  {
   "cell_type": "code",
   "execution_count": 61,
   "id": "3d9c3735",
   "metadata": {},
   "outputs": [
    {
     "name": "stdout",
     "output_type": "stream",
     "text": [
      "***\n",
      "***\n",
      "***\n",
      "***\n",
      "\n",
      "\n",
      "***\n",
      "***\n",
      "***\n",
      "***\n",
      "\n",
      "\n",
      "***\n",
      "***\n",
      "***\n",
      "***\n",
      "\n",
      "\n",
      "---\n",
      "---\n",
      "---\n",
      "---\n"
     ]
    }
   ],
   "source": [
    "# Função retângulo com parâmetros obrigatórios e opcionais.\n",
    "def retângulo(largura, altura, caractere = \"*\"):\n",
    "    linha = caractere * largura\n",
    "    for i in range(altura):\n",
    "        print (linha)\n",
    "\n",
    "retângulo(3, 4)                                       # Sem nomes.\n",
    "print ()\n",
    "print ()\n",
    "retângulo(largura = 3, altura = 4)                    # Com nomes, na mesma ordem.\n",
    "print ()\n",
    "print ()\n",
    "retângulo(altura = 4, largura = 3)                    # Com nomes, parâmetros invertidos.\n",
    "print ()\n",
    "print ()\n",
    "retângulo(caractere = \"-\", altura = 4, largura = 3)     # Com nomes, parâmetros invertidos."
   ]
  },
  {
   "cell_type": "code",
   "execution_count": 62,
   "id": "fa97ac5b",
   "metadata": {},
   "outputs": [
    {
     "ename": "SyntaxError",
     "evalue": "positional argument follows keyword argument (2130267894.py, line 2)",
     "output_type": "error",
     "traceback": [
      "\u001b[1;36m  Cell \u001b[1;32mIn[62], line 2\u001b[1;36m\u001b[0m\n\u001b[1;33m    retângulo(largura = 3, 4)\u001b[0m\n\u001b[1;37m                            ^\u001b[0m\n\u001b[1;31mSyntaxError\u001b[0m\u001b[1;31m:\u001b[0m positional argument follows keyword argument\n"
     ]
    }
   ],
   "source": [
    "# Chamadas inválidas da função retângulo.\n",
    "retângulo(largura = 3, 4)\n",
    "retângulo(largura = 3, altura = 4, \"*\")"
   ]
  },
  {
   "cell_type": "markdown",
   "id": "e34cd0af",
   "metadata": {},
   "source": [
    "## Funções como parâmetro\n",
    "- Um poderoso recurso de Python é permitir a passagem de funções como parâmetro.\n",
    "- Isso permite combinar várias funções para realizar uma tarefa.\n",
    "- Usamos o parâmetro chamado **foper** que recebe a função que passaremos como parâmetro."
   ]
  },
  {
   "cell_type": "code",
   "execution_count": 63,
   "id": "9f1cbeef",
   "metadata": {},
   "outputs": [
    {
     "name": "stdout",
     "output_type": "stream",
     "text": [
      "9\n",
      "9\n"
     ]
    }
   ],
   "source": [
    "# Funções como parâmetro.\n",
    "def soma(a, b):\n",
    "    return a + b\n",
    "\n",
    "def subtração(a, b):\n",
    "    return a - b\n",
    "\n",
    "def imprime(a, b, foper):\n",
    "    print (foper(a, b))\n",
    "    \n",
    "imprime(5, 4, soma)\n",
    "imprime(10, 1, subtração)"
   ]
  },
  {
   "cell_type": "code",
   "execution_count": 67,
   "id": "b51757e7",
   "metadata": {},
   "outputs": [
    {
     "name": "stdout",
     "output_type": "stream",
     "text": [
      "Valor: 2\n",
      "Valor: 0\n",
      "\n",
      "\n",
      "Valor: 1\n",
      "Valor: 7\n",
      "Valor: 9\n",
      "Valor: 11\n"
     ]
    }
   ],
   "source": [
    "# Configuração de funções com funções \n",
    "def imprime_lista(L, fimpressão, fcondição):\n",
    "    for e in L:\n",
    "        if fcondição(e):\n",
    "            fimpressão(e)\n",
    "            \n",
    "def imprime_elemento(e):\n",
    "    print (\"Valor: %d\" %e)\n",
    "\n",
    "def épar(x):\n",
    "    return x % 2 == 0\n",
    "\n",
    "def éimpar(x):\n",
    "    return not épar(x)\n",
    "\n",
    "L = [1, 7, 9, 2, 11, 0]\n",
    "\n",
    "imprime_lista(L, imprime_elemento, épar)\n",
    "print ()\n",
    "print ()\n",
    "imprime_lista(L, imprime_elemento, éimpar)"
   ]
  },
  {
   "cell_type": "markdown",
   "id": "7ff3b5a8",
   "metadata": {},
   "source": [
    "## Empacotamento e desempacotamento de parâmetros"
   ]
  },
  {
   "cell_type": "markdown",
   "id": "7b1d994a",
   "metadata": {},
   "source": [
    "### Empacotamento\n",
    "- Podemos passar parâmetros empacotados em uma lista."
   ]
  },
  {
   "cell_type": "code",
   "execution_count": 74,
   "id": "f5a660e8",
   "metadata": {},
   "outputs": [
    {
     "name": "stdout",
     "output_type": "stream",
     "text": [
      "5\n"
     ]
    }
   ],
   "source": [
    "# Empacotamento de parâmetros em uma lista.\n",
    "def soma(a, b):\n",
    "    print (a + b)\n",
    "\n",
    "L = [2, 3]\n",
    "soma(*L)\n",
    "\n",
    "# O * para indica que queremos desempacotar a lista L utilizando seus valores como parâmetro para a função soma.\n",
    "# L[0] será atribuído a a e L[1] a b.\n",
    "# Esse recurso permite armazenar parâmetros em listas e evita construções do tipo soma(L[0], L[1])."
   ]
  },
  {
   "cell_type": "code",
   "execution_count": 75,
   "id": "b79e888d",
   "metadata": {},
   "outputs": [
    {
     "name": "stdout",
     "output_type": "stream",
     "text": [
      "-----\n",
      "**********\n",
      "*****\n",
      "......\n"
     ]
    }
   ],
   "source": [
    "# Empacotamento de parâmetros em uma lista.\n",
    "def barra(n = 10, c = \"*\"):\n",
    "    print(c * n)\n",
    "\n",
    "L = [[5, \"-\"], [10, \"*\"], [5], [6,\".\"]]\n",
    "\n",
    "for e in L:\n",
    "    barra(*e)"
   ]
  },
  {
   "cell_type": "markdown",
   "id": "49a88cb3",
   "metadata": {},
   "source": [
    "### Desempacotamento\n",
    "- Podemos criar funções que recebem um número indeterminado de parâmetros utilizando listas de parâmetros."
   ]
  },
  {
   "cell_type": "code",
   "execution_count": 79,
   "id": "6b617ed9",
   "metadata": {},
   "outputs": [
    {
     "name": "stdout",
     "output_type": "stream",
     "text": [
      "3\n",
      "\n",
      "2\n",
      "\n",
      "26\n",
      "\n",
      "109\n"
     ]
    }
   ],
   "source": [
    "# Função soma com número indeterminado de parâmetros.\n",
    "def soma(*args):\n",
    "    s = 0\n",
    "    for e in args:\n",
    "        s += e\n",
    "    return s\n",
    "\n",
    "print (soma(1, 2))\n",
    "print ()\n",
    "print (soma(2))\n",
    "print ()\n",
    "print (soma(5, 6, 7, 8))\n",
    "print ()\n",
    "print (soma(9, 10, 20, 30, 40))"
   ]
  },
  {
   "cell_type": "code",
   "execution_count": 86,
   "id": "2d4b06e5",
   "metadata": {},
   "outputs": [
    {
     "name": "stdout",
     "output_type": "stream",
     "text": [
      "Maior: None\n",
      "Maior: 5\n",
      "Máximo: 9\n"
     ]
    }
   ],
   "source": [
    "# Função imprime_maior com número indeterminado de parâmetros (parâmetros obrigatórios e uma lista de parâmetros)\n",
    "def imprime_maior(mensagem, *numeros):                      # mensagem = parâmetro obrigatório.\n",
    "    maior = None\n",
    "    for e in numeros:\n",
    "        if maior == None or maior < e:\n",
    "            maior = e\n",
    "    print (mensagem, maior)\n",
    "\n",
    "imprime_maior(\"Maior:\")                              # Maior de uma lista vazia.\n",
    "imprime_maior(\"Maior:\", 5, 4, 3, 1)\n",
    "imprime_maior(\"Máximo:\", *[1, 7, 9])"
   ]
  },
  {
   "cell_type": "markdown",
   "id": "1d6e9075",
   "metadata": {},
   "source": [
    "##  Funções Lambda\n",
    "- Podemos criar funções simples, sem nome, chamadas de funções lambda."
   ]
  },
  {
   "cell_type": "code",
   "execution_count": 87,
   "id": "eb79706d",
   "metadata": {},
   "outputs": [
    {
     "name": "stdout",
     "output_type": "stream",
     "text": [
      "6\n"
     ]
    }
   ],
   "source": [
    "# Função lambda que recebe um valor e retorna o dobro dele.\n",
    "a = lambda x: x * 2\n",
    "print (a(3))"
   ]
  },
  {
   "cell_type": "code",
   "execution_count": 88,
   "id": "08134250",
   "metadata": {},
   "outputs": [
    {
     "data": {
      "text/plain": [
       "5.0"
      ]
     },
     "execution_count": 88,
     "metadata": {},
     "output_type": "execute_result"
    }
   ],
   "source": [
    "# Função lambda que recebe mais de um parâmetro.\n",
    "aumento = lambda a, b: (a * b / 100)\n",
    "aumento(100, 5)"
   ]
  },
  {
   "cell_type": "markdown",
   "id": "b3ea335a",
   "metadata": {},
   "source": [
    "## Módulos\n",
    "- Depois de criarmos várias funções, os programas ficaram muito grandes.\n",
    "- Precisamos armazenar nossas funções em outros arquivos para usá-las, sem precisar reescrevê-las, ou copiar.\n",
    "- Python resolve o problema com módulos. Todo arquivo **.py** é um módulo, podendo ser importado com o comando **import**."
   ]
  },
  {
   "cell_type": "code",
   "execution_count": 3,
   "id": "656787b1",
   "metadata": {},
   "outputs": [],
   "source": [
    "# Módulo entrada (gravado como: entrada.py).\n",
    "def valida_inteiro(mensagem, mínimo, máximo):\n",
    "    while True:\n",
    "        try:\n",
    "            v = int(input(mensagem))\n",
    "            if v >= mínimo and v <= máximo:\n",
    "                return v\n",
    "            else:\n",
    "                print (\"Digite um valor entre %d e %d\" % (mínimo, máximo))\n",
    "        except:\n",
    "            print (\"Você deve digitar um número inteiro\")"
   ]
  },
  {
   "cell_type": "code",
   "execution_count": 4,
   "id": "9b335e74",
   "metadata": {},
   "outputs": [
    {
     "ename": "ModuleNotFoundError",
     "evalue": "No module named 'entrada'",
     "output_type": "error",
     "traceback": [
      "\u001b[1;31m---------------------------------------------------------------------------\u001b[0m",
      "\u001b[1;31mModuleNotFoundError\u001b[0m                       Traceback (most recent call last)",
      "Cell \u001b[1;32mIn[4], line 2\u001b[0m\n\u001b[0;32m      1\u001b[0m \u001b[38;5;66;03m# Módulo soma (soma.py) que importa entrada.\u001b[39;00m\n\u001b[1;32m----> 2\u001b[0m \u001b[38;5;28;01mimport\u001b[39;00m \u001b[38;5;21;01mentrada\u001b[39;00m                                                           \u001b[38;5;66;03m# Do aqruivo entrada.py.\u001b[39;00m\n\u001b[0;32m      4\u001b[0m L \u001b[38;5;241m=\u001b[39m []\n\u001b[0;32m      6\u001b[0m \u001b[38;5;28;01mfor\u001b[39;00m x \u001b[38;5;129;01min\u001b[39;00m \u001b[38;5;28mrange\u001b[39m(\u001b[38;5;241m10\u001b[39m):\n",
      "\u001b[1;31mModuleNotFoundError\u001b[0m: No module named 'entrada'"
     ]
    }
   ],
   "source": [
    "# Módulo soma (soma.py) chama a função valida_inteiro, definida em entrada.py.\n",
    "import entrada\n",
    "\n",
    "L = []\n",
    "\n",
    "for x in range(10):\n",
    "    L.append(entrada.valida_inteiro(\"Digite um número:\", 0, 20))         # \"Digite um nr\" (msg), 0 (min), 20 (max).\n",
    "    print (\"Soma: %d\" %(sum(L)))"
   ]
  },
  {
   "cell_type": "code",
   "execution_count": null,
   "id": "7e199731",
   "metadata": {},
   "outputs": [],
   "source": [
    "# Ou.\n",
    "from entrada import valida_inteiro\n",
    "\n",
    "L = []\n",
    "\n",
    "for x in range(10):\n",
    "    L.append(valida_inteiro(\"Digite um número:\", 0, 20))         # Sem entrada.\n",
    "    print (\"Soma: %d\" %(sum(L)))"
   ]
  },
  {
   "cell_type": "markdown",
   "id": "1a0f175c",
   "metadata": {},
   "source": [
    "## Números aleatórios\n",
    "- Para gerar números aleatórios em Python, vamos utilizar o módulo **random**.\n",
    "- O módulo traz várias funções para geração de números aleatórios."
   ]
  },
  {
   "cell_type": "code",
   "execution_count": 26,
   "id": "a6e29ba8",
   "metadata": {},
   "outputs": [
    {
     "name": "stdout",
     "output_type": "stream",
     "text": [
      "4\n",
      "6\n",
      "1\n"
     ]
    }
   ],
   "source": [
    "# Gerando 3 números inteiros aleatórios de 0 até 10.\n",
    "import random\n",
    "\n",
    "for x in range(3):\n",
    "    print(random.randint(1, 10))"
   ]
  },
  {
   "cell_type": "code",
   "execution_count": 41,
   "id": "02946b4e",
   "metadata": {},
   "outputs": [
    {
     "name": "stdout",
     "output_type": "stream",
     "text": [
      "Escolha um número entre 1 e 3:3\n",
      "Você errou.\n"
     ]
    }
   ],
   "source": [
    "# Adivinhando o número.\n",
    "import random\n",
    "\n",
    "n = random.randint(1, 3)\n",
    "x = int(input(\"Escolha um número entre 1 e 3:\"))\n",
    "\n",
    "if (x == n):\n",
    "    print (\"Você acertou!\")\n",
    "else:\n",
    "    print (\"Você errou.\")"
   ]
  },
  {
   "cell_type": "code",
   "execution_count": 43,
   "id": "dd1c343d",
   "metadata": {},
   "outputs": [
    {
     "name": "stdout",
     "output_type": "stream",
     "text": [
      "Tentativa 1...\n",
      "Escolha um número entre 1 e 3:2\n",
      "Você errou.\n",
      "Tentativa 2...\n",
      "Escolha um número entre 1 e 3:1\n",
      "Você errou.\n",
      "Tentativa 3...\n",
      "Escolha um número entre 1 e 3:2\n",
      "Você errou.\n"
     ]
    }
   ],
   "source": [
    "# Ou melhor.\n",
    "import random\n",
    "from time import sleep\n",
    "\n",
    "n = random.randint(1, 3)\n",
    "tentativa = 1\n",
    "\n",
    "while tentativa <= 3:\n",
    "    print(\"Tentativa %d...\" %tentativa)\n",
    "    sleep(3)\n",
    "    x = int(input(\"Escolha um número entre 1 e 3:\"))\n",
    "    if (x == n):\n",
    "        print (\"Você acertou!\")\n",
    "        break\n",
    "    else:\n",
    "        print (\"Você errou.\")\n",
    "    tentativa += 1"
   ]
  },
  {
   "cell_type": "code",
   "execution_count": 50,
   "id": "b65a7755",
   "metadata": {},
   "outputs": [
    {
     "name": "stdout",
     "output_type": "stream",
     "text": [
      "0.7107075621559181\n",
      "0.592030603273967\n",
      "0.5039464946677233\n"
     ]
    }
   ],
   "source": [
    "# Gerando 3 números aleatórios fracionários com a função random (retorna valores entre 0 e 1).\n",
    "import random\n",
    "\n",
    "for x in range(3):\n",
    "    print (random.random())"
   ]
  },
  {
   "cell_type": "code",
   "execution_count": 53,
   "id": "d4c513cf",
   "metadata": {},
   "outputs": [
    {
     "name": "stdout",
     "output_type": "stream",
     "text": [
      "1.8940462800807472\n",
      "2.130156279602783\n",
      "1.4029119890454536\n"
     ]
    }
   ],
   "source": [
    "# Números aleatórios fracionários dentro de uma determinada faixa com uniform.\n",
    "import random\n",
    "\n",
    "for x in range(3):\n",
    "    print (random.uniform(1, 3))"
   ]
  },
  {
   "cell_type": "code",
   "execution_count": 56,
   "id": "12d38923",
   "metadata": {},
   "outputs": [
    {
     "name": "stdout",
     "output_type": "stream",
     "text": [
      "[3, 9, 8]\n"
     ]
    }
   ],
   "source": [
    "# Seleção de amostras de uma lista, aleatoriamente com a função sample.\n",
    "import random\n",
    "\n",
    "print (random.sample(range(1, 10), 3))         # (Faixa), quantidade de elementos."
   ]
  },
  {
   "cell_type": "code",
   "execution_count": 77,
   "id": "ba9421ba",
   "metadata": {},
   "outputs": [
    {
     "name": "stdout",
     "output_type": "stream",
     "text": [
      "a = [3, 2, 1]\n",
      "b = [3, 5, 1, 9, 7]\n"
     ]
    }
   ],
   "source": [
    "# Ação de embaralhar elementos de uma lista com a função shuffle.\n",
    "import random\n",
    "\n",
    "a = list(range(1, 4))           # Gera uma lista com 3 elementos (de 1 ate 3).\n",
    "b = [1, 3, 5, 7, 9]\n",
    "\n",
    "random.shuffle(a)\n",
    "random.shuffle(b)\n",
    "\n",
    "print (\"a =\", a)\n",
    "print (\"b =\", b)"
   ]
  },
  {
   "cell_type": "markdown",
   "id": "a33a5ac6",
   "metadata": {},
   "source": [
    "##  Função type\n",
    "- A função **type** retorna o tipo de uma variável, função ou objeto em Python."
   ]
  },
  {
   "cell_type": "code",
   "execution_count": 83,
   "id": "f6e22813",
   "metadata": {},
   "outputs": [
    {
     "name": "stdout",
     "output_type": "stream",
     "text": [
      "<class 'int'>\n",
      "\n",
      "<class 'str'>\n",
      "\n",
      "<class 'bool'>\n",
      "\n",
      "<class 'float'>\n",
      "\n",
      "<class 'list'>\n",
      "\n",
      "<class 'dict'>\n",
      "\n",
      "<class 'function'>\n"
     ]
    }
   ],
   "source": [
    "# A função type.\n",
    "a = 5\n",
    "print (type(a))\n",
    "print ()\n",
    "\n",
    "b = \"Olá\"\n",
    "print (type(b))\n",
    "print ()\n",
    "\n",
    "c = False\n",
    "print (type(c))\n",
    "print ()\n",
    "\n",
    "d = 0.5\n",
    "print (type(d))\n",
    "print ()\n",
    "\n",
    "e = [a, 2, c]\n",
    "print (type(e))\n",
    "print ()\n",
    "\n",
    "f = {}\n",
    "print (type(f))\n",
    "print ()\n",
    "\n",
    "def função():\n",
    "    pass\n",
    "print(type(função))"
   ]
  },
  {
   "cell_type": "code",
   "execution_count": 84,
   "id": "76f9637a",
   "metadata": {},
   "outputs": [
    {
     "name": "stdout",
     "output_type": "stream",
     "text": [
      "Número inteiro\n",
      "Número decimal\n",
      "String\n",
      "Lista\n",
      "Dicionário\n",
      "Função interna\n",
      "<class 'NoneType'>\n"
     ]
    }
   ],
   "source": [
    "# Utilizando a função type em um programa.\n",
    "import types\n",
    "\n",
    "def diz_o_tipo(a):\n",
    "    tipo = type(a)\n",
    "    if tipo == str:\n",
    "        return(\"String\")\n",
    "    elif tipo == list:\n",
    "        return(\"Lista\")\n",
    "    elif tipo == dict:\n",
    "        return(\"Dicionário\")\n",
    "    elif tipo == int:\n",
    "        return(\"Número inteiro\")\n",
    "    elif tipo == float:\n",
    "        return(\"Número decimal\")\n",
    "    elif tipo == types.FunctionType:\n",
    "        return(\"Função\")\n",
    "    elif tipo == types.BuiltinFunctionType:\n",
    "        return(\"Função interna\")\n",
    "    else:\n",
    "        return(str(tipo))\n",
    "    \n",
    "print (diz_o_tipo(10))\n",
    "print (diz_o_tipo(10.5))\n",
    "print (diz_o_tipo(\"Alô\"))\n",
    "print (diz_o_tipo([1,2,3]))\n",
    "print (diz_o_tipo({\"a\":1, \"b\":50}))\n",
    "print (diz_o_tipo(print))\n",
    "print (diz_o_tipo(None))"
   ]
  },
  {
   "cell_type": "code",
   "execution_count": 85,
   "id": "4347bebb",
   "metadata": {},
   "outputs": [
    {
     "name": "stdout",
     "output_type": "stream",
     "text": [
      "<class 'int'>\n",
      "<class 'str'>\n",
      "<class 'list'>\n",
      "<class 'dict'>\n"
     ]
    }
   ],
   "source": [
    "# Usando type com os elementos de uma lista\n",
    "L = [ 2, \"Alô\", [\"!\"], { \"a\":1, \"b\":2}]\n",
    "\n",
    "for e in L:\n",
    "    print(type(e))"
   ]
  },
  {
   "cell_type": "code",
   "execution_count": 88,
   "id": "2bedc487",
   "metadata": {},
   "outputs": [
    {
     "name": "stdout",
     "output_type": "stream",
     "text": [
      "a\n",
      "\n",
      "Lista:\n",
      "b\n",
      "c\n",
      "d\n",
      "\n",
      "e\n",
      "\n"
     ]
    }
   ],
   "source": [
    "# Navegando listas a partir do tipo de seus elementos. Se forem do tipo string imprime.\n",
    "# Se forem do tipo lista, imprimir cada elemento.\n",
    "import types\n",
    "\n",
    "L = [\"a\", [\"b\",\"c\",\"d\"], \"e\"]\n",
    "\n",
    "for x in L:\n",
    "    if type(x) == str:\n",
    "        print (x)\n",
    "        print ()\n",
    "    else:\n",
    "        print (\"Lista:\")\n",
    "        for z in x:\n",
    "            print (z)\n",
    "        print ()"
   ]
  }
 ],
 "metadata": {
  "kernelspec": {
   "display_name": "Python 3 (ipykernel)",
   "language": "python",
   "name": "python3"
  },
  "language_info": {
   "codemirror_mode": {
    "name": "ipython",
    "version": 3
   },
   "file_extension": ".py",
   "mimetype": "text/x-python",
   "name": "python",
   "nbconvert_exporter": "python",
   "pygments_lexer": "ipython3",
   "version": "3.11.5"
  }
 },
 "nbformat": 4,
 "nbformat_minor": 5
}
