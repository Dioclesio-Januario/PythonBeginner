{
 "cells": [
  {
   "cell_type": "code",
   "execution_count": 25,
   "id": "72329ab4",
   "metadata": {},
   "outputs": [
    {
     "name": "stdout",
     "output_type": "stream",
     "text": [
      "8\n",
      "2\n"
     ]
    }
   ],
   "source": [
    "# Def soma (com paramentro opcional).\n",
    "def soma(a, b, c = 0):\n",
    "    s = a + b + c\n",
    "    print(s)\n",
    "\n",
    "\n",
    "soma(2, 3, 3)\n",
    "soma(1, 1)                                         # Como o c não foi especificado, c = 0."
   ]
  },
  {
   "cell_type": "code",
   "execution_count": 5,
   "id": "a94ca16a",
   "metadata": {},
   "outputs": [
    {
     "name": "stdout",
     "output_type": "stream",
     "text": [
      "(2, 3, 4)\n",
      "3\n",
      "(1,)\n",
      "1\n",
      "(2, 4, 5, 1, 2, 4, 7, 11)\n",
      "8\n"
     ]
    }
   ],
   "source": [
    "# Empacotamento e desempacotamento (contador).\n",
    "def contador(*num):\n",
    "    print(num)\n",
    "    print(len(num))\n",
    "\n",
    "\n",
    "contador(2, 3, 4)\n",
    "contador(1)\n",
    "contador(2, 4, 5, 1, 2, 4, 7, 11)"
   ]
  },
  {
   "cell_type": "code",
   "execution_count": 20,
   "id": "c4e1df19",
   "metadata": {},
   "outputs": [
    {
     "name": "stdout",
     "output_type": "stream",
     "text": [
      "0 10 20 30 40 50 60 70 80 90 100 FIM\n"
     ]
    }
   ],
   "source": [
    "# Contador.\n",
    "def contador(i, f, p):\n",
    "    \"\"\"\n",
    "    CONTADOR: Faz a contagem.\n",
    "    : i: Início da contagem;\n",
    "    : f: Fim da contagem;\n",
    "    : p: Passo.\n",
    "    Por: Dioclesio Januário.\n",
    "    \"\"\"\n",
    "    c = i\n",
    "    while c <= f:\n",
    "        print(f\"{c}\", end = \" \")                      # end: imprime na mesma linha.\n",
    "        c += p\n",
    "    print(\"FIM\")\n",
    "              \n",
    "        \n",
    "contador(0, 100, 10)"
   ]
  },
  {
   "cell_type": "code",
   "execution_count": 21,
   "id": "8fb53bc1",
   "metadata": {},
   "outputs": [
    {
     "name": "stdout",
     "output_type": "stream",
     "text": [
      "Help on function contador in module __main__:\n",
      "\n",
      "contador(i, f, p)\n",
      "    CONTADOR: Faz a contagem.\n",
      "    : i: Início da contagem;\n",
      "    : f: Fim da contagem;\n",
      "    : p: Passo.\n",
      "    Por: Dioclesio Januário.\n",
      "\n"
     ]
    }
   ],
   "source": [
    "help(contador)"
   ]
  },
  {
   "cell_type": "code",
   "execution_count": 28,
   "id": "1296124c",
   "metadata": {},
   "outputs": [
    {
     "name": "stdout",
     "output_type": "stream",
     "text": [
      "r1 = 6; r2 = 7; r3 = 5\n"
     ]
    }
   ],
   "source": [
    "# Retorno de valores (útil para personalizar resultados).\n",
    "def soma(a, b, c = 0):\n",
    "    s = a + b + c\n",
    "    return s\n",
    "\n",
    "\n",
    "# A função retorna o s para as variáveis r.\n",
    "r1 = soma(2, 3, 1)\n",
    "r2 = soma(3, 4)\n",
    "r3 = soma(4, 1)\n",
    "\n",
    "print(f\"r1 = {r1}; r2 = {r2}; r3 = {r3}\")"
   ]
  },
  {
   "cell_type": "code",
   "execution_count": 35,
   "id": "8aeac05c",
   "metadata": {},
   "outputs": [
    {
     "name": "stdout",
     "output_type": "stream",
     "text": [
      "Digite um número:3\n",
      "Factorial de 3 é 6\n"
     ]
    }
   ],
   "source": [
    "# Factorial.\n",
    "def factorial(num = 1):\n",
    "    f = 1\n",
    "    for c in range(num, 0, -1):\n",
    "        f *= c\n",
    "    return f\n",
    "\n",
    "n = int(input(\"Digite um número:\"))\n",
    "print(f\"Factorial de {n} é {factorial(n)}\")"
   ]
  },
  {
   "cell_type": "code",
   "execution_count": 37,
   "id": "fe5af4cc",
   "metadata": {},
   "outputs": [
    {
     "name": "stdout",
     "output_type": "stream",
     "text": [
      "O factorial de f1 é 6\n",
      "O factorial de f2 é 120\n"
     ]
    }
   ],
   "source": [
    "# Factorial.\n",
    "def factorial(num = 1):\n",
    "    f = 1\n",
    "    for c in range(num, 0, -1):\n",
    "        f *= c\n",
    "    return f\n",
    "\n",
    "\n",
    "f1 = factorial(3)\n",
    "f2 = factorial(5)\n",
    "\n",
    "print(f\"O factorial de f1 é {f1}\\nO factorial de f2 é {f2}\")"
   ]
  }
 ],
 "metadata": {
  "kernelspec": {
   "display_name": "Python 3 (ipykernel)",
   "language": "python",
   "name": "python3"
  },
  "language_info": {
   "codemirror_mode": {
    "name": "ipython",
    "version": 3
   },
   "file_extension": ".py",
   "mimetype": "text/x-python",
   "name": "python",
   "nbconvert_exporter": "python",
   "pygments_lexer": "ipython3",
   "version": "3.11.5"
  }
 },
 "nbformat": 4,
 "nbformat_minor": 5
}
