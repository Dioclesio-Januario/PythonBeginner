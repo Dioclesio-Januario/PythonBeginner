{
 "cells": [
  {
   "cell_type": "code",
   "execution_count": 17,
   "id": "b732b574",
   "metadata": {},
   "outputs": [
    {
     "name": "stdout",
     "output_type": "stream",
     "text": [
      "Numerador: 2\n",
      "Denominador: 0\n",
      "Não é possivel dividir por zero.\n",
      "Volte sempre!\n"
     ]
    }
   ],
   "source": [
    "# Erro genérico.\n",
    "try:\n",
    "    n = int(input(\"Numerador: \"))\n",
    "    d = int(input(\"Denominador: \"))\n",
    "    r = n / d\n",
    "except Exception as erro:\n",
    "    print(\"Infelizmente tivemos um problema.\")\n",
    "    print(f\"Problema: {erro.__class__}\")\n",
    "else:\n",
    "    print(f\"O resultado é {r:.1f}\")\n",
    "finally:\n",
    "    print(\"Volte sempre!\")"
   ]
  },
  {
   "cell_type": "code",
   "execution_count": 18,
   "id": "9a3160e1",
   "metadata": {},
   "outputs": [
    {
     "name": "stdout",
     "output_type": "stream",
     "text": [
      "Numerador: 2\n",
      "Denominador: 0\n",
      "Não é possivel dividir por zero.\n",
      "Volte sempre!\n"
     ]
    }
   ],
   "source": [
    "# Erro de divisão por zero.\n",
    "try:\n",
    "    n = int(input(\"Numerador: \"))\n",
    "    d = int(input(\"Denominador: \"))\n",
    "    r = n / d\n",
    "except ZeroDivisionError:\n",
    "    print(\"Não é possivel dividir por zero.\")\n",
    "else:\n",
    "    print(f\"O resultado é {r:.1f}\")\n",
    "finally:\n",
    "    print(\"Volte sempre!\")"
   ]
  },
  {
   "cell_type": "code",
   "execution_count": 19,
   "id": "f773f093",
   "metadata": {},
   "outputs": [
    {
     "name": "stdout",
     "output_type": "stream",
     "text": [
      "Numerador: 2\n",
      "Denominador: a\n",
      "Problema com os tipos de dados inseridos.\n",
      "Volte sempre!\n"
     ]
    }
   ],
   "source": [
    "# Erro de divisão por zero.\n",
    "try:\n",
    "    n = int(input(\"Numerador: \"))\n",
    "    d = int(input(\"Denominador: \"))\n",
    "    r = n / d\n",
    "except (ValueError, TypeError):\n",
    "    print(\"Problema com os tipos de dados inseridos.\")\n",
    "else:\n",
    "    print(f\"O resultado é {r:.1f}\")\n",
    "finally:\n",
    "    print(\"Volte sempre!\")"
   ]
  },
  {
   "cell_type": "code",
   "execution_count": 20,
   "id": "029c8426",
   "metadata": {},
   "outputs": [
    {
     "name": "stdout",
     "output_type": "stream",
     "text": [
      "O usuario preferiu não digitar.\n",
      "Volte sempre!\n"
     ]
    }
   ],
   "source": [
    "# Erro de divisão por zero.\n",
    "try:\n",
    "    n = int(input(\"Numerador: \"))\n",
    "    d = int(input(\"Denominador: \"))\n",
    "    r = n / d\n",
    "except KeyboardInterrupt:\n",
    "    print(\"O usuario preferiu não digitar.\")\n",
    "else:\n",
    "    print(f\"O resultado é {r:.1f}\")\n",
    "finally:\n",
    "    print(\"Volte sempre!\")"
   ]
  }
 ],
 "metadata": {
  "kernelspec": {
   "display_name": "Python 3 (ipykernel)",
   "language": "python",
   "name": "python3"
  },
  "language_info": {
   "codemirror_mode": {
    "name": "ipython",
    "version": 3
   },
   "file_extension": ".py",
   "mimetype": "text/x-python",
   "name": "python",
   "nbconvert_exporter": "python",
   "pygments_lexer": "ipython3",
   "version": "3.11.5"
  }
 },
 "nbformat": 4,
 "nbformat_minor": 5
}
