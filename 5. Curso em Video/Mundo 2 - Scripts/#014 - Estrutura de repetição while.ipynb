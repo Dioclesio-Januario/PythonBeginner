{
 "cells": [
  {
   "cell_type": "code",
   "execution_count": 9,
   "id": "dccce013",
   "metadata": {},
   "outputs": [
    {
     "name": "stdout",
     "output_type": "stream",
     "text": [
      "Escolha inválida!\n",
      "Digite M/F\n",
      "Sexo: m\n",
      "\n",
      "Cadastrado com sucesso!\n",
      "Sexo M.\n"
     ]
    }
   ],
   "source": [
    "#057. Validação de dados.\n",
    "sexo = \"Q\"\n",
    "while sexo not in \"MF\":\n",
    "    print(\"Escolha inválida!\")\n",
    "    print(\"Digite M/F\")\n",
    "    sexo = input(\"Sexo: \").upper()\n",
    "    print()\n",
    "\n",
    "print(\"Cadastrado com sucesso!\")\n",
    "print(\"Sexo {}.\".format(sexo))"
   ]
  },
  {
   "cell_type": "code",
   "execution_count": 8,
   "id": "82f17a59",
   "metadata": {},
   "outputs": [
    {
     "name": "stdout",
     "output_type": "stream",
     "text": [
      "Digite um número: 1\n",
      "Digite um número: 2\n",
      "Digite um número: 999\n",
      "A soma vale 3\n",
      "A soma vale 3\n",
      "A soma vale 3\n",
      "A soma vale          3\n",
      "A soma vale     3     \n",
      "A soma vale ----3-----\n"
     ]
    }
   ],
   "source": [
    "# Interrompendo repetição com break.\n",
    "n = s = 0\n",
    "while True:\n",
    "    n = int(input(\"Digite um número: \"))\n",
    "    if n == 999:\n",
    "        break\n",
    "    s += n\n",
    "print(\"A soma vale %d\" %s)                       # Python 2.\n",
    "print(\"A soma vale {}\".format(s))                # Python 3.\n",
    "print(f\"A soma vale {s}\")                        # Python 3.6 (f string).\n",
    "print(f\"A soma vale {s:10}\")                     # Com 10 espaços antes.\n",
    "print(f\"A soma vale {s:^10}\")                    # Centraliza, 10 espaços antes e depois.\n",
    "print(f\"A soma vale {s:-^10}\")"
   ]
  },
  {
   "cell_type": "code",
   "execution_count": 97,
   "id": "86c9cc70",
   "metadata": {},
   "outputs": [
    {
     "name": "stdout",
     "output_type": "stream",
     "text": [
      "Idade: 12\n",
      "Sexo (M/F): m\n",
      "Quer continuar (S/N)? s\n",
      "Idade: 18\n",
      "Sexo (M/F): m\n",
      "Quer continuar (S/N)? s\n",
      "Idade: 12\n",
      "Sexo (M/F): f\n",
      "Quer continuar (S/N)? s\n",
      "Idade: 18\n",
      "Sexo (M/F): f\n",
      "Quer continuar (S/N)? n\n",
      "Total de pessoas: 4\n",
      "Total de homens: 2\n",
      "Total de mulheres: 2\n",
      "Total de pessoas com 18 ou mais: 2\n",
      "Total de homens com 18 ou mais: 1\n",
      "Total de mulheres com 18 ou mais: 1\n"
     ]
    }
   ],
   "source": [
    "#069. Análise de dados do grupo.\n",
    "pessoas = []\n",
    "pessoas_mais_17 = []\n",
    "homem = []\n",
    "mulher = []\n",
    "homem_mais_17 = []\n",
    "mulher_mais_17 = []\n",
    "\n",
    "while True:\n",
    "    idade = int(input(\"Idade: \"))\n",
    "    if idade >= 18:\n",
    "        pessoas_mais_17.append(idade)\n",
    "    sexo = \" \"\n",
    "    while sexo not in \"MF\":\n",
    "        sexo = input(\"Sexo (M/F): \").strip().upper()[0]\n",
    "        if sexo == \"M\":\n",
    "            homem.append(sexo)\n",
    "            if idade >= 18:\n",
    "                homem_mais_17.append(idade)\n",
    "        else:\n",
    "            mulher.append(sexo)\n",
    "            if idade >= 18:\n",
    "                mulher_mais_17.append(idade)\n",
    "    pessoas.append(sexo)\n",
    "        \n",
    "    resp = \" \"\n",
    "    while resp not in \"SN\":\n",
    "        resp = str(input(\"Quer continuar (S/N)? \")).strip().upper()[0]\n",
    "    if resp == \"N\":\n",
    "        break\n",
    "\n",
    "print(f\"Total de pessoas: {len(pessoas)}\")\n",
    "print(f\"Total de homens: {len(homem)}\")\n",
    "print(f\"Total de mulheres: {len(mulher)}\")\n",
    "print(f\"Total de pessoas com 18 ou mais: {len(pessoas_mais_17)}\")\n",
    "print(f\"Total de homens com 18 ou mais: {len(homem_mais_17)}\")\n",
    "print(f\"Total de mulheres com 18 ou mais: {len(mulher_mais_17)}\")\n",
    "\n",
    "\n",
    "# Ou usar contador, sem necessidade de listas... (fora: total = 0; dentro: tot += 1)."
   ]
  },
  {
   "cell_type": "code",
   "execution_count": 95,
   "id": "e471f97a",
   "metadata": {},
   "outputs": [
    {
     "data": {
      "text/plain": [
       "[18]"
      ]
     },
     "execution_count": 95,
     "metadata": {},
     "output_type": "execute_result"
    }
   ],
   "source": [
    "mulher_mais_17"
   ]
  },
  {
   "cell_type": "code",
   "execution_count": null,
   "id": "11720842",
   "metadata": {},
   "outputs": [],
   "source": []
  },
  {
   "cell_type": "code",
   "execution_count": null,
   "id": "2890876c",
   "metadata": {},
   "outputs": [],
   "source": []
  },
  {
   "cell_type": "code",
   "execution_count": null,
   "id": "4c99e71e",
   "metadata": {},
   "outputs": [],
   "source": []
  },
  {
   "cell_type": "code",
   "execution_count": null,
   "id": "106457a4",
   "metadata": {},
   "outputs": [],
   "source": []
  },
  {
   "cell_type": "code",
   "execution_count": null,
   "id": "f67503a9",
   "metadata": {},
   "outputs": [],
   "source": []
  }
 ],
 "metadata": {
  "kernelspec": {
   "display_name": "Python 3 (ipykernel)",
   "language": "python",
   "name": "python3"
  },
  "language_info": {
   "codemirror_mode": {
    "name": "ipython",
    "version": 3
   },
   "file_extension": ".py",
   "mimetype": "text/x-python",
   "name": "python",
   "nbconvert_exporter": "python",
   "pygments_lexer": "ipython3",
   "version": "3.11.5"
  }
 },
 "nbformat": 4,
 "nbformat_minor": 5
}
