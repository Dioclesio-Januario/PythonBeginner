{
 "cells": [
  {
   "cell_type": "code",
   "execution_count": 33,
   "id": "25a33f17",
   "metadata": {},
   "outputs": [
    {
     "name": "stdout",
     "output_type": "stream",
     "text": [
      "1\n",
      "Hello world!\n",
      "2\n",
      "Hello world!\n",
      "3\n",
      "Hello world!\n",
      "4\n",
      "Hello world!\n",
      "5\n",
      "Hello world!\n",
      "------------\n",
      "1\n",
      "Olá mundo!\n",
      "3\n",
      "Olá mundo!\n",
      "5\n",
      "Olá mundo!\n"
     ]
    }
   ],
   "source": [
    "# (Início, fim)\n",
    "for a in range(1, 6):\n",
    "    print(a)\n",
    "    print(\"Hello world!\")\n",
    "print(\"-\"*12)\n",
    "\n",
    "# (Inicio, fim, passo [pra frente = +] [pra trás = -]).\n",
    "for a in range(1, 6, 2):\n",
    "    print(a)\n",
    "    print(\"Olá mundo!\")\n"
   ]
  },
  {
   "cell_type": "code",
   "execution_count": 18,
   "id": "afa3d6f9",
   "metadata": {},
   "outputs": [
    {
     "name": "stdout",
     "output_type": "stream",
     "text": [
      "1\n",
      "2\n",
      "3\n",
      "4\n",
      "5\n",
      "6\n",
      "7\n",
      "8\n",
      "---\n",
      "2\n",
      "4\n",
      "6\n",
      "8\n"
     ]
    }
   ],
   "source": [
    "# Imprimindo elementos de uma lista.\n",
    "L = [1, 2, 3, 4, 5, 6, 7, 8]\n",
    "\n",
    "for a in L:\n",
    "    print(a)\n",
    "    \n",
    "print(\"-\"*3)\n",
    "\n",
    "for a in L:\n",
    "    if a % 2 == 0:\n",
    "        print(a)"
   ]
  },
  {
   "cell_type": "code",
   "execution_count": 20,
   "id": "058ae5ce",
   "metadata": {},
   "outputs": [
    {
     "name": "stdout",
     "output_type": "stream",
     "text": [
      "Digite o fim da contagem: 2\n",
      "0\n",
      "1\n",
      "2\n"
     ]
    }
   ],
   "source": [
    "# Imprimindo até um cero número.\n",
    "n = int(input(\"Digite o fim da contagem: \"))\n",
    "\n",
    "for a in range(0, n + 1):\n",
    "    print(a)"
   ]
  },
  {
   "cell_type": "code",
   "execution_count": 29,
   "id": "c249669f",
   "metadata": {},
   "outputs": [
    {
     "name": "stdout",
     "output_type": "stream",
     "text": [
      "Digite a contagem: 3\n",
      "3\n",
      "2\n",
      "1\n",
      "FOGOOO!!!\n"
     ]
    }
   ],
   "source": [
    "# Countdown.\n",
    "from time import sleep\n",
    "\n",
    "n = int(input(\"Digite a contagem: \"))\n",
    "\n",
    "for a in range(n, 0, -1):\n",
    "    print(a)\n",
    "    sleep(1)\n",
    "    \n",
    "print(\"FOGOOO!!!\")"
   ]
  },
  {
   "cell_type": "code",
   "execution_count": 39,
   "id": "19321fe6",
   "metadata": {},
   "outputs": [
    {
     "name": "stdout",
     "output_type": "stream",
     "text": [
      "Início: 0\n",
      "Fim: 1001\n",
      "Passo: 100\n",
      "0\n",
      "100\n",
      "200\n",
      "300\n",
      "400\n",
      "500\n",
      "600\n",
      "700\n",
      "800\n",
      "900\n",
      "1000\n",
      "FIM!\n"
     ]
    }
   ],
   "source": [
    "# Indicando início e fim.\n",
    "inicio = int(input(\"Início: \"))\n",
    "fim = int(input(\"Fim: \"))\n",
    "passo = int(input(\"Passo: \"))\n",
    "\n",
    "for a in range(inicio, fim, passo):\n",
    "    print(a)\n",
    "print(\"FIM!\")"
   ]
  },
  {
   "cell_type": "code",
   "execution_count": 44,
   "id": "a94ca16a",
   "metadata": {
    "scrolled": true
   },
   "outputs": [
    {
     "name": "stdout",
     "output_type": "stream",
     "text": [
      "Testes: 2\n",
      "Nota: 15\n",
      "Nota: 13\n",
      "Média 14.00 valores\n"
     ]
    }
   ],
   "source": [
    "# Calculando a média.\n",
    "\n",
    "n = int(input(\"Testes: \"))\n",
    "\n",
    "soma = 0\n",
    "for a in range(1, n + 1):\n",
    "    nota = float(input(\"Nota: \"))\n",
    "    soma += nota\n",
    "\n",
    "print(\"Média {:.2f} valores\".format(soma/n))"
   ]
  },
  {
   "cell_type": "code",
   "execution_count": 47,
   "id": "e0840bf5",
   "metadata": {},
   "outputs": [
    {
     "name": "stdout",
     "output_type": "stream",
     "text": [
      "0\n",
      "2\n",
      "4\n",
      "6\n",
      "8\n",
      "10\n",
      "FIM!\n"
     ]
    }
   ],
   "source": [
    "#047. Contagem de pares.\n",
    "\n",
    "for a in range(0, 11):\n",
    "    if a % 2 == 0:\n",
    "        print(a)\n",
    "print(\"FIM!\")"
   ]
  },
  {
   "cell_type": "code",
   "execution_count": 51,
   "id": "cc6ee409",
   "metadata": {
    "scrolled": true
   },
   "outputs": [
    {
     "name": "stdout",
     "output_type": "stream",
     "text": [
      "== TABUADA ==\n",
      "Tabuada de: 3\n",
      "3 x 1 = 3\n",
      "3 x 2 = 6\n",
      "3 x 3 = 9\n",
      "3 x 4 = 12\n",
      "3 x 5 = 15\n",
      "3 x 6 = 18\n",
      "3 x 7 = 21\n",
      "3 x 8 = 24\n",
      "3 x 9 = 27\n",
      "3 x 10 = 30\n"
     ]
    }
   ],
   "source": [
    "#049. Tabuada v.2.0.\n",
    "print(\"== TABUADA ==\")\n",
    "n = int(input(\"Tabuada de: \"))\n",
    "\n",
    "for a in range(1, 11):\n",
    "    print(\"{} x {} = {}\".format(n, a, a*n))"
   ]
  },
  {
   "cell_type": "code",
   "execution_count": 62,
   "id": "f710f90f",
   "metadata": {
    "scrolled": true
   },
   "outputs": [
    {
     "name": "stdout",
     "output_type": "stream",
     "text": [
      "Digite o valor 1: 1\n",
      "Digite o valor 2: 2\n",
      "Digite o valor 3: 3\n",
      "Digite o valor 4: 4\n",
      "Digite o valor 5: 5\n",
      "Digite o valor 6: 6\n",
      "A soma do(s) 3 número(s) par(es) é: 12\n"
     ]
    }
   ],
   "source": [
    "#050. Soma dos pares.\n",
    "soma = 0\n",
    "pares = 1\n",
    "c = 1\n",
    "\n",
    "for a in range(1, 7):\n",
    "    n = int(input(\"Digite o valor {}: \".format(c)))\n",
    "    if n % 2 == 0:\n",
    "        soma += n\n",
    "        pares += 1\n",
    "    c += 1\n",
    "\n",
    "print(\"A soma do(s) {} número(s) par(es) é: {}\".format(pares - 1, soma))"
   ]
  },
  {
   "cell_type": "code",
   "execution_count": 104,
   "id": "622e7623",
   "metadata": {},
   "outputs": [
    {
     "name": "stdout",
     "output_type": "stream",
     "text": [
      "Digite uma frase: ana\n",
      "Temos um palindromo!\n",
      "Inverso de ANA é ANA!\n"
     ]
    }
   ],
   "source": [
    "#053. Detector de palindromo.\n",
    "s = (input(\"Digite uma frase: \")).upper().strip()\n",
    "s = s.split()\n",
    "s = \"\".join(s)\n",
    "inverso = \"\"\n",
    "\n",
    "for letra in range(len(s) - 1, -1, -1):\n",
    "    inverso += s[letra]\n",
    "\n",
    "if inverso == s:\n",
    "    print(\"Temos um palindromo!\")\n",
    "    print(\"Inverso de {} é {}!\".format(s, inverso))\n",
    "else:\n",
    "    print(\"Não é um palindromo!\")\n",
    "    print(\"Inverso de {} é {}!\".format(s, inverso))    "
   ]
  }
 ],
 "metadata": {
  "kernelspec": {
   "display_name": "Python 3 (ipykernel)",
   "language": "python",
   "name": "python3"
  },
  "language_info": {
   "codemirror_mode": {
    "name": "ipython",
    "version": 3
   },
   "file_extension": ".py",
   "mimetype": "text/x-python",
   "name": "python",
   "nbconvert_exporter": "python",
   "pygments_lexer": "ipython3",
   "version": "3.11.5"
  }
 },
 "nbformat": 4,
 "nbformat_minor": 5
}
