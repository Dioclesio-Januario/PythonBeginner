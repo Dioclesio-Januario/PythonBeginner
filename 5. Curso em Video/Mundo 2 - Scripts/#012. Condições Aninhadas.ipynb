{
 "cells": [
  {
   "cell_type": "code",
   "execution_count": 16,
   "id": "c448f1ff",
   "metadata": {
    "scrolled": true
   },
   "outputs": [
    {
     "name": "stdout",
     "output_type": "stream",
     "text": [
      "Qual o valor da casa? 120000\n",
      "Qual o salário? 1500\n",
      "Para pagar em quantos anos? 10\n",
      "Empréstimo negado!\n",
      "Prestação: 1000\n"
     ]
    }
   ],
   "source": [
    "#036. Aprovando emprestimo.\n",
    "valor = float(input(\"Qual o valor da casa (MZN)? \"))\n",
    "salario = float(input(\"Qual o salário (MZN)? \"))\n",
    "anos = int(input(\"Para pagar em quantos anos? \"))\n",
    "\n",
    "prestacao = valor/(anos*12)\n",
    "\n",
    "if prestacao > salario*0.3:\n",
    "    print(\"Empréstimo negado!\")\n",
    "else:\n",
    "    print (\"Empréstimo aceito!\")\n",
    "    \n",
    "print(\"Prestação: %d MZN\" %prestacao)"
   ]
  },
  {
   "cell_type": "code",
   "execution_count": 25,
   "id": "16649862",
   "metadata": {},
   "outputs": [
    {
     "name": "stdout",
     "output_type": "stream",
     "text": [
      "Digite um número: 23.54\n",
      "Digite outro número: 23.1\n",
      "23.54 maior que 23.10\n"
     ]
    }
   ],
   "source": [
    "#038. Comparando números.\n",
    "n1 = float(input(\"Digite um número: \"))\n",
    "n2 = float(input(\"Digite outro número: \"))\n",
    "\n",
    "if n1 > n2:\n",
    "    print(\"%0.2f maior que %0.2f\" %(n1, n2))\n",
    "elif n1 < n2:\n",
    "    print(\"%0.2f maior que %0.2f\" %(n2, n1))\n",
    "else:\n",
    "    print(\"%0.2f igual a %0.2f\" %(n1, n2))"
   ]
  },
  {
   "cell_type": "code",
   "execution_count": 29,
   "id": "5e5cfb54",
   "metadata": {},
   "outputs": [
    {
     "name": "stdout",
     "output_type": "stream",
     "text": [
      "Qual a sua idade? 35\n",
      "Já passou da hora de se alistar\n"
     ]
    }
   ],
   "source": [
    "#039. Alistamento militar.\n",
    "idade = int(input(\"Qual a sua idade? \"))\n",
    "\n",
    "if idade < 18:\n",
    "    print(\"Ainda vai se alistar\")\n",
    "elif 35 > idade >= 18:\n",
    "    print(\"Já está na hora de se alistar\")\n",
    "else:\n",
    "    print(\"Já passou da hora de se alistar\")"
   ]
  },
  {
   "cell_type": "code",
   "execution_count": 49,
   "id": "18f3e2b9",
   "metadata": {},
   "outputs": [
    {
     "name": "stdout",
     "output_type": "stream",
     "text": [
      "========== ARDUSTORE ==========\n",
      "Valor a pagar (MZN): 10\n",
      "[1] Pagamento a vista, dinheiro\n",
      "[2] Pagamento a vista, cartão \n",
      "[3] Em até 2x, cartão\n",
      "[4] Em 3x ou mais, cartão\n",
      "Método de pagamento: 5\n"
     ]
    }
   ],
   "source": [
    "#044. Gerenciador de pagamentos.\n",
    "from time import sleep\n",
    "\n",
    "print(\"=\"*10, \"ARDUSTORE\", \"=\"*10)\n",
    "sleep(2)\n",
    "valor = float(input(\"Valor a pagar (MZN): \"))\n",
    "\n",
    "print(\"[1] Pagamento a vista, dinheiro\")\n",
    "print(\"[2] Pagamento a vista, cartão\")\n",
    "print(\"[3] Em até 2x, cartão\")\n",
    "print(\"[4] Em 3x ou mais, cartão\")\n",
    "sleep(2)\n",
    "\n",
    "via = int(input(\"Método de pagamento: \"))\n",
    "sleep(2)\n",
    "\n",
    "if via == 1:\n",
    "    valor -= valor*0.1\n",
    "    print(\"Desconto de 10%...\")\n",
    "    print(\"Valor a pagar: %0.2f MZN\" %valor)\n",
    "elif via == 2:\n",
    "    valor -= valor*0.05\n",
    "    print(\"Desconto de 5%...\")\n",
    "    print(\"Valor a pagar: %0.2f MZN\" %valor)\n",
    "elif via == 3:\n",
    "    print(\"Valor a pagar: %0.2f MZN\" %valor)\n",
    "elif via == 4:\n",
    "    valor += valor*0.2\n",
    "    print(\"Jurus de 20%...\")\n",
    "    print(\"Valor a pagar: %0.2f MZN\" %valor)"
   ]
  },
  {
   "cell_type": "code",
   "execution_count": null,
   "id": "f6f40852",
   "metadata": {},
   "outputs": [],
   "source": [
    "#045. Game pedra, papel, tesoura.\n",
    "from random import randint\n",
    "from time import sleep\n",
    "\n",
    "print(\"=\"*10, \"PEDRA-PAPEL-TESOURA\", \"=\"*10)\n",
    "print(\"Processando...\")\n",
    "sleep(2)\n",
    "\n",
    "x = 1\n",
    "while x <= 3:\n",
    "    print(\"[1] PEDRA\")\n",
    "    print(\"[2] PAPEL\")\n",
    "    print(\"[3] TESOURA\")\n",
    "    print()\n",
    "\n",
    "    jogador = int(input(\"Escolha uma opção:\"))\n",
    "    computador = randint(1, 3)\n",
    "    \n",
    "    print(\"PEDRA\")\n",
    "    sleep(0.5)\n",
    "    print(\"PAPEL\")\n",
    "    sleep(0.5)\n",
    "    print(\"TESOURA\")\n",
    "    sleep(0.5)\n",
    "    \n",
    "    if computador == 1 and jogador == 3:\n",
    "        print(\"Computador jogou Pedra e você Tesoura.\")\n",
    "        print(\"Computador ganhou!\")\n",
    "    elif computador == 3 and jogador == 1:\n",
    "        print(\"Computador jogou Tesoura e você Pedra.\")\n",
    "        print(\"Você ganhou!\")\n",
    "    elif computador == 3 and jogador == 2:\n",
    "        print(\"Computador jogou Tesoura e você Papel.\")\n",
    "        print(\"Computador ganhou!\")\n",
    "    elif computador == 2 and jogador == 3:\n",
    "        print(\"Computador jogou Papel e você Tesoura.\")\n",
    "        print(\"Você ganhou!\")\n",
    "    elif computador == 2 and jogador == 1:\n",
    "        print(\"Computador jogou Papel e você Pedra.\")\n",
    "        print(\"Computador ganhou!\")\n",
    "    elif computador == 1 and jogador == 2:\n",
    "        print(\"Computador jogou Pedra e você Papel.\")\n",
    "        print(\"Você ganhou!\")\n",
    "    elif computador == jogador:\n",
    "        print(\"Empate!\")\n",
    "    print()\n",
    "    x += 1\n",
    "\n",
    "print()\n",
    "print()\n",
    "print()\n",
    "print(\"Terminado!!!\")"
   ]
  },
  {
   "cell_type": "code",
   "execution_count": null,
   "id": "50af920a",
   "metadata": {},
   "outputs": [],
   "source": []
  },
  {
   "cell_type": "code",
   "execution_count": null,
   "id": "25a33f17",
   "metadata": {},
   "outputs": [],
   "source": []
  },
  {
   "cell_type": "code",
   "execution_count": null,
   "id": "a94ca16a",
   "metadata": {},
   "outputs": [],
   "source": []
  },
  {
   "cell_type": "code",
   "execution_count": null,
   "id": "e0840bf5",
   "metadata": {},
   "outputs": [],
   "source": []
  }
 ],
 "metadata": {
  "kernelspec": {
   "display_name": "Python 3 (ipykernel)",
   "language": "python",
   "name": "python3"
  },
  "language_info": {
   "codemirror_mode": {
    "name": "ipython",
    "version": 3
   },
   "file_extension": ".py",
   "mimetype": "text/x-python",
   "name": "python",
   "nbconvert_exporter": "python",
   "pygments_lexer": "ipython3",
   "version": "3.11.5"
  }
 },
 "nbformat": 4,
 "nbformat_minor": 5
}
